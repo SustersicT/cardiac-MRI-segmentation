{
 "cells": [
  {
   "cell_type": "markdown",
   "id": "6e7a0db5-7f04-4845-8b11-684fe6e9f7f2",
   "metadata": {},
   "source": [
    "# 3D medical image segmentation with one slice annotation"
   ]
  },
  {
   "cell_type": "markdown",
   "id": "73ba7875-35e5-478b-b8ba-4b48e121dec7",
   "metadata": {},
   "source": [
    "This notebook shows how to use SAM 2 for interactive segmentation in 3D images. It will cover the following:\n",
    "\n",
    "- propagating a mask to get _masklets_ throughout the video"
   ]
  },
  {
   "cell_type": "code",
   "execution_count": 1,
   "id": "e5318a85-5bf7-4880-b2b3-15e4db24d796",
   "metadata": {},
   "outputs": [],
   "source": [
    "import os\n",
    "import torch\n",
    "import numpy as np\n",
    "import matplotlib.pyplot as plt\n",
    "from PIL import Image"
   ]
  },
  {
   "cell_type": "code",
   "execution_count": 2,
   "id": "08ba49d8-8c22-4eba-a2ab-46eee839287f",
   "metadata": {},
   "outputs": [],
   "source": [
    "# use bfloat16 for the entire notebook\n",
    "torch.autocast(device_type=\"cuda\", dtype=torch.bfloat16).__enter__()\n",
    "\n",
    "if torch.cuda.get_device_properties(0).major >= 8:\n",
    "    # turn on tfloat32 for Ampere GPUs (https://pytorch.org/docs/stable/notes/cuda.html#tensorfloat-32-tf32-on-ampere-devices)\n",
    "    torch.backends.cuda.matmul.allow_tf32 = True\n",
    "    torch.backends.cudnn.allow_tf32 = True"
   ]
  },
  {
   "cell_type": "markdown",
   "id": "ae8e0779-751f-4224-9b04-ed0f0b406500",
   "metadata": {},
   "source": [
    "### Loading the SAM 2 video predictor"
   ]
  },
  {
   "cell_type": "code",
   "execution_count": 3,
   "id": "f5f3245e-b4d6-418b-a42a-a67e0b3b5aec",
   "metadata": {},
   "outputs": [],
   "source": [
    "from sam2.build_sam import build_sam2_video_predictor\n",
    "\n",
    "sam2_checkpoint = \"../checkpoints/sam2_finetuned_small.pth\"\n",
    "model_cfg = \"configs/sam2/sam2_hiera_s.yaml\"\n",
    "#sam2_checkpoint = \"../checkpoints/sam2_hiera_large.pt\"\n",
    "#model_cfg = \"sam2_hiera_l.yaml\"\n",
    "\n",
    "predictor = build_sam2_video_predictor(model_cfg, sam2_checkpoint)"
   ]
  },
  {
   "cell_type": "code",
   "execution_count": 4,
   "id": "1a5320fe-06d7-45b8-b888-ae00799d07fa",
   "metadata": {},
   "outputs": [],
   "source": [
    "# def show_mask(mask, ax, obj_id=None, random_color=False):\n",
    "#     if random_color:\n",
    "#         color = np.concatenate([np.random.random(3), np.array([0.6])], axis=0)\n",
    "#     else:\n",
    "#         cmap = plt.get_cmap(\"tab10\")\n",
    "#         cmap_idx = 0 if obj_id is None else obj_id\n",
    "#         color = np.array([*cmap(cmap_idx)[:3], 0.6])\n",
    "#     h, w = mask.shape[-2:]\n",
    "#     mask_image = mask.reshape(h, w, 1) * color.reshape(1, 1, -1)\n",
    "#     ax.imshow(mask_image)\n",
    "\n",
    "# Color masks Red Green and Blue\n",
    "def show_mask(mask, ax, random_color=False):\n",
    "    # Define colors for each class (RGBA for transparency)\n",
    "    colors = {\n",
    "        0: np.array([0.0, 0.0, 0.0, 0.0]),  # Transparent background\n",
    "        1: np.array([1.0, 0.0, 0.0, 0.6]),  # Red for class 1\n",
    "        2: np.array([0.0, 1.0, 0.0, 0.6]),  # Green for class 2\n",
    "        3: np.array([0.0, 0.0, 1.0, 0.6])   # Blue for class 3\n",
    "    }\n",
    "\n",
    "    # Random color option\n",
    "    if random_color:\n",
    "        color = np.concatenate([np.random.random(3), np.array([0.6])], axis=0)\n",
    "        mask_image = mask.reshape(mask.shape[0], mask.shape[1], 1) * color.reshape(1, 1, -1)\n",
    "    else:\n",
    "        # Initialize an empty image with the same shape as the mask but with RGBA channels\n",
    "        h, w = mask.shape[-2:]\n",
    "        mask_image = np.zeros((h, w, 4))\n",
    "\n",
    "        # Apply color based on class value\n",
    "        for class_id, color in colors.items():\n",
    "            mask_image += (mask == class_id).reshape(h, w, 1) * color.reshape(1, 1, -1)\n",
    "\n",
    "    ax.imshow(mask_image)\n",
    "    ax.axis(\"off\")\n",
    "\n",
    "\n",
    "def show_points(coords, labels, ax, marker_size=200):\n",
    "    pos_points = coords[labels==1]\n",
    "    neg_points = coords[labels==0]\n",
    "    ax.scatter(pos_points[:, 0], pos_points[:, 1], color='green', marker='*', s=marker_size, edgecolor='white', linewidth=1.25)\n",
    "    ax.scatter(neg_points[:, 0], neg_points[:, 1], color='red', marker='*', s=marker_size, edgecolor='white', linewidth=1.25)"
   ]
  },
  {
   "cell_type": "code",
   "execution_count": 5,
   "id": "788116a8-adda-4a4d-9f8b-6a23921e5148",
   "metadata": {},
   "outputs": [],
   "source": [
    "# Initialize a global counter to track the color cycle\n",
    "color_cycle = [np.array([1.0, 0.0, 0.0, 0.6]),  # Red\n",
    "               np.array([0.0, 1.0, 0.0, 0.6]),  # Green\n",
    "               np.array([0.0, 0.0, 1.0, 0.6])]  # Blue\n",
    "\n",
    "color_index = 0  # Start with red\n",
    "\n",
    "def show_mask_sam(mask, ax, random_color=False):\n",
    "    global color_index  # Use the global color_index to track color\n",
    "\n",
    "    # Get the current color from the cycle\n",
    "    color = color_cycle[color_index]\n",
    "\n",
    "    # Random color option (if needed)\n",
    "    if random_color:\n",
    "        color = np.concatenate([np.random.random(3), np.array([0.6])], axis=0)\n",
    "        mask_image = mask.reshape(mask.shape[0], mask.shape[1], 1) * color.reshape(1, 1, -1)\n",
    "    else:\n",
    "        # Initialize an empty image with the same shape as the mask but with RGBA channels\n",
    "        h, w = mask.shape[-2:]\n",
    "        mask_image = np.zeros((h, w, 4))\n",
    "\n",
    "        # Apply color based on the mask class\n",
    "        mask_image += (mask == 1).reshape(h, w, 1) * color.reshape(1, 1, -1)\n",
    "\n",
    "    # Show the mask\n",
    "    ax.imshow(mask_image)\n",
    "    ax.axis(\"off\")\n",
    "\n",
    "    # Update the color cycle (move to the next color)\n",
    "    color_index = (color_index + 1) % len(color_cycle)\n"
   ]
  },
  {
   "cell_type": "markdown",
   "id": "f52015ac-1b7b-4c59-bca3-c2b28484cf46",
   "metadata": {},
   "source": [
    "SAM 2 requires stateful inference for interactive video segmentation, so we need to initialize an **inference state** on this video.\n",
    "\n",
    "During initialization, it loads all the JPEG frames in `video_path` and stores their pixels in `inference_state` (as shown in the progress bar below).\n",
    "### Propagate the prompts to get the masklet across the video\n",
    "#### Calculate Dice and IoU for all test and write csv"
   ]
  },
  {
   "cell_type": "code",
   "execution_count": 6,
   "id": "cc9f8fed-8356-415f-bc80-83721a413953",
   "metadata": {},
   "outputs": [
    {
     "name": "stdout",
     "output_type": "stream",
     "text": [
      "./MnM_output_middle/A1K2P5_ED\n"
     ]
    },
    {
     "name": "stderr",
     "output_type": "stream",
     "text": [
      "frame loading (JPEG): 100%|██████████████████████████████████████████████████████████████| 9/9 [00:00<00:00, 45.32it/s]\n",
      "propagate in video:   0%|                                                                        | 0/5 [00:00<?, ?it/s]C:\\Users\\Windows\\Desktop\\Tijana\\sam2-main\\sam2-main\\sam2\\modeling\\sam\\transformer.py:344: UserWarning: Memory efficient kernel not used because: (Triggered internally at C:\\actions-runner\\_work\\pytorch\\pytorch\\builder\\windows\\pytorch\\aten\\src\\ATen\\native\\transformers\\cuda\\sdp_utils.cpp:778.)\n",
      "  out = F.scaled_dot_product_attention(q, k, v, dropout_p=dropout_p)\n",
      "C:\\Users\\Windows\\Desktop\\Tijana\\sam2-main\\sam2-main\\sam2\\modeling\\sam\\transformer.py:344: UserWarning: Memory Efficient attention has been runtime disabled. (Triggered internally at C:\\actions-runner\\_work\\pytorch\\pytorch\\builder\\windows\\pytorch\\aten\\src\\ATen/native/transformers/sdp_utils_cpp.h:558.)\n",
      "  out = F.scaled_dot_product_attention(q, k, v, dropout_p=dropout_p)\n",
      "C:\\Users\\Windows\\Desktop\\Tijana\\sam2-main\\sam2-main\\sam2\\modeling\\sam\\transformer.py:344: UserWarning: Flash attention kernel not used because: (Triggered internally at C:\\actions-runner\\_work\\pytorch\\pytorch\\builder\\windows\\pytorch\\aten\\src\\ATen\\native\\transformers\\cuda\\sdp_utils.cpp:780.)\n",
      "  out = F.scaled_dot_product_attention(q, k, v, dropout_p=dropout_p)\n",
      "C:\\Users\\Windows\\Desktop\\Tijana\\sam2-main\\sam2-main\\sam2\\modeling\\sam\\transformer.py:344: UserWarning: Torch was not compiled with flash attention. (Triggered internally at C:\\actions-runner\\_work\\pytorch\\pytorch\\builder\\windows\\pytorch\\aten\\src\\ATen\\native\\transformers\\cuda\\sdp_utils.cpp:604.)\n",
      "  out = F.scaled_dot_product_attention(q, k, v, dropout_p=dropout_p)\n",
      "C:\\Users\\Windows\\Desktop\\Tijana\\sam2-main\\sam2-main\\sam2\\modeling\\sam\\transformer.py:344: UserWarning: CuDNN attention kernel not used because: (Triggered internally at C:\\actions-runner\\_work\\pytorch\\pytorch\\builder\\windows\\pytorch\\aten\\src\\ATen\\native\\transformers\\cuda\\sdp_utils.cpp:782.)\n",
      "  out = F.scaled_dot_product_attention(q, k, v, dropout_p=dropout_p)\n",
      "C:\\Users\\Windows\\Desktop\\Tijana\\sam2-main\\sam2-main\\sam2\\modeling\\sam\\transformer.py:344: UserWarning: head_dim should be no more than 128 (Triggered internally at C:\\actions-runner\\_work\\pytorch\\pytorch\\builder\\windows\\pytorch\\aten\\src\\ATen\\native\\transformers\\cuda\\sdp_utils.cpp:386.)\n",
      "  out = F.scaled_dot_product_attention(q, k, v, dropout_p=dropout_p)\n",
      "C:\\Users\\Windows\\anaconda3\\envs\\medsam2\\Lib\\site-packages\\torch\\nn\\modules\\module.py:1747: UserWarning: Flash Attention kernel failed due to: No available kernel. Aborting execution.\n",
      "Falling back to all available kernels for scaled_dot_product_attention (which may have a slower speed).\n",
      "  return forward_call(*args, **kwargs)\n",
      "propagate in video: 100%|████████████████████████████████████████████████████████████████| 5/5 [00:00<00:00, 24.20it/s]\n",
      "propagate in video: 100%|████████████████████████████████████████████████████████████████| 4/4 [00:00<00:00, 21.07it/s]\n",
      "propagate in video: 100%|████████████████████████████████████████████████████████████████| 5/5 [00:00<00:00, 31.26it/s]\n",
      "propagate in video: 100%|████████████████████████████████████████████████████████████████| 4/4 [00:00<00:00, 21.24it/s]\n",
      "propagate in video: 100%|████████████████████████████████████████████████████████████████| 5/5 [00:00<00:00, 32.02it/s]\n",
      "propagate in video: 100%|████████████████████████████████████████████████████████████████| 4/4 [00:00<00:00, 21.19it/s]\n"
     ]
    },
    {
     "name": "stdout",
     "output_type": "stream",
     "text": [
      "./MnM_output_middle/A1K2P5_ES\n"
     ]
    },
    {
     "name": "stderr",
     "output_type": "stream",
     "text": [
      "frame loading (JPEG): 100%|██████████████████████████████████████████████████████████████| 8/8 [00:00<00:00, 41.80it/s]\n",
      "propagate in video: 100%|████████████████████████████████████████████████████████████████| 4/4 [00:00<00:00, 37.11it/s]\n",
      "propagate in video: 100%|████████████████████████████████████████████████████████████████| 4/4 [00:00<00:00, 22.22it/s]\n",
      "propagate in video: 100%|████████████████████████████████████████████████████████████████| 4/4 [00:00<00:00, 33.87it/s]\n",
      "propagate in video: 100%|████████████████████████████████████████████████████████████████| 4/4 [00:00<00:00, 23.12it/s]\n",
      "propagate in video: 100%|████████████████████████████████████████████████████████████████| 4/4 [00:00<00:00, 35.05it/s]\n",
      "propagate in video: 100%|████████████████████████████████████████████████████████████████| 4/4 [00:00<00:00, 22.28it/s]\n"
     ]
    },
    {
     "name": "stdout",
     "output_type": "stream",
     "text": [
      "./MnM_output_middle/A2H5K9_ED\n"
     ]
    },
    {
     "name": "stderr",
     "output_type": "stream",
     "text": [
      "frame loading (JPEG): 100%|██████████████████████████████████████████████████████████████| 9/9 [00:00<00:00, 45.19it/s]\n",
      "propagate in video: 100%|████████████████████████████████████████████████████████████████| 5/5 [00:00<00:00, 29.65it/s]\n",
      "propagate in video: 100%|████████████████████████████████████████████████████████████████| 4/4 [00:00<00:00, 22.09it/s]\n",
      "propagate in video: 100%|████████████████████████████████████████████████████████████████| 5/5 [00:00<00:00, 31.72it/s]\n",
      "propagate in video: 100%|████████████████████████████████████████████████████████████████| 4/4 [00:00<00:00, 21.94it/s]\n",
      "propagate in video: 100%|████████████████████████████████████████████████████████████████| 5/5 [00:00<00:00, 31.57it/s]\n",
      "propagate in video: 100%|████████████████████████████████████████████████████████████████| 4/4 [00:00<00:00, 22.21it/s]\n"
     ]
    },
    {
     "name": "stdout",
     "output_type": "stream",
     "text": [
      "./MnM_output_middle/A2H5K9_ES\n"
     ]
    },
    {
     "name": "stderr",
     "output_type": "stream",
     "text": [
      "frame loading (JPEG): 100%|██████████████████████████████████████████████████████████████| 7/7 [00:00<00:00, 48.02it/s]\n",
      "propagate in video: 100%|████████████████████████████████████████████████████████████████| 4/4 [00:00<00:00, 35.14it/s]\n",
      "propagate in video: 100%|████████████████████████████████████████████████████████████████| 3/3 [00:00<00:00, 24.63it/s]\n",
      "propagate in video: 100%|████████████████████████████████████████████████████████████████| 4/4 [00:00<00:00, 37.45it/s]\n",
      "propagate in video: 100%|████████████████████████████████████████████████████████████████| 3/3 [00:00<00:00, 22.83it/s]\n",
      "propagate in video: 100%|████████████████████████████████████████████████████████████████| 4/4 [00:00<00:00, 31.81it/s]\n",
      "propagate in video: 100%|████████████████████████████████████████████████████████████████| 3/3 [00:00<00:00, 22.56it/s]\n"
     ]
    },
    {
     "name": "stdout",
     "output_type": "stream",
     "text": [
      "./MnM_output_middle/A2L1N6_ED\n"
     ]
    },
    {
     "name": "stderr",
     "output_type": "stream",
     "text": [
      "frame loading (JPEG): 100%|██████████████████████████████████████████████████████████████| 8/8 [00:00<00:00, 48.88it/s]\n",
      "propagate in video: 100%|████████████████████████████████████████████████████████████████| 4/4 [00:00<00:00, 34.09it/s]\n",
      "propagate in video: 100%|████████████████████████████████████████████████████████████████| 4/4 [00:00<00:00, 21.63it/s]\n",
      "propagate in video: 100%|████████████████████████████████████████████████████████████████| 4/4 [00:00<00:00, 35.34it/s]\n",
      "propagate in video: 100%|████████████████████████████████████████████████████████████████| 4/4 [00:00<00:00, 21.92it/s]\n",
      "propagate in video: 100%|████████████████████████████████████████████████████████████████| 4/4 [00:00<00:00, 33.31it/s]\n",
      "propagate in video: 100%|████████████████████████████████████████████████████████████████| 4/4 [00:00<00:00, 22.51it/s]\n"
     ]
    },
    {
     "name": "stdout",
     "output_type": "stream",
     "text": [
      "./MnM_output_middle/A2L1N6_ES\n"
     ]
    },
    {
     "name": "stderr",
     "output_type": "stream",
     "text": [
      "frame loading (JPEG): 100%|██████████████████████████████████████████████████████████████| 7/7 [00:00<00:00, 45.01it/s]\n",
      "propagate in video: 100%|████████████████████████████████████████████████████████████████| 4/4 [00:00<00:00, 35.69it/s]\n",
      "propagate in video: 100%|████████████████████████████████████████████████████████████████| 3/3 [00:00<00:00, 23.47it/s]\n",
      "propagate in video: 100%|████████████████████████████████████████████████████████████████| 4/4 [00:00<00:00, 33.10it/s]\n",
      "propagate in video: 100%|████████████████████████████████████████████████████████████████| 3/3 [00:00<00:00, 22.21it/s]\n",
      "propagate in video: 100%|████████████████████████████████████████████████████████████████| 4/4 [00:00<00:00, 33.45it/s]\n",
      "propagate in video: 100%|████████████████████████████████████████████████████████████████| 3/3 [00:00<00:00, 22.84it/s]\n"
     ]
    },
    {
     "name": "stdout",
     "output_type": "stream",
     "text": [
      "./MnM_output_middle/A3H5R1_ED\n"
     ]
    },
    {
     "name": "stderr",
     "output_type": "stream",
     "text": [
      "frame loading (JPEG): 100%|██████████████████████████████████████████████████████████████| 7/7 [00:00<00:00, 48.81it/s]\n",
      "propagate in video: 100%|████████████████████████████████████████████████████████████████| 4/4 [00:00<00:00, 35.10it/s]\n",
      "propagate in video: 100%|████████████████████████████████████████████████████████████████| 3/3 [00:00<00:00, 23.04it/s]\n",
      "propagate in video: 100%|████████████████████████████████████████████████████████████████| 4/4 [00:00<00:00, 35.57it/s]\n",
      "propagate in video: 100%|████████████████████████████████████████████████████████████████| 3/3 [00:00<00:00, 22.48it/s]\n",
      "propagate in video: 100%|████████████████████████████████████████████████████████████████| 4/4 [00:00<00:00, 35.70it/s]\n",
      "propagate in video: 100%|████████████████████████████████████████████████████████████████| 3/3 [00:00<00:00, 22.38it/s]\n"
     ]
    },
    {
     "name": "stdout",
     "output_type": "stream",
     "text": [
      "./MnM_output_middle/A3H5R1_ES\n"
     ]
    },
    {
     "name": "stderr",
     "output_type": "stream",
     "text": [
      "frame loading (JPEG): 100%|██████████████████████████████████████████████████████████████| 6/6 [00:00<00:00, 52.23it/s]\n",
      "propagate in video: 100%|████████████████████████████████████████████████████████████████| 3/3 [00:00<00:00, 39.01it/s]\n",
      "propagate in video: 100%|████████████████████████████████████████████████████████████████| 3/3 [00:00<00:00, 23.93it/s]\n",
      "propagate in video: 100%|████████████████████████████████████████████████████████████████| 3/3 [00:00<00:00, 38.27it/s]\n",
      "propagate in video: 100%|████████████████████████████████████████████████████████████████| 3/3 [00:00<00:00, 24.02it/s]\n",
      "propagate in video: 100%|████████████████████████████████████████████████████████████████| 3/3 [00:00<00:00, 39.08it/s]\n",
      "propagate in video: 100%|████████████████████████████████████████████████████████████████| 3/3 [00:00<00:00, 24.11it/s]\n"
     ]
    },
    {
     "name": "stdout",
     "output_type": "stream",
     "text": [
      "./MnM_output_middle/A3P9V7_ED\n"
     ]
    },
    {
     "name": "stderr",
     "output_type": "stream",
     "text": [
      "frame loading (JPEG): 100%|██████████████████████████████████████████████████████████████| 8/8 [00:00<00:00, 50.37it/s]\n",
      "propagate in video: 100%|████████████████████████████████████████████████████████████████| 4/4 [00:00<00:00, 32.51it/s]\n",
      "propagate in video: 100%|████████████████████████████████████████████████████████████████| 4/4 [00:00<00:00, 22.00it/s]\n",
      "propagate in video: 100%|████████████████████████████████████████████████████████████████| 4/4 [00:00<00:00, 35.57it/s]\n",
      "propagate in video: 100%|████████████████████████████████████████████████████████████████| 4/4 [00:00<00:00, 22.16it/s]\n",
      "propagate in video: 100%|████████████████████████████████████████████████████████████████| 4/4 [00:00<00:00, 33.78it/s]\n",
      "propagate in video: 100%|████████████████████████████████████████████████████████████████| 4/4 [00:00<00:00, 22.32it/s]\n"
     ]
    },
    {
     "name": "stdout",
     "output_type": "stream",
     "text": [
      "./MnM_output_middle/A3P9V7_ES\n"
     ]
    },
    {
     "name": "stderr",
     "output_type": "stream",
     "text": [
      "frame loading (JPEG): 100%|██████████████████████████████████████████████████████████████| 7/7 [00:00<00:00, 50.27it/s]\n",
      "propagate in video: 100%|████████████████████████████████████████████████████████████████| 4/4 [00:00<00:00, 36.99it/s]\n",
      "propagate in video: 100%|████████████████████████████████████████████████████████████████| 3/3 [00:00<00:00, 23.28it/s]\n",
      "propagate in video: 100%|████████████████████████████████████████████████████████████████| 4/4 [00:00<00:00, 38.18it/s]\n",
      "propagate in video: 100%|████████████████████████████████████████████████████████████████| 3/3 [00:00<00:00, 23.16it/s]\n",
      "propagate in video: 100%|████████████████████████████████████████████████████████████████| 4/4 [00:00<00:00, 37.65it/s]\n",
      "propagate in video: 100%|████████████████████████████████████████████████████████████████| 3/3 [00:00<00:00, 21.91it/s]\n"
     ]
    },
    {
     "name": "stdout",
     "output_type": "stream",
     "text": [
      "./MnM_output_middle/A4A8V9_ED\n"
     ]
    },
    {
     "name": "stderr",
     "output_type": "stream",
     "text": [
      "frame loading (JPEG): 100%|████████████████████████████████████████████████████████████| 10/10 [00:00<00:00, 46.85it/s]\n",
      "propagate in video: 100%|████████████████████████████████████████████████████████████████| 5/5 [00:00<00:00, 31.75it/s]\n",
      "propagate in video: 100%|████████████████████████████████████████████████████████████████| 5/5 [00:00<00:00, 21.92it/s]\n",
      "propagate in video: 100%|████████████████████████████████████████████████████████████████| 5/5 [00:00<00:00, 31.35it/s]\n",
      "propagate in video: 100%|████████████████████████████████████████████████████████████████| 5/5 [00:00<00:00, 23.01it/s]\n",
      "propagate in video: 100%|████████████████████████████████████████████████████████████████| 5/5 [00:00<00:00, 33.33it/s]\n",
      "propagate in video: 100%|████████████████████████████████████████████████████████████████| 5/5 [00:00<00:00, 22.01it/s]\n"
     ]
    },
    {
     "name": "stdout",
     "output_type": "stream",
     "text": [
      "./MnM_output_middle/A4A8V9_ES\n"
     ]
    },
    {
     "name": "stderr",
     "output_type": "stream",
     "text": [
      "frame loading (JPEG): 100%|██████████████████████████████████████████████████████████████| 9/9 [00:00<00:00, 50.52it/s]\n",
      "propagate in video: 100%|████████████████████████████████████████████████████████████████| 5/5 [00:00<00:00, 33.10it/s]\n",
      "propagate in video: 100%|████████████████████████████████████████████████████████████████| 4/4 [00:00<00:00, 21.89it/s]\n",
      "propagate in video: 100%|████████████████████████████████████████████████████████████████| 5/5 [00:00<00:00, 33.34it/s]\n",
      "propagate in video: 100%|████████████████████████████████████████████████████████████████| 4/4 [00:00<00:00, 22.89it/s]\n",
      "propagate in video: 100%|████████████████████████████████████████████████████████████████| 5/5 [00:00<00:00, 31.51it/s]\n",
      "propagate in video: 100%|████████████████████████████████████████████████████████████████| 4/4 [00:00<00:00, 22.96it/s]\n"
     ]
    },
    {
     "name": "stdout",
     "output_type": "stream",
     "text": [
      "./MnM_output_middle/A4B9O6_ED\n"
     ]
    },
    {
     "name": "stderr",
     "output_type": "stream",
     "text": [
      "frame loading (JPEG): 100%|██████████████████████████████████████████████████████████████| 8/8 [00:00<00:00, 44.01it/s]\n",
      "propagate in video: 100%|████████████████████████████████████████████████████████████████| 4/4 [00:00<00:00, 35.67it/s]\n",
      "propagate in video: 100%|████████████████████████████████████████████████████████████████| 4/4 [00:00<00:00, 23.39it/s]\n",
      "propagate in video: 100%|████████████████████████████████████████████████████████████████| 4/4 [00:00<00:00, 37.80it/s]\n",
      "propagate in video: 100%|████████████████████████████████████████████████████████████████| 4/4 [00:00<00:00, 23.13it/s]\n",
      "propagate in video: 100%|████████████████████████████████████████████████████████████████| 4/4 [00:00<00:00, 41.55it/s]\n",
      "propagate in video: 100%|████████████████████████████████████████████████████████████████| 4/4 [00:00<00:00, 23.07it/s]\n"
     ]
    },
    {
     "name": "stdout",
     "output_type": "stream",
     "text": [
      "./MnM_output_middle/A4B9O6_ES\n"
     ]
    },
    {
     "name": "stderr",
     "output_type": "stream",
     "text": [
      "frame loading (JPEG): 100%|██████████████████████████████████████████████████████████████| 7/7 [00:00<00:00, 43.97it/s]\n",
      "propagate in video: 100%|████████████████████████████████████████████████████████████████| 4/4 [00:00<00:00, 35.71it/s]\n",
      "propagate in video: 100%|████████████████████████████████████████████████████████████████| 3/3 [00:00<00:00, 23.25it/s]\n",
      "propagate in video: 100%|████████████████████████████████████████████████████████████████| 4/4 [00:00<00:00, 33.60it/s]\n",
      "propagate in video: 100%|████████████████████████████████████████████████████████████████| 3/3 [00:00<00:00, 24.20it/s]\n",
      "propagate in video: 100%|████████████████████████████████████████████████████████████████| 4/4 [00:00<00:00, 35.35it/s]\n",
      "propagate in video: 100%|████████████████████████████████████████████████████████████████| 3/3 [00:00<00:00, 24.49it/s]\n"
     ]
    },
    {
     "name": "stdout",
     "output_type": "stream",
     "text": [
      "./MnM_output_middle/A4K8R4_ED\n"
     ]
    },
    {
     "name": "stderr",
     "output_type": "stream",
     "text": [
      "frame loading (JPEG): 100%|████████████████████████████████████████████████████████████| 10/10 [00:00<00:00, 43.37it/s]\n",
      "propagate in video: 100%|████████████████████████████████████████████████████████████████| 5/5 [00:00<00:00, 33.86it/s]\n",
      "propagate in video: 100%|████████████████████████████████████████████████████████████████| 5/5 [00:00<00:00, 22.93it/s]\n",
      "propagate in video: 100%|████████████████████████████████████████████████████████████████| 5/5 [00:00<00:00, 31.62it/s]\n",
      "propagate in video: 100%|████████████████████████████████████████████████████████████████| 5/5 [00:00<00:00, 23.17it/s]\n",
      "propagate in video: 100%|████████████████████████████████████████████████████████████████| 5/5 [00:00<00:00, 32.64it/s]\n",
      "propagate in video: 100%|████████████████████████████████████████████████████████████████| 5/5 [00:00<00:00, 22.77it/s]\n"
     ]
    },
    {
     "name": "stdout",
     "output_type": "stream",
     "text": [
      "./MnM_output_middle/A4K8R4_ES\n"
     ]
    },
    {
     "name": "stderr",
     "output_type": "stream",
     "text": [
      "frame loading (JPEG): 100%|██████████████████████████████████████████████████████████████| 9/9 [00:00<00:00, 42.82it/s]\n",
      "propagate in video: 100%|████████████████████████████████████████████████████████████████| 5/5 [00:00<00:00, 33.20it/s]\n",
      "propagate in video: 100%|████████████████████████████████████████████████████████████████| 4/4 [00:00<00:00, 22.55it/s]\n",
      "propagate in video: 100%|████████████████████████████████████████████████████████████████| 5/5 [00:00<00:00, 33.66it/s]\n",
      "propagate in video: 100%|████████████████████████████████████████████████████████████████| 4/4 [00:00<00:00, 22.62it/s]\n",
      "propagate in video: 100%|████████████████████████████████████████████████████████████████| 5/5 [00:00<00:00, 33.93it/s]\n",
      "propagate in video: 100%|████████████████████████████████████████████████████████████████| 4/4 [00:00<00:00, 23.34it/s]\n"
     ]
    },
    {
     "name": "stdout",
     "output_type": "stream",
     "text": [
      "./MnM_output_middle/A4R4T0_ED\n"
     ]
    },
    {
     "name": "stderr",
     "output_type": "stream",
     "text": [
      "frame loading (JPEG): 100%|██████████████████████████████████████████████████████████████| 7/7 [00:00<00:00, 40.59it/s]\n",
      "propagate in video: 100%|████████████████████████████████████████████████████████████████| 4/4 [00:00<00:00, 33.98it/s]\n",
      "propagate in video: 100%|████████████████████████████████████████████████████████████████| 3/3 [00:00<00:00, 24.17it/s]\n",
      "propagate in video: 100%|████████████████████████████████████████████████████████████████| 4/4 [00:00<00:00, 36.38it/s]\n",
      "propagate in video: 100%|████████████████████████████████████████████████████████████████| 3/3 [00:00<00:00, 23.82it/s]\n",
      "propagate in video: 100%|████████████████████████████████████████████████████████████████| 4/4 [00:00<00:00, 35.33it/s]\n",
      "propagate in video: 100%|████████████████████████████████████████████████████████████████| 3/3 [00:00<00:00, 23.32it/s]\n"
     ]
    },
    {
     "name": "stdout",
     "output_type": "stream",
     "text": [
      "./MnM_output_middle/A4R4T0_ES\n"
     ]
    },
    {
     "name": "stderr",
     "output_type": "stream",
     "text": [
      "frame loading (JPEG): 100%|██████████████████████████████████████████████████████████████| 6/6 [00:00<00:00, 43.77it/s]\n",
      "propagate in video: 100%|████████████████████████████████████████████████████████████████| 3/3 [00:00<00:00, 40.37it/s]\n",
      "propagate in video: 100%|████████████████████████████████████████████████████████████████| 3/3 [00:00<00:00, 22.88it/s]\n",
      "propagate in video: 100%|████████████████████████████████████████████████████████████████| 3/3 [00:00<00:00, 40.33it/s]\n",
      "propagate in video: 100%|████████████████████████████████████████████████████████████████| 3/3 [00:00<00:00, 24.40it/s]\n",
      "propagate in video: 100%|████████████████████████████████████████████████████████████████| 3/3 [00:00<00:00, 43.90it/s]\n",
      "propagate in video: 100%|████████████████████████████████████████████████████████████████| 3/3 [00:00<00:00, 25.64it/s]\n"
     ]
    },
    {
     "name": "stdout",
     "output_type": "stream",
     "text": [
      "./MnM_output_middle/A5D0G0_ED\n"
     ]
    },
    {
     "name": "stderr",
     "output_type": "stream",
     "text": [
      "frame loading (JPEG): 100%|██████████████████████████████████████████████████████████████| 9/9 [00:00<00:00, 44.98it/s]\n",
      "propagate in video: 100%|████████████████████████████████████████████████████████████████| 5/5 [00:00<00:00, 31.55it/s]\n",
      "propagate in video: 100%|████████████████████████████████████████████████████████████████| 4/4 [00:00<00:00, 20.89it/s]\n",
      "propagate in video: 100%|████████████████████████████████████████████████████████████████| 5/5 [00:00<00:00, 32.43it/s]\n",
      "propagate in video: 100%|████████████████████████████████████████████████████████████████| 4/4 [00:00<00:00, 22.90it/s]\n",
      "propagate in video: 100%|████████████████████████████████████████████████████████████████| 5/5 [00:00<00:00, 24.88it/s]\n",
      "propagate in video: 100%|████████████████████████████████████████████████████████████████| 4/4 [00:00<00:00, 22.76it/s]\n"
     ]
    },
    {
     "name": "stdout",
     "output_type": "stream",
     "text": [
      "./MnM_output_middle/A5D0G0_ES\n"
     ]
    },
    {
     "name": "stderr",
     "output_type": "stream",
     "text": [
      "frame loading (JPEG): 100%|██████████████████████████████████████████████████████████████| 8/8 [00:00<00:00, 49.17it/s]\n",
      "propagate in video: 100%|████████████████████████████████████████████████████████████████| 4/4 [00:00<00:00, 33.85it/s]\n",
      "propagate in video: 100%|████████████████████████████████████████████████████████████████| 4/4 [00:00<00:00, 23.41it/s]\n",
      "propagate in video: 100%|████████████████████████████████████████████████████████████████| 4/4 [00:00<00:00, 24.18it/s]\n",
      "propagate in video: 100%|████████████████████████████████████████████████████████████████| 4/4 [00:00<00:00, 23.46it/s]\n",
      "propagate in video: 100%|████████████████████████████████████████████████████████████████| 4/4 [00:00<00:00, 40.05it/s]\n",
      "propagate in video: 100%|████████████████████████████████████████████████████████████████| 4/4 [00:00<00:00, 23.36it/s]\n"
     ]
    },
    {
     "name": "stdout",
     "output_type": "stream",
     "text": [
      "./MnM_output_middle/A5H1Q2_ED\n"
     ]
    },
    {
     "name": "stderr",
     "output_type": "stream",
     "text": [
      "frame loading (JPEG): 100%|██████████████████████████████████████████████████████████████| 8/8 [00:00<00:00, 49.56it/s]\n",
      "propagate in video: 100%|████████████████████████████████████████████████████████████████| 4/4 [00:00<00:00, 34.93it/s]\n",
      "propagate in video: 100%|████████████████████████████████████████████████████████████████| 4/4 [00:00<00:00, 24.06it/s]\n",
      "propagate in video: 100%|████████████████████████████████████████████████████████████████| 4/4 [00:00<00:00, 36.66it/s]\n",
      "propagate in video: 100%|████████████████████████████████████████████████████████████████| 4/4 [00:00<00:00, 22.71it/s]\n",
      "propagate in video: 100%|████████████████████████████████████████████████████████████████| 4/4 [00:00<00:00, 32.33it/s]\n",
      "propagate in video: 100%|████████████████████████████████████████████████████████████████| 4/4 [00:00<00:00, 23.38it/s]\n"
     ]
    },
    {
     "name": "stdout",
     "output_type": "stream",
     "text": [
      "./MnM_output_middle/A5H1Q2_ES\n"
     ]
    },
    {
     "name": "stderr",
     "output_type": "stream",
     "text": [
      "frame loading (JPEG): 100%|██████████████████████████████████████████████████████████████| 7/7 [00:00<00:00, 48.20it/s]\n",
      "propagate in video: 100%|████████████████████████████████████████████████████████████████| 4/4 [00:00<00:00, 35.25it/s]\n",
      "propagate in video: 100%|████████████████████████████████████████████████████████████████| 3/3 [00:00<00:00, 22.70it/s]\n",
      "propagate in video: 100%|████████████████████████████████████████████████████████████████| 4/4 [00:00<00:00, 36.32it/s]\n",
      "propagate in video: 100%|████████████████████████████████████████████████████████████████| 3/3 [00:00<00:00, 23.14it/s]\n",
      "propagate in video: 100%|████████████████████████████████████████████████████████████████| 4/4 [00:00<00:00, 37.12it/s]\n",
      "propagate in video: 100%|████████████████████████████████████████████████████████████████| 3/3 [00:00<00:00, 23.30it/s]\n"
     ]
    },
    {
     "name": "stdout",
     "output_type": "stream",
     "text": [
      "./MnM_output_middle/A5P5W0_ED\n"
     ]
    },
    {
     "name": "stderr",
     "output_type": "stream",
     "text": [
      "frame loading (JPEG): 100%|██████████████████████████████████████████████████████████████| 9/9 [00:00<00:00, 42.46it/s]\n",
      "propagate in video: 100%|████████████████████████████████████████████████████████████████| 5/5 [00:00<00:00, 31.57it/s]\n",
      "propagate in video: 100%|████████████████████████████████████████████████████████████████| 4/4 [00:00<00:00, 22.43it/s]\n",
      "propagate in video: 100%|████████████████████████████████████████████████████████████████| 5/5 [00:00<00:00, 33.40it/s]\n",
      "propagate in video: 100%|████████████████████████████████████████████████████████████████| 4/4 [00:00<00:00, 22.07it/s]\n",
      "propagate in video: 100%|████████████████████████████████████████████████████████████████| 5/5 [00:00<00:00, 32.09it/s]\n",
      "propagate in video: 100%|████████████████████████████████████████████████████████████████| 4/4 [00:00<00:00, 23.30it/s]\n"
     ]
    },
    {
     "name": "stdout",
     "output_type": "stream",
     "text": [
      "./MnM_output_middle/A5P5W0_ES\n"
     ]
    },
    {
     "name": "stderr",
     "output_type": "stream",
     "text": [
      "frame loading (JPEG): 100%|██████████████████████████████████████████████████████████████| 7/7 [00:00<00:00, 41.55it/s]\n",
      "propagate in video: 100%|████████████████████████████████████████████████████████████████| 4/4 [00:00<00:00, 35.14it/s]\n",
      "propagate in video: 100%|████████████████████████████████████████████████████████████████| 3/3 [00:00<00:00, 22.91it/s]\n",
      "propagate in video: 100%|████████████████████████████████████████████████████████████████| 4/4 [00:00<00:00, 35.12it/s]\n",
      "propagate in video: 100%|████████████████████████████████████████████████████████████████| 3/3 [00:00<00:00, 23.97it/s]\n",
      "propagate in video: 100%|████████████████████████████████████████████████████████████████| 4/4 [00:00<00:00, 36.39it/s]\n",
      "propagate in video: 100%|████████████████████████████████████████████████████████████████| 3/3 [00:00<00:00, 24.07it/s]\n"
     ]
    },
    {
     "name": "stdout",
     "output_type": "stream",
     "text": [
      "./MnM_output_middle/A5Q1W8_ED\n"
     ]
    },
    {
     "name": "stderr",
     "output_type": "stream",
     "text": [
      "frame loading (JPEG): 100%|████████████████████████████████████████████████████████████| 11/11 [00:00<00:00, 40.46it/s]\n",
      "propagate in video: 100%|████████████████████████████████████████████████████████████████| 6/6 [00:00<00:00, 30.23it/s]\n",
      "propagate in video: 100%|████████████████████████████████████████████████████████████████| 5/5 [00:00<00:00, 22.51it/s]\n",
      "propagate in video: 100%|████████████████████████████████████████████████████████████████| 6/6 [00:00<00:00, 30.74it/s]\n",
      "propagate in video: 100%|████████████████████████████████████████████████████████████████| 5/5 [00:00<00:00, 22.72it/s]\n",
      "propagate in video: 100%|████████████████████████████████████████████████████████████████| 6/6 [00:00<00:00, 30.28it/s]\n",
      "propagate in video: 100%|████████████████████████████████████████████████████████████████| 5/5 [00:00<00:00, 22.61it/s]\n"
     ]
    },
    {
     "name": "stdout",
     "output_type": "stream",
     "text": [
      "./MnM_output_middle/A5Q1W8_ES\n"
     ]
    },
    {
     "name": "stderr",
     "output_type": "stream",
     "text": [
      "frame loading (JPEG): 100%|██████████████████████████████████████████████████████████████| 8/8 [00:00<00:00, 40.89it/s]\n",
      "propagate in video: 100%|████████████████████████████████████████████████████████████████| 4/4 [00:00<00:00, 36.24it/s]\n",
      "propagate in video: 100%|████████████████████████████████████████████████████████████████| 4/4 [00:00<00:00, 22.98it/s]\n",
      "propagate in video: 100%|████████████████████████████████████████████████████████████████| 4/4 [00:00<00:00, 36.04it/s]\n",
      "propagate in video: 100%|████████████████████████████████████████████████████████████████| 4/4 [00:00<00:00, 23.95it/s]\n",
      "propagate in video: 100%|████████████████████████████████████████████████████████████████| 4/4 [00:00<00:00, 37.25it/s]\n",
      "propagate in video: 100%|████████████████████████████████████████████████████████████████| 4/4 [00:00<00:00, 23.17it/s]\n"
     ]
    },
    {
     "name": "stdout",
     "output_type": "stream",
     "text": [
      "./MnM_output_middle/A6A8H0_ED\n"
     ]
    },
    {
     "name": "stderr",
     "output_type": "stream",
     "text": [
      "frame loading (JPEG): 100%|██████████████████████████████████████████████████████████████| 9/9 [00:00<00:00, 43.11it/s]\n",
      "propagate in video: 100%|████████████████████████████████████████████████████████████████| 5/5 [00:00<00:00, 32.71it/s]\n",
      "propagate in video: 100%|████████████████████████████████████████████████████████████████| 4/4 [00:00<00:00, 21.54it/s]\n",
      "propagate in video: 100%|████████████████████████████████████████████████████████████████| 5/5 [00:00<00:00, 31.40it/s]\n",
      "propagate in video: 100%|████████████████████████████████████████████████████████████████| 4/4 [00:00<00:00, 22.02it/s]\n",
      "propagate in video: 100%|████████████████████████████████████████████████████████████████| 5/5 [00:00<00:00, 31.65it/s]\n",
      "propagate in video: 100%|████████████████████████████████████████████████████████████████| 4/4 [00:00<00:00, 22.25it/s]\n"
     ]
    },
    {
     "name": "stdout",
     "output_type": "stream",
     "text": [
      "./MnM_output_middle/A6A8H0_ES\n"
     ]
    },
    {
     "name": "stderr",
     "output_type": "stream",
     "text": [
      "frame loading (JPEG): 100%|██████████████████████████████████████████████████████████████| 7/7 [00:00<00:00, 43.26it/s]\n",
      "propagate in video: 100%|████████████████████████████████████████████████████████████████| 4/4 [00:00<00:00, 28.56it/s]\n",
      "propagate in video: 100%|████████████████████████████████████████████████████████████████| 3/3 [00:00<00:00, 23.93it/s]\n",
      "propagate in video: 100%|████████████████████████████████████████████████████████████████| 4/4 [00:00<00:00, 36.40it/s]\n",
      "propagate in video: 100%|████████████████████████████████████████████████████████████████| 3/3 [00:00<00:00, 23.02it/s]\n",
      "propagate in video: 100%|████████████████████████████████████████████████████████████████| 4/4 [00:00<00:00, 34.87it/s]\n",
      "propagate in video: 100%|████████████████████████████████████████████████████████████████| 3/3 [00:00<00:00, 23.86it/s]\n"
     ]
    },
    {
     "name": "stdout",
     "output_type": "stream",
     "text": [
      "./MnM_output_middle/A6B7Y4_ED\n"
     ]
    },
    {
     "name": "stderr",
     "output_type": "stream",
     "text": [
      "frame loading (JPEG): 100%|████████████████████████████████████████████████████████████| 10/10 [00:00<00:00, 38.71it/s]\n",
      "propagate in video: 100%|████████████████████████████████████████████████████████████████| 5/5 [00:00<00:00, 32.24it/s]\n",
      "propagate in video: 100%|████████████████████████████████████████████████████████████████| 5/5 [00:00<00:00, 22.97it/s]\n",
      "propagate in video: 100%|████████████████████████████████████████████████████████████████| 5/5 [00:00<00:00, 33.74it/s]\n",
      "propagate in video: 100%|████████████████████████████████████████████████████████████████| 5/5 [00:00<00:00, 23.19it/s]\n",
      "propagate in video: 100%|████████████████████████████████████████████████████████████████| 5/5 [00:00<00:00, 33.27it/s]\n",
      "propagate in video: 100%|████████████████████████████████████████████████████████████████| 5/5 [00:00<00:00, 22.43it/s]\n"
     ]
    },
    {
     "name": "stdout",
     "output_type": "stream",
     "text": [
      "./MnM_output_middle/A6B7Y4_ES\n"
     ]
    },
    {
     "name": "stderr",
     "output_type": "stream",
     "text": [
      "frame loading (JPEG): 100%|██████████████████████████████████████████████████████████████| 9/9 [00:00<00:00, 41.04it/s]\n",
      "propagate in video: 100%|████████████████████████████████████████████████████████████████| 5/5 [00:00<00:00, 29.70it/s]\n",
      "propagate in video: 100%|████████████████████████████████████████████████████████████████| 4/4 [00:00<00:00, 22.08it/s]\n",
      "propagate in video: 100%|████████████████████████████████████████████████████████████████| 5/5 [00:00<00:00, 33.39it/s]\n",
      "propagate in video: 100%|████████████████████████████████████████████████████████████████| 4/4 [00:00<00:00, 21.97it/s]\n",
      "propagate in video: 100%|████████████████████████████████████████████████████████████████| 5/5 [00:00<00:00, 28.39it/s]\n",
      "propagate in video: 100%|████████████████████████████████████████████████████████████████| 4/4 [00:00<00:00, 23.17it/s]\n"
     ]
    },
    {
     "name": "stdout",
     "output_type": "stream",
     "text": [
      "./MnM_output_middle/A6J0Y2_ED\n"
     ]
    },
    {
     "name": "stderr",
     "output_type": "stream",
     "text": [
      "frame loading (JPEG): 100%|██████████████████████████████████████████████████████████████| 9/9 [00:00<00:00, 45.90it/s]\n",
      "propagate in video: 100%|████████████████████████████████████████████████████████████████| 5/5 [00:00<00:00, 32.88it/s]\n",
      "propagate in video: 100%|████████████████████████████████████████████████████████████████| 4/4 [00:00<00:00, 21.93it/s]\n",
      "propagate in video: 100%|████████████████████████████████████████████████████████████████| 5/5 [00:00<00:00, 32.93it/s]\n",
      "propagate in video: 100%|████████████████████████████████████████████████████████████████| 4/4 [00:00<00:00, 22.22it/s]\n",
      "propagate in video: 100%|████████████████████████████████████████████████████████████████| 5/5 [00:00<00:00, 31.62it/s]\n",
      "propagate in video: 100%|████████████████████████████████████████████████████████████████| 4/4 [00:00<00:00, 22.26it/s]\n"
     ]
    },
    {
     "name": "stdout",
     "output_type": "stream",
     "text": [
      "./MnM_output_middle/A6J0Y2_ES\n"
     ]
    },
    {
     "name": "stderr",
     "output_type": "stream",
     "text": [
      "frame loading (JPEG): 100%|██████████████████████████████████████████████████████████████| 8/8 [00:00<00:00, 43.85it/s]\n",
      "propagate in video: 100%|████████████████████████████████████████████████████████████████| 4/4 [00:00<00:00, 35.81it/s]\n",
      "propagate in video: 100%|████████████████████████████████████████████████████████████████| 4/4 [00:00<00:00, 23.43it/s]\n",
      "propagate in video: 100%|████████████████████████████████████████████████████████████████| 4/4 [00:00<00:00, 37.40it/s]\n",
      "propagate in video: 100%|████████████████████████████████████████████████████████████████| 4/4 [00:00<00:00, 22.58it/s]\n",
      "propagate in video: 100%|████████████████████████████████████████████████████████████████| 4/4 [00:00<00:00, 37.74it/s]\n",
      "propagate in video: 100%|████████████████████████████████████████████████████████████████| 4/4 [00:00<00:00, 23.81it/s]\n"
     ]
    },
    {
     "name": "stdout",
     "output_type": "stream",
     "text": [
      "./MnM_output_middle/A7E4J0_ED\n"
     ]
    },
    {
     "name": "stderr",
     "output_type": "stream",
     "text": [
      "frame loading (JPEG): 100%|████████████████████████████████████████████████████████████| 12/12 [00:00<00:00, 47.96it/s]\n",
      "propagate in video: 100%|████████████████████████████████████████████████████████████████| 6/6 [00:00<00:00, 28.60it/s]\n",
      "propagate in video: 100%|████████████████████████████████████████████████████████████████| 6/6 [00:00<00:00, 22.17it/s]\n",
      "propagate in video: 100%|████████████████████████████████████████████████████████████████| 6/6 [00:00<00:00, 29.58it/s]\n",
      "propagate in video: 100%|████████████████████████████████████████████████████████████████| 6/6 [00:00<00:00, 22.26it/s]\n",
      "propagate in video: 100%|████████████████████████████████████████████████████████████████| 6/6 [00:00<00:00, 30.03it/s]\n",
      "propagate in video: 100%|████████████████████████████████████████████████████████████████| 6/6 [00:00<00:00, 22.30it/s]\n"
     ]
    },
    {
     "name": "stdout",
     "output_type": "stream",
     "text": [
      "./MnM_output_middle/A7E4J0_ES\n"
     ]
    },
    {
     "name": "stderr",
     "output_type": "stream",
     "text": [
      "frame loading (JPEG): 100%|████████████████████████████████████████████████████████████| 11/11 [00:00<00:00, 47.73it/s]\n",
      "propagate in video: 100%|████████████████████████████████████████████████████████████████| 6/6 [00:00<00:00, 30.81it/s]\n",
      "propagate in video: 100%|████████████████████████████████████████████████████████████████| 5/5 [00:00<00:00, 22.27it/s]\n",
      "propagate in video: 100%|████████████████████████████████████████████████████████████████| 6/6 [00:00<00:00, 30.33it/s]\n",
      "propagate in video: 100%|████████████████████████████████████████████████████████████████| 5/5 [00:00<00:00, 22.84it/s]\n",
      "propagate in video: 100%|████████████████████████████████████████████████████████████████| 6/6 [00:00<00:00, 28.97it/s]\n",
      "propagate in video: 100%|████████████████████████████████████████████████████████████████| 5/5 [00:00<00:00, 22.86it/s]\n"
     ]
    },
    {
     "name": "stdout",
     "output_type": "stream",
     "text": [
      "./MnM_output_middle/A7F4G2_ED\n"
     ]
    },
    {
     "name": "stderr",
     "output_type": "stream",
     "text": [
      "frame loading (JPEG): 100%|████████████████████████████████████████████████████████████| 12/12 [00:00<00:00, 43.46it/s]\n",
      "propagate in video: 100%|████████████████████████████████████████████████████████████████| 6/6 [00:00<00:00, 30.28it/s]\n",
      "propagate in video: 100%|████████████████████████████████████████████████████████████████| 6/6 [00:00<00:00, 21.96it/s]\n",
      "propagate in video: 100%|████████████████████████████████████████████████████████████████| 6/6 [00:00<00:00, 30.07it/s]\n",
      "propagate in video: 100%|████████████████████████████████████████████████████████████████| 6/6 [00:00<00:00, 22.37it/s]\n",
      "propagate in video: 100%|████████████████████████████████████████████████████████████████| 6/6 [00:00<00:00, 31.19it/s]\n",
      "propagate in video: 100%|████████████████████████████████████████████████████████████████| 6/6 [00:00<00:00, 22.34it/s]\n"
     ]
    },
    {
     "name": "stdout",
     "output_type": "stream",
     "text": [
      "./MnM_output_middle/A7F4G2_ES\n"
     ]
    },
    {
     "name": "stderr",
     "output_type": "stream",
     "text": [
      "frame loading (JPEG): 100%|████████████████████████████████████████████████████████████| 12/12 [00:00<00:00, 41.76it/s]\n",
      "propagate in video: 100%|████████████████████████████████████████████████████████████████| 6/6 [00:00<00:00, 28.37it/s]\n",
      "propagate in video: 100%|████████████████████████████████████████████████████████████████| 6/6 [00:00<00:00, 21.90it/s]\n",
      "propagate in video: 100%|████████████████████████████████████████████████████████████████| 6/6 [00:00<00:00, 30.81it/s]\n",
      "propagate in video: 100%|████████████████████████████████████████████████████████████████| 6/6 [00:00<00:00, 21.82it/s]\n",
      "propagate in video: 100%|████████████████████████████████████████████████████████████████| 6/6 [00:00<00:00, 31.17it/s]\n",
      "propagate in video: 100%|████████████████████████████████████████████████████████████████| 6/6 [00:00<00:00, 22.61it/s]\n"
     ]
    },
    {
     "name": "stdout",
     "output_type": "stream",
     "text": [
      "./MnM_output_middle/A8C5E9_ED\n"
     ]
    },
    {
     "name": "stderr",
     "output_type": "stream",
     "text": [
      "frame loading (JPEG): 100%|██████████████████████████████████████████████████████████████| 8/8 [00:00<00:00, 47.28it/s]\n",
      "propagate in video: 100%|████████████████████████████████████████████████████████████████| 4/4 [00:00<00:00, 35.77it/s]\n",
      "propagate in video: 100%|████████████████████████████████████████████████████████████████| 4/4 [00:00<00:00, 23.08it/s]\n",
      "propagate in video: 100%|████████████████████████████████████████████████████████████████| 4/4 [00:00<00:00, 35.10it/s]\n",
      "propagate in video: 100%|████████████████████████████████████████████████████████████████| 4/4 [00:00<00:00, 22.60it/s]\n",
      "propagate in video: 100%|████████████████████████████████████████████████████████████████| 4/4 [00:00<00:00, 38.11it/s]\n",
      "propagate in video: 100%|████████████████████████████████████████████████████████████████| 4/4 [00:00<00:00, 23.30it/s]\n"
     ]
    },
    {
     "name": "stdout",
     "output_type": "stream",
     "text": [
      "./MnM_output_middle/A8C5E9_ES\n"
     ]
    },
    {
     "name": "stderr",
     "output_type": "stream",
     "text": [
      "frame loading (JPEG): 100%|██████████████████████████████████████████████████████████████| 6/6 [00:00<00:00, 43.13it/s]\n",
      "propagate in video: 100%|████████████████████████████████████████████████████████████████| 3/3 [00:00<00:00, 40.22it/s]\n",
      "propagate in video: 100%|████████████████████████████████████████████████████████████████| 3/3 [00:00<00:00, 23.03it/s]\n",
      "propagate in video: 100%|████████████████████████████████████████████████████████████████| 3/3 [00:00<00:00, 44.66it/s]\n",
      "propagate in video: 100%|████████████████████████████████████████████████████████████████| 3/3 [00:00<00:00, 24.53it/s]\n",
      "propagate in video: 100%|████████████████████████████████████████████████████████████████| 3/3 [00:00<00:00, 40.78it/s]\n",
      "propagate in video: 100%|████████████████████████████████████████████████████████████████| 3/3 [00:00<00:00, 24.06it/s]\n"
     ]
    },
    {
     "name": "stdout",
     "output_type": "stream",
     "text": [
      "./MnM_output_middle/A9L7Y7_ED\n"
     ]
    },
    {
     "name": "stderr",
     "output_type": "stream",
     "text": [
      "frame loading (JPEG): 100%|████████████████████████████████████████████████████████████| 12/12 [00:00<00:00, 46.94it/s]\n",
      "propagate in video: 100%|████████████████████████████████████████████████████████████████| 6/6 [00:00<00:00, 31.03it/s]\n",
      "propagate in video: 100%|████████████████████████████████████████████████████████████████| 6/6 [00:00<00:00, 22.14it/s]\n",
      "propagate in video: 100%|████████████████████████████████████████████████████████████████| 6/6 [00:00<00:00, 30.55it/s]\n",
      "propagate in video: 100%|████████████████████████████████████████████████████████████████| 6/6 [00:00<00:00, 22.57it/s]\n",
      "propagate in video: 100%|████████████████████████████████████████████████████████████████| 6/6 [00:00<00:00, 30.21it/s]\n",
      "propagate in video: 100%|████████████████████████████████████████████████████████████████| 6/6 [00:00<00:00, 22.33it/s]\n"
     ]
    },
    {
     "name": "stdout",
     "output_type": "stream",
     "text": [
      "./MnM_output_middle/A9L7Y7_ES\n"
     ]
    },
    {
     "name": "stderr",
     "output_type": "stream",
     "text": [
      "frame loading (JPEG): 100%|██████████████████████████████████████████████████████████████| 9/9 [00:00<00:00, 46.90it/s]\n",
      "propagate in video: 100%|████████████████████████████████████████████████████████████████| 5/5 [00:00<00:00, 31.14it/s]\n",
      "propagate in video: 100%|████████████████████████████████████████████████████████████████| 4/4 [00:00<00:00, 22.04it/s]\n",
      "propagate in video: 100%|████████████████████████████████████████████████████████████████| 5/5 [00:00<00:00, 32.27it/s]\n",
      "propagate in video: 100%|████████████████████████████████████████████████████████████████| 4/4 [00:00<00:00, 22.42it/s]\n",
      "propagate in video: 100%|████████████████████████████████████████████████████████████████| 5/5 [00:00<00:00, 31.73it/s]\n",
      "propagate in video: 100%|████████████████████████████████████████████████████████████████| 4/4 [00:00<00:00, 21.65it/s]\n"
     ]
    },
    {
     "name": "stdout",
     "output_type": "stream",
     "text": [
      "./MnM_output_middle/B0L3Y2_ED\n"
     ]
    },
    {
     "name": "stderr",
     "output_type": "stream",
     "text": [
      "frame loading (JPEG): 100%|██████████████████████████████████████████████████████████████| 9/9 [00:00<00:00, 49.95it/s]\n",
      "propagate in video: 100%|████████████████████████████████████████████████████████████████| 5/5 [00:00<00:00, 32.71it/s]\n",
      "propagate in video: 100%|████████████████████████████████████████████████████████████████| 4/4 [00:00<00:00, 23.11it/s]\n",
      "propagate in video: 100%|████████████████████████████████████████████████████████████████| 5/5 [00:00<00:00, 31.81it/s]\n",
      "propagate in video: 100%|████████████████████████████████████████████████████████████████| 4/4 [00:00<00:00, 22.75it/s]\n",
      "propagate in video: 100%|████████████████████████████████████████████████████████████████| 5/5 [00:00<00:00, 31.61it/s]\n",
      "propagate in video: 100%|████████████████████████████████████████████████████████████████| 4/4 [00:00<00:00, 21.85it/s]\n"
     ]
    },
    {
     "name": "stdout",
     "output_type": "stream",
     "text": [
      "./MnM_output_middle/B0L3Y2_ES\n"
     ]
    },
    {
     "name": "stderr",
     "output_type": "stream",
     "text": [
      "frame loading (JPEG): 100%|██████████████████████████████████████████████████████████████| 8/8 [00:00<00:00, 49.52it/s]\n",
      "propagate in video: 100%|████████████████████████████████████████████████████████████████| 4/4 [00:00<00:00, 32.04it/s]\n",
      "propagate in video: 100%|████████████████████████████████████████████████████████████████| 4/4 [00:00<00:00, 22.75it/s]\n",
      "propagate in video: 100%|████████████████████████████████████████████████████████████████| 4/4 [00:00<00:00, 34.71it/s]\n",
      "propagate in video: 100%|████████████████████████████████████████████████████████████████| 4/4 [00:00<00:00, 22.64it/s]\n",
      "propagate in video: 100%|████████████████████████████████████████████████████████████████| 4/4 [00:00<00:00, 36.08it/s]\n",
      "propagate in video: 100%|████████████████████████████████████████████████████████████████| 4/4 [00:00<00:00, 23.02it/s]\n"
     ]
    },
    {
     "name": "stdout",
     "output_type": "stream",
     "text": [
      "./MnM_output_middle/B1G9J3_ED\n"
     ]
    },
    {
     "name": "stderr",
     "output_type": "stream",
     "text": [
      "frame loading (JPEG): 100%|████████████████████████████████████████████████████████████| 10/10 [00:00<00:00, 46.71it/s]\n",
      "propagate in video: 100%|████████████████████████████████████████████████████████████████| 5/5 [00:00<00:00, 26.73it/s]\n",
      "propagate in video: 100%|████████████████████████████████████████████████████████████████| 5/5 [00:00<00:00, 22.44it/s]\n",
      "propagate in video: 100%|████████████████████████████████████████████████████████████████| 5/5 [00:00<00:00, 35.11it/s]\n",
      "propagate in video: 100%|████████████████████████████████████████████████████████████████| 5/5 [00:00<00:00, 22.42it/s]\n",
      "propagate in video: 100%|████████████████████████████████████████████████████████████████| 5/5 [00:00<00:00, 33.31it/s]\n",
      "propagate in video: 100%|████████████████████████████████████████████████████████████████| 5/5 [00:00<00:00, 21.55it/s]\n"
     ]
    },
    {
     "name": "stdout",
     "output_type": "stream",
     "text": [
      "./MnM_output_middle/B1G9J3_ES\n"
     ]
    },
    {
     "name": "stderr",
     "output_type": "stream",
     "text": [
      "frame loading (JPEG): 100%|██████████████████████████████████████████████████████████████| 8/8 [00:00<00:00, 45.90it/s]\n",
      "propagate in video: 100%|████████████████████████████████████████████████████████████████| 4/4 [00:00<00:00, 35.99it/s]\n",
      "propagate in video: 100%|████████████████████████████████████████████████████████████████| 4/4 [00:00<00:00, 22.11it/s]\n",
      "propagate in video: 100%|████████████████████████████████████████████████████████████████| 4/4 [00:00<00:00, 37.39it/s]\n",
      "propagate in video: 100%|████████████████████████████████████████████████████████████████| 4/4 [00:00<00:00, 24.94it/s]\n",
      "propagate in video: 100%|████████████████████████████████████████████████████████████████| 4/4 [00:00<00:00, 33.71it/s]\n",
      "propagate in video: 100%|████████████████████████████████████████████████████████████████| 4/4 [00:00<00:00, 23.52it/s]\n"
     ]
    },
    {
     "name": "stdout",
     "output_type": "stream",
     "text": [
      "./MnM_output_middle/B2L0L2_ED\n"
     ]
    },
    {
     "name": "stderr",
     "output_type": "stream",
     "text": [
      "frame loading (JPEG): 100%|████████████████████████████████████████████████████████████| 11/11 [00:00<00:00, 41.85it/s]\n",
      "propagate in video: 100%|████████████████████████████████████████████████████████████████| 6/6 [00:00<00:00, 30.47it/s]\n",
      "propagate in video: 100%|████████████████████████████████████████████████████████████████| 5/5 [00:00<00:00, 22.25it/s]\n",
      "propagate in video: 100%|████████████████████████████████████████████████████████████████| 6/6 [00:00<00:00, 31.29it/s]\n",
      "propagate in video: 100%|████████████████████████████████████████████████████████████████| 5/5 [00:00<00:00, 22.25it/s]\n",
      "propagate in video: 100%|████████████████████████████████████████████████████████████████| 6/6 [00:00<00:00, 29.90it/s]\n",
      "propagate in video: 100%|████████████████████████████████████████████████████████████████| 5/5 [00:00<00:00, 22.12it/s]\n"
     ]
    },
    {
     "name": "stdout",
     "output_type": "stream",
     "text": [
      "./MnM_output_middle/B2L0L2_ES\n"
     ]
    },
    {
     "name": "stderr",
     "output_type": "stream",
     "text": [
      "frame loading (JPEG): 100%|████████████████████████████████████████████████████████████| 10/10 [00:00<00:00, 41.73it/s]\n",
      "propagate in video: 100%|████████████████████████████████████████████████████████████████| 5/5 [00:00<00:00, 33.69it/s]\n",
      "propagate in video: 100%|████████████████████████████████████████████████████████████████| 5/5 [00:00<00:00, 22.22it/s]\n",
      "propagate in video: 100%|████████████████████████████████████████████████████████████████| 5/5 [00:00<00:00, 33.36it/s]\n",
      "propagate in video: 100%|████████████████████████████████████████████████████████████████| 5/5 [00:00<00:00, 22.30it/s]\n",
      "propagate in video: 100%|████████████████████████████████████████████████████████████████| 5/5 [00:00<00:00, 33.41it/s]\n",
      "propagate in video: 100%|████████████████████████████████████████████████████████████████| 5/5 [00:00<00:00, 21.74it/s]\n"
     ]
    },
    {
     "name": "stdout",
     "output_type": "stream",
     "text": [
      "./MnM_output_middle/B3E2W8_ED\n"
     ]
    },
    {
     "name": "stderr",
     "output_type": "stream",
     "text": [
      "frame loading (JPEG): 100%|██████████████████████████████████████████████████████████████| 9/9 [00:00<00:00, 42.12it/s]\n",
      "propagate in video: 100%|████████████████████████████████████████████████████████████████| 5/5 [00:00<00:00, 24.73it/s]\n",
      "propagate in video: 100%|████████████████████████████████████████████████████████████████| 4/4 [00:00<00:00, 22.14it/s]\n",
      "propagate in video: 100%|████████████████████████████████████████████████████████████████| 5/5 [00:00<00:00, 33.55it/s]\n",
      "propagate in video: 100%|████████████████████████████████████████████████████████████████| 4/4 [00:00<00:00, 22.79it/s]\n",
      "propagate in video: 100%|████████████████████████████████████████████████████████████████| 5/5 [00:00<00:00, 33.33it/s]\n",
      "propagate in video: 100%|████████████████████████████████████████████████████████████████| 4/4 [00:00<00:00, 22.67it/s]\n"
     ]
    },
    {
     "name": "stdout",
     "output_type": "stream",
     "text": [
      "./MnM_output_middle/B3E2W8_ES\n"
     ]
    },
    {
     "name": "stderr",
     "output_type": "stream",
     "text": [
      "frame loading (JPEG): 100%|██████████████████████████████████████████████████████████████| 6/6 [00:00<00:00, 41.85it/s]\n",
      "propagate in video: 100%|████████████████████████████████████████████████████████████████| 3/3 [00:00<00:00, 39.65it/s]\n",
      "propagate in video: 100%|████████████████████████████████████████████████████████████████| 3/3 [00:00<00:00, 23.64it/s]\n",
      "propagate in video: 100%|████████████████████████████████████████████████████████████████| 3/3 [00:00<00:00, 40.46it/s]\n",
      "propagate in video: 100%|████████████████████████████████████████████████████████████████| 3/3 [00:00<00:00, 24.39it/s]\n",
      "propagate in video: 100%|████████████████████████████████████████████████████████████████| 3/3 [00:00<00:00, 31.18it/s]\n",
      "propagate in video: 100%|████████████████████████████████████████████████████████████████| 3/3 [00:00<00:00, 24.09it/s]\n"
     ]
    },
    {
     "name": "stdout",
     "output_type": "stream",
     "text": [
      "./MnM_output_middle/B3F0V9_ED\n"
     ]
    },
    {
     "name": "stderr",
     "output_type": "stream",
     "text": [
      "frame loading (JPEG): 100%|██████████████████████████████████████████████████████████████| 9/9 [00:00<00:00, 49.24it/s]\n",
      "propagate in video: 100%|████████████████████████████████████████████████████████████████| 5/5 [00:00<00:00, 34.68it/s]\n",
      "propagate in video: 100%|████████████████████████████████████████████████████████████████| 4/4 [00:00<00:00, 22.92it/s]\n",
      "propagate in video: 100%|████████████████████████████████████████████████████████████████| 5/5 [00:00<00:00, 31.49it/s]\n",
      "propagate in video: 100%|████████████████████████████████████████████████████████████████| 4/4 [00:00<00:00, 22.66it/s]\n",
      "propagate in video: 100%|████████████████████████████████████████████████████████████████| 5/5 [00:00<00:00, 31.11it/s]\n",
      "propagate in video: 100%|████████████████████████████████████████████████████████████████| 4/4 [00:00<00:00, 21.69it/s]\n"
     ]
    },
    {
     "name": "stdout",
     "output_type": "stream",
     "text": [
      "./MnM_output_middle/B3F0V9_ES\n"
     ]
    },
    {
     "name": "stderr",
     "output_type": "stream",
     "text": [
      "frame loading (JPEG): 100%|██████████████████████████████████████████████████████████████| 8/8 [00:00<00:00, 48.12it/s]\n",
      "propagate in video: 100%|████████████████████████████████████████████████████████████████| 4/4 [00:00<00:00, 36.03it/s]\n",
      "propagate in video: 100%|████████████████████████████████████████████████████████████████| 4/4 [00:00<00:00, 22.57it/s]\n",
      "propagate in video: 100%|████████████████████████████████████████████████████████████████| 4/4 [00:00<00:00, 38.07it/s]\n",
      "propagate in video: 100%|████████████████████████████████████████████████████████████████| 4/4 [00:00<00:00, 23.23it/s]\n",
      "propagate in video: 100%|████████████████████████████████████████████████████████████████| 4/4 [00:00<00:00, 36.48it/s]\n",
      "propagate in video: 100%|████████████████████████████████████████████████████████████████| 4/4 [00:00<00:00, 23.16it/s]\n"
     ]
    },
    {
     "name": "stdout",
     "output_type": "stream",
     "text": [
      "./MnM_output_middle/B3S2Z4_ED\n"
     ]
    },
    {
     "name": "stderr",
     "output_type": "stream",
     "text": [
      "frame loading (JPEG): 100%|██████████████████████████████████████████████████████████████| 8/8 [00:00<00:00, 46.17it/s]\n",
      "propagate in video: 100%|████████████████████████████████████████████████████████████████| 4/4 [00:00<00:00, 36.60it/s]\n",
      "propagate in video: 100%|████████████████████████████████████████████████████████████████| 4/4 [00:00<00:00, 22.08it/s]\n",
      "propagate in video: 100%|████████████████████████████████████████████████████████████████| 4/4 [00:00<00:00, 32.45it/s]\n",
      "propagate in video: 100%|████████████████████████████████████████████████████████████████| 4/4 [00:00<00:00, 23.02it/s]\n",
      "propagate in video: 100%|████████████████████████████████████████████████████████████████| 4/4 [00:00<00:00, 36.19it/s]\n",
      "propagate in video: 100%|████████████████████████████████████████████████████████████████| 4/4 [00:00<00:00, 22.55it/s]\n"
     ]
    },
    {
     "name": "stdout",
     "output_type": "stream",
     "text": [
      "./MnM_output_middle/B3S2Z4_ES\n"
     ]
    },
    {
     "name": "stderr",
     "output_type": "stream",
     "text": [
      "frame loading (JPEG): 100%|██████████████████████████████████████████████████████████████| 7/7 [00:00<00:00, 48.16it/s]\n",
      "propagate in video: 100%|████████████████████████████████████████████████████████████████| 4/4 [00:00<00:00, 33.09it/s]\n",
      "propagate in video: 100%|████████████████████████████████████████████████████████████████| 3/3 [00:00<00:00, 23.09it/s]\n",
      "propagate in video: 100%|████████████████████████████████████████████████████████████████| 4/4 [00:00<00:00, 36.56it/s]\n",
      "propagate in video: 100%|████████████████████████████████████████████████████████████████| 3/3 [00:00<00:00, 22.25it/s]\n",
      "propagate in video: 100%|████████████████████████████████████████████████████████████████| 4/4 [00:00<00:00, 37.14it/s]\n",
      "propagate in video: 100%|████████████████████████████████████████████████████████████████| 3/3 [00:00<00:00, 22.82it/s]\n"
     ]
    },
    {
     "name": "stdout",
     "output_type": "stream",
     "text": [
      "./MnM_output_middle/B4E1K1_ED\n"
     ]
    },
    {
     "name": "stderr",
     "output_type": "stream",
     "text": [
      "frame loading (JPEG): 100%|██████████████████████████████████████████████████████████████| 9/9 [00:00<00:00, 50.15it/s]\n",
      "propagate in video: 100%|████████████████████████████████████████████████████████████████| 5/5 [00:00<00:00, 31.82it/s]\n",
      "propagate in video: 100%|████████████████████████████████████████████████████████████████| 4/4 [00:00<00:00, 22.98it/s]\n",
      "propagate in video: 100%|████████████████████████████████████████████████████████████████| 5/5 [00:00<00:00, 30.91it/s]\n",
      "propagate in video: 100%|████████████████████████████████████████████████████████████████| 4/4 [00:00<00:00, 22.20it/s]\n",
      "propagate in video: 100%|████████████████████████████████████████████████████████████████| 5/5 [00:00<00:00, 31.17it/s]\n",
      "propagate in video: 100%|████████████████████████████████████████████████████████████████| 4/4 [00:00<00:00, 22.13it/s]\n"
     ]
    },
    {
     "name": "stdout",
     "output_type": "stream",
     "text": [
      "./MnM_output_middle/B4E1K1_ES\n"
     ]
    },
    {
     "name": "stderr",
     "output_type": "stream",
     "text": [
      "frame loading (JPEG): 100%|██████████████████████████████████████████████████████████████| 8/8 [00:00<00:00, 44.39it/s]\n",
      "propagate in video: 100%|████████████████████████████████████████████████████████████████| 4/4 [00:00<00:00, 35.58it/s]\n",
      "propagate in video: 100%|████████████████████████████████████████████████████████████████| 4/4 [00:00<00:00, 22.48it/s]\n",
      "propagate in video: 100%|████████████████████████████████████████████████████████████████| 4/4 [00:00<00:00, 37.03it/s]\n",
      "propagate in video: 100%|████████████████████████████████████████████████████████████████| 4/4 [00:00<00:00, 22.28it/s]\n",
      "propagate in video: 100%|████████████████████████████████████████████████████████████████| 4/4 [00:00<00:00, 34.73it/s]\n",
      "propagate in video: 100%|████████████████████████████████████████████████████████████████| 4/4 [00:00<00:00, 22.76it/s]\n"
     ]
    },
    {
     "name": "stdout",
     "output_type": "stream",
     "text": [
      "./MnM_output_middle/B4S1Y2_ED\n"
     ]
    },
    {
     "name": "stderr",
     "output_type": "stream",
     "text": [
      "frame loading (JPEG): 100%|██████████████████████████████████████████████████████████████| 8/8 [00:00<00:00, 46.61it/s]\n",
      "propagate in video: 100%|████████████████████████████████████████████████████████████████| 4/4 [00:00<00:00, 38.63it/s]\n",
      "propagate in video: 100%|████████████████████████████████████████████████████████████████| 4/4 [00:00<00:00, 23.35it/s]\n",
      "propagate in video: 100%|████████████████████████████████████████████████████████████████| 4/4 [00:00<00:00, 37.18it/s]\n",
      "propagate in video: 100%|████████████████████████████████████████████████████████████████| 4/4 [00:00<00:00, 22.83it/s]\n",
      "propagate in video: 100%|████████████████████████████████████████████████████████████████| 4/4 [00:00<00:00, 38.44it/s]\n",
      "propagate in video: 100%|████████████████████████████████████████████████████████████████| 4/4 [00:00<00:00, 22.08it/s]\n"
     ]
    },
    {
     "name": "stdout",
     "output_type": "stream",
     "text": [
      "./MnM_output_middle/B4S1Y2_ES\n"
     ]
    },
    {
     "name": "stderr",
     "output_type": "stream",
     "text": [
      "frame loading (JPEG): 100%|██████████████████████████████████████████████████████████████| 7/7 [00:00<00:00, 45.17it/s]\n",
      "propagate in video: 100%|████████████████████████████████████████████████████████████████| 4/4 [00:00<00:00, 37.90it/s]\n",
      "propagate in video: 100%|████████████████████████████████████████████████████████████████| 3/3 [00:00<00:00, 22.97it/s]\n",
      "propagate in video: 100%|████████████████████████████████████████████████████████████████| 4/4 [00:00<00:00, 35.37it/s]\n",
      "propagate in video: 100%|████████████████████████████████████████████████████████████████| 3/3 [00:00<00:00, 21.14it/s]\n",
      "propagate in video: 100%|████████████████████████████████████████████████████████████████| 4/4 [00:00<00:00, 35.99it/s]\n",
      "propagate in video: 100%|████████████████████████████████████████████████████████████████| 3/3 [00:00<00:00, 22.83it/s]\n"
     ]
    },
    {
     "name": "stdout",
     "output_type": "stream",
     "text": [
      "./MnM_output_middle/B5F8L9_ED\n"
     ]
    },
    {
     "name": "stderr",
     "output_type": "stream",
     "text": [
      "frame loading (JPEG): 100%|██████████████████████████████████████████████████████████████| 9/9 [00:00<00:00, 49.36it/s]\n",
      "propagate in video: 100%|████████████████████████████████████████████████████████████████| 5/5 [00:00<00:00, 31.04it/s]\n",
      "propagate in video: 100%|████████████████████████████████████████████████████████████████| 4/4 [00:00<00:00, 22.45it/s]\n",
      "propagate in video: 100%|████████████████████████████████████████████████████████████████| 5/5 [00:00<00:00, 32.60it/s]\n",
      "propagate in video: 100%|████████████████████████████████████████████████████████████████| 4/4 [00:00<00:00, 22.36it/s]\n",
      "propagate in video: 100%|████████████████████████████████████████████████████████████████| 5/5 [00:00<00:00, 32.34it/s]\n",
      "propagate in video: 100%|████████████████████████████████████████████████████████████████| 4/4 [00:00<00:00, 21.49it/s]\n"
     ]
    },
    {
     "name": "stdout",
     "output_type": "stream",
     "text": [
      "./MnM_output_middle/B5F8L9_ES\n"
     ]
    },
    {
     "name": "stderr",
     "output_type": "stream",
     "text": [
      "frame loading (JPEG): 100%|██████████████████████████████████████████████████████████████| 7/7 [00:00<00:00, 48.01it/s]\n",
      "propagate in video: 100%|████████████████████████████████████████████████████████████████| 4/4 [00:00<00:00, 38.19it/s]\n",
      "propagate in video: 100%|████████████████████████████████████████████████████████████████| 3/3 [00:00<00:00, 22.52it/s]\n",
      "propagate in video: 100%|████████████████████████████████████████████████████████████████| 4/4 [00:00<00:00, 34.92it/s]\n",
      "propagate in video: 100%|████████████████████████████████████████████████████████████████| 3/3 [00:00<00:00, 23.60it/s]\n",
      "propagate in video: 100%|████████████████████████████████████████████████████████████████| 4/4 [00:00<00:00, 36.16it/s]\n",
      "propagate in video: 100%|████████████████████████████████████████████████████████████████| 3/3 [00:00<00:00, 23.54it/s]\n"
     ]
    },
    {
     "name": "stdout",
     "output_type": "stream",
     "text": [
      "./MnM_output_middle/B5L5Y4_ED\n"
     ]
    },
    {
     "name": "stderr",
     "output_type": "stream",
     "text": [
      "frame loading (JPEG): 100%|██████████████████████████████████████████████████████████████| 7/7 [00:00<00:00, 48.59it/s]\n",
      "propagate in video: 100%|████████████████████████████████████████████████████████████████| 4/4 [00:00<00:00, 38.11it/s]\n",
      "propagate in video: 100%|████████████████████████████████████████████████████████████████| 3/3 [00:00<00:00, 23.05it/s]\n",
      "propagate in video: 100%|████████████████████████████████████████████████████████████████| 4/4 [00:00<00:00, 37.56it/s]\n",
      "propagate in video: 100%|████████████████████████████████████████████████████████████████| 3/3 [00:00<00:00, 23.76it/s]\n",
      "propagate in video: 100%|████████████████████████████████████████████████████████████████| 4/4 [00:00<00:00, 36.71it/s]\n",
      "propagate in video: 100%|████████████████████████████████████████████████████████████████| 3/3 [00:00<00:00, 23.36it/s]\n"
     ]
    },
    {
     "name": "stdout",
     "output_type": "stream",
     "text": [
      "./MnM_output_middle/B5L5Y4_ES\n"
     ]
    },
    {
     "name": "stderr",
     "output_type": "stream",
     "text": [
      "frame loading (JPEG): 100%|██████████████████████████████████████████████████████████████| 6/6 [00:00<00:00, 46.62it/s]\n",
      "propagate in video: 100%|████████████████████████████████████████████████████████████████| 3/3 [00:00<00:00, 44.85it/s]\n",
      "propagate in video: 100%|████████████████████████████████████████████████████████████████| 3/3 [00:00<00:00, 24.21it/s]\n",
      "propagate in video: 100%|████████████████████████████████████████████████████████████████| 3/3 [00:00<00:00, 41.64it/s]\n",
      "propagate in video: 100%|████████████████████████████████████████████████████████████████| 3/3 [00:00<00:00, 22.90it/s]\n",
      "propagate in video: 100%|████████████████████████████████████████████████████████████████| 3/3 [00:00<00:00, 42.77it/s]\n",
      "propagate in video: 100%|████████████████████████████████████████████████████████████████| 3/3 [00:00<00:00, 23.81it/s]\n"
     ]
    },
    {
     "name": "stdout",
     "output_type": "stream",
     "text": [
      "./MnM_output_middle/B5T6V0_ED\n"
     ]
    },
    {
     "name": "stderr",
     "output_type": "stream",
     "text": [
      "frame loading (JPEG): 100%|████████████████████████████████████████████████████████████| 10/10 [00:00<00:00, 45.39it/s]\n",
      "propagate in video: 100%|████████████████████████████████████████████████████████████████| 5/5 [00:00<00:00, 31.88it/s]\n",
      "propagate in video: 100%|████████████████████████████████████████████████████████████████| 5/5 [00:00<00:00, 22.02it/s]\n",
      "propagate in video: 100%|████████████████████████████████████████████████████████████████| 5/5 [00:00<00:00, 33.87it/s]\n",
      "propagate in video: 100%|████████████████████████████████████████████████████████████████| 5/5 [00:00<00:00, 22.29it/s]\n",
      "propagate in video: 100%|████████████████████████████████████████████████████████████████| 5/5 [00:00<00:00, 31.35it/s]\n",
      "propagate in video: 100%|████████████████████████████████████████████████████████████████| 5/5 [00:00<00:00, 21.98it/s]\n"
     ]
    },
    {
     "name": "stdout",
     "output_type": "stream",
     "text": [
      "./MnM_output_middle/B5T6V0_ES\n"
     ]
    },
    {
     "name": "stderr",
     "output_type": "stream",
     "text": [
      "frame loading (JPEG): 100%|██████████████████████████████████████████████████████████████| 9/9 [00:00<00:00, 46.50it/s]\n",
      "propagate in video: 100%|████████████████████████████████████████████████████████████████| 5/5 [00:00<00:00, 30.79it/s]\n",
      "propagate in video: 100%|████████████████████████████████████████████████████████████████| 4/4 [00:00<00:00, 22.08it/s]\n",
      "propagate in video: 100%|████████████████████████████████████████████████████████████████| 5/5 [00:00<00:00, 31.53it/s]\n",
      "propagate in video: 100%|████████████████████████████████████████████████████████████████| 4/4 [00:00<00:00, 22.27it/s]\n",
      "propagate in video: 100%|████████████████████████████████████████████████████████████████| 5/5 [00:00<00:00, 30.92it/s]\n",
      "propagate in video: 100%|████████████████████████████████████████████████████████████████| 4/4 [00:00<00:00, 24.07it/s]\n"
     ]
    },
    {
     "name": "stdout",
     "output_type": "stream",
     "text": [
      "./MnM_output_middle/B6I0T4_ED\n"
     ]
    },
    {
     "name": "stderr",
     "output_type": "stream",
     "text": [
      "frame loading (JPEG): 100%|██████████████████████████████████████████████████████████████| 4/4 [00:00<00:00, 44.74it/s]\n",
      "propagate in video: 100%|████████████████████████████████████████████████████████████████| 2/2 [00:00<00:00, 48.82it/s]\n",
      "propagate in video: 100%|████████████████████████████████████████████████████████████████| 2/2 [00:00<00:00, 24.22it/s]\n",
      "propagate in video: 100%|████████████████████████████████████████████████████████████████| 2/2 [00:00<00:00, 56.23it/s]\n",
      "propagate in video: 100%|████████████████████████████████████████████████████████████████| 2/2 [00:00<00:00, 24.88it/s]\n",
      "propagate in video: 100%|████████████████████████████████████████████████████████████████| 2/2 [00:00<00:00, 51.97it/s]\n",
      "propagate in video: 100%|████████████████████████████████████████████████████████████████| 2/2 [00:00<00:00, 26.38it/s]\n"
     ]
    },
    {
     "name": "stdout",
     "output_type": "stream",
     "text": [
      "./MnM_output_middle/B6I0T4_ES\n"
     ]
    },
    {
     "name": "stderr",
     "output_type": "stream",
     "text": [
      "frame loading (JPEG): 100%|██████████████████████████████████████████████████████████████| 4/4 [00:00<00:00, 40.51it/s]\n",
      "propagate in video: 100%|████████████████████████████████████████████████████████████████| 2/2 [00:00<00:00, 54.03it/s]\n",
      "propagate in video: 100%|████████████████████████████████████████████████████████████████| 2/2 [00:00<00:00, 26.11it/s]\n",
      "propagate in video: 100%|████████████████████████████████████████████████████████████████| 2/2 [00:00<00:00, 50.08it/s]\n",
      "propagate in video: 100%|████████████████████████████████████████████████████████████████| 2/2 [00:00<00:00, 23.65it/s]\n",
      "propagate in video: 100%|████████████████████████████████████████████████████████████████| 2/2 [00:00<00:00, 68.72it/s]\n",
      "propagate in video: 100%|████████████████████████████████████████████████████████████████| 2/2 [00:00<00:00, 26.78it/s]\n"
     ]
    },
    {
     "name": "stdout",
     "output_type": "stream",
     "text": [
      "./MnM_output_middle/B7F5P0_ED\n"
     ]
    },
    {
     "name": "stderr",
     "output_type": "stream",
     "text": [
      "frame loading (JPEG): 100%|████████████████████████████████████████████████████████████| 11/11 [00:00<00:00, 41.26it/s]\n",
      "propagate in video: 100%|████████████████████████████████████████████████████████████████| 6/6 [00:00<00:00, 29.19it/s]\n",
      "propagate in video: 100%|████████████████████████████████████████████████████████████████| 5/5 [00:00<00:00, 22.50it/s]\n",
      "propagate in video: 100%|████████████████████████████████████████████████████████████████| 6/6 [00:00<00:00, 27.86it/s]\n",
      "propagate in video: 100%|████████████████████████████████████████████████████████████████| 5/5 [00:00<00:00, 21.69it/s]\n",
      "propagate in video: 100%|████████████████████████████████████████████████████████████████| 6/6 [00:00<00:00, 29.50it/s]\n",
      "propagate in video: 100%|████████████████████████████████████████████████████████████████| 5/5 [00:00<00:00, 22.58it/s]\n"
     ]
    },
    {
     "name": "stdout",
     "output_type": "stream",
     "text": [
      "./MnM_output_middle/B7F5P0_ES\n"
     ]
    },
    {
     "name": "stderr",
     "output_type": "stream",
     "text": [
      "frame loading (JPEG): 100%|████████████████████████████████████████████████████████████| 11/11 [00:00<00:00, 45.02it/s]\n",
      "propagate in video: 100%|████████████████████████████████████████████████████████████████| 6/6 [00:00<00:00, 30.95it/s]\n",
      "propagate in video: 100%|████████████████████████████████████████████████████████████████| 5/5 [00:00<00:00, 22.22it/s]\n",
      "propagate in video: 100%|████████████████████████████████████████████████████████████████| 6/6 [00:00<00:00, 29.94it/s]\n",
      "propagate in video: 100%|████████████████████████████████████████████████████████████████| 5/5 [00:00<00:00, 21.93it/s]\n",
      "propagate in video: 100%|████████████████████████████████████████████████████████████████| 6/6 [00:00<00:00, 27.30it/s]\n",
      "propagate in video: 100%|████████████████████████████████████████████████████████████████| 5/5 [00:00<00:00, 22.05it/s]\n"
     ]
    },
    {
     "name": "stdout",
     "output_type": "stream",
     "text": [
      "./MnM_output_middle/B8P5Q9_ED\n"
     ]
    },
    {
     "name": "stderr",
     "output_type": "stream",
     "text": [
      "frame loading (JPEG): 100%|██████████████████████████████████████████████████████████████| 9/9 [00:00<00:00, 41.86it/s]\n",
      "propagate in video: 100%|████████████████████████████████████████████████████████████████| 5/5 [00:00<00:00, 31.13it/s]\n",
      "propagate in video: 100%|████████████████████████████████████████████████████████████████| 4/4 [00:00<00:00, 22.17it/s]\n",
      "propagate in video: 100%|████████████████████████████████████████████████████████████████| 5/5 [00:00<00:00, 32.54it/s]\n",
      "propagate in video: 100%|████████████████████████████████████████████████████████████████| 4/4 [00:00<00:00, 22.88it/s]\n",
      "propagate in video: 100%|████████████████████████████████████████████████████████████████| 5/5 [00:00<00:00, 32.45it/s]\n",
      "propagate in video: 100%|████████████████████████████████████████████████████████████████| 4/4 [00:00<00:00, 22.23it/s]\n"
     ]
    },
    {
     "name": "stdout",
     "output_type": "stream",
     "text": [
      "./MnM_output_middle/B8P5Q9_ES\n"
     ]
    },
    {
     "name": "stderr",
     "output_type": "stream",
     "text": [
      "frame loading (JPEG): 100%|██████████████████████████████████████████████████████████████| 7/7 [00:00<00:00, 41.04it/s]\n",
      "propagate in video: 100%|████████████████████████████████████████████████████████████████| 4/4 [00:00<00:00, 35.25it/s]\n",
      "propagate in video: 100%|████████████████████████████████████████████████████████████████| 3/3 [00:00<00:00, 22.57it/s]\n",
      "propagate in video: 100%|████████████████████████████████████████████████████████████████| 4/4 [00:00<00:00, 36.56it/s]\n",
      "propagate in video: 100%|████████████████████████████████████████████████████████████████| 3/3 [00:00<00:00, 22.28it/s]\n",
      "propagate in video: 100%|████████████████████████████████████████████████████████████████| 4/4 [00:00<00:00, 34.68it/s]\n",
      "propagate in video: 100%|████████████████████████████████████████████████████████████████| 3/3 [00:00<00:00, 23.60it/s]\n"
     ]
    },
    {
     "name": "stdout",
     "output_type": "stream",
     "text": [
      "./MnM_output_middle/B9G4U2_ED\n"
     ]
    },
    {
     "name": "stderr",
     "output_type": "stream",
     "text": [
      "frame loading (JPEG): 100%|████████████████████████████████████████████████████████████| 11/11 [00:00<00:00, 43.00it/s]\n",
      "propagate in video: 100%|████████████████████████████████████████████████████████████████| 6/6 [00:00<00:00, 29.61it/s]\n",
      "propagate in video: 100%|████████████████████████████████████████████████████████████████| 5/5 [00:00<00:00, 21.99it/s]\n",
      "propagate in video: 100%|████████████████████████████████████████████████████████████████| 6/6 [00:00<00:00, 29.44it/s]\n",
      "propagate in video: 100%|████████████████████████████████████████████████████████████████| 5/5 [00:00<00:00, 22.14it/s]\n",
      "propagate in video: 100%|████████████████████████████████████████████████████████████████| 6/6 [00:00<00:00, 30.77it/s]\n",
      "propagate in video: 100%|████████████████████████████████████████████████████████████████| 5/5 [00:00<00:00, 21.98it/s]\n"
     ]
    },
    {
     "name": "stdout",
     "output_type": "stream",
     "text": [
      "./MnM_output_middle/B9G4U2_ES\n"
     ]
    },
    {
     "name": "stderr",
     "output_type": "stream",
     "text": [
      "frame loading (JPEG): 100%|████████████████████████████████████████████████████████████| 10/10 [00:00<00:00, 42.87it/s]\n",
      "propagate in video: 100%|████████████████████████████████████████████████████████████████| 5/5 [00:00<00:00, 34.18it/s]\n",
      "propagate in video: 100%|████████████████████████████████████████████████████████████████| 5/5 [00:00<00:00, 21.96it/s]\n",
      "propagate in video: 100%|████████████████████████████████████████████████████████████████| 5/5 [00:00<00:00, 32.05it/s]\n",
      "propagate in video: 100%|████████████████████████████████████████████████████████████████| 5/5 [00:00<00:00, 22.12it/s]\n",
      "propagate in video: 100%|████████████████████████████████████████████████████████████████| 5/5 [00:00<00:00, 32.23it/s]\n",
      "propagate in video: 100%|████████████████████████████████████████████████████████████████| 5/5 [00:00<00:00, 22.06it/s]\n"
     ]
    },
    {
     "name": "stdout",
     "output_type": "stream",
     "text": [
      "./MnM_output_middle/B9H8N8_ED\n"
     ]
    },
    {
     "name": "stderr",
     "output_type": "stream",
     "text": [
      "frame loading (JPEG): 100%|██████████████████████████████████████████████████████████████| 7/7 [00:00<00:00, 50.42it/s]\n",
      "propagate in video: 100%|████████████████████████████████████████████████████████████████| 4/4 [00:00<00:00, 33.50it/s]\n",
      "propagate in video: 100%|████████████████████████████████████████████████████████████████| 3/3 [00:00<00:00, 22.54it/s]\n",
      "propagate in video: 100%|████████████████████████████████████████████████████████████████| 4/4 [00:00<00:00, 36.16it/s]\n",
      "propagate in video: 100%|████████████████████████████████████████████████████████████████| 3/3 [00:00<00:00, 22.86it/s]\n",
      "propagate in video: 100%|████████████████████████████████████████████████████████████████| 4/4 [00:00<00:00, 36.35it/s]\n",
      "propagate in video: 100%|████████████████████████████████████████████████████████████████| 3/3 [00:00<00:00, 23.90it/s]\n"
     ]
    },
    {
     "name": "stdout",
     "output_type": "stream",
     "text": [
      "./MnM_output_middle/B9H8N8_ES\n"
     ]
    },
    {
     "name": "stderr",
     "output_type": "stream",
     "text": [
      "frame loading (JPEG): 100%|██████████████████████████████████████████████████████████████| 6/6 [00:00<00:00, 46.09it/s]\n",
      "propagate in video: 100%|████████████████████████████████████████████████████████████████| 3/3 [00:00<00:00, 43.36it/s]\n",
      "propagate in video: 100%|████████████████████████████████████████████████████████████████| 3/3 [00:00<00:00, 23.60it/s]\n",
      "propagate in video: 100%|████████████████████████████████████████████████████████████████| 3/3 [00:00<00:00, 41.62it/s]\n",
      "propagate in video: 100%|████████████████████████████████████████████████████████████████| 3/3 [00:00<00:00, 23.80it/s]\n",
      "propagate in video: 100%|████████████████████████████████████████████████████████████████| 3/3 [00:00<00:00, 41.29it/s]\n",
      "propagate in video: 100%|████████████████████████████████████████████████████████████████| 3/3 [00:00<00:00, 25.14it/s]\n"
     ]
    },
    {
     "name": "stdout",
     "output_type": "stream",
     "text": [
      "./MnM_output_middle/C0L7V1_ED\n"
     ]
    },
    {
     "name": "stderr",
     "output_type": "stream",
     "text": [
      "frame loading (JPEG): 100%|██████████████████████████████████████████████████████████████| 8/8 [00:00<00:00, 42.91it/s]\n",
      "propagate in video: 100%|████████████████████████████████████████████████████████████████| 4/4 [00:00<00:00, 35.98it/s]\n",
      "propagate in video: 100%|████████████████████████████████████████████████████████████████| 4/4 [00:00<00:00, 22.69it/s]\n",
      "propagate in video: 100%|████████████████████████████████████████████████████████████████| 4/4 [00:00<00:00, 35.84it/s]\n",
      "propagate in video: 100%|████████████████████████████████████████████████████████████████| 4/4 [00:00<00:00, 22.71it/s]\n",
      "propagate in video: 100%|████████████████████████████████████████████████████████████████| 4/4 [00:00<00:00, 34.72it/s]\n",
      "propagate in video: 100%|████████████████████████████████████████████████████████████████| 4/4 [00:00<00:00, 22.92it/s]\n"
     ]
    },
    {
     "name": "stdout",
     "output_type": "stream",
     "text": [
      "./MnM_output_middle/C0L7V1_ES\n"
     ]
    },
    {
     "name": "stderr",
     "output_type": "stream",
     "text": [
      "frame loading (JPEG): 100%|██████████████████████████████████████████████████████████████| 7/7 [00:00<00:00, 45.31it/s]\n",
      "propagate in video: 100%|████████████████████████████████████████████████████████████████| 4/4 [00:00<00:00, 35.91it/s]\n",
      "propagate in video: 100%|████████████████████████████████████████████████████████████████| 3/3 [00:00<00:00, 24.02it/s]\n",
      "propagate in video: 100%|████████████████████████████████████████████████████████████████| 4/4 [00:00<00:00, 36.08it/s]\n",
      "propagate in video: 100%|████████████████████████████████████████████████████████████████| 3/3 [00:00<00:00, 22.58it/s]\n",
      "propagate in video: 100%|████████████████████████████████████████████████████████████████| 4/4 [00:00<00:00, 35.91it/s]\n",
      "propagate in video: 100%|████████████████████████████████████████████████████████████████| 3/3 [00:00<00:00, 21.00it/s]\n"
     ]
    },
    {
     "name": "stdout",
     "output_type": "stream",
     "text": [
      "./MnM_output_middle/C0N8P4_ED\n"
     ]
    },
    {
     "name": "stderr",
     "output_type": "stream",
     "text": [
      "frame loading (JPEG): 100%|██████████████████████████████████████████████████████████████| 8/8 [00:00<00:00, 46.81it/s]\n",
      "propagate in video: 100%|████████████████████████████████████████████████████████████████| 4/4 [00:00<00:00, 36.38it/s]\n",
      "propagate in video: 100%|████████████████████████████████████████████████████████████████| 4/4 [00:00<00:00, 23.40it/s]\n",
      "propagate in video: 100%|████████████████████████████████████████████████████████████████| 4/4 [00:00<00:00, 35.64it/s]\n",
      "propagate in video: 100%|████████████████████████████████████████████████████████████████| 4/4 [00:00<00:00, 21.74it/s]\n",
      "propagate in video: 100%|████████████████████████████████████████████████████████████████| 4/4 [00:00<00:00, 35.70it/s]\n",
      "propagate in video: 100%|████████████████████████████████████████████████████████████████| 4/4 [00:00<00:00, 23.81it/s]\n"
     ]
    },
    {
     "name": "stdout",
     "output_type": "stream",
     "text": [
      "./MnM_output_middle/C0N8P4_ES\n"
     ]
    },
    {
     "name": "stderr",
     "output_type": "stream",
     "text": [
      "frame loading (JPEG): 100%|██████████████████████████████████████████████████████████████| 6/6 [00:00<00:00, 48.30it/s]\n",
      "propagate in video: 100%|████████████████████████████████████████████████████████████████| 3/3 [00:00<00:00, 39.90it/s]\n",
      "propagate in video: 100%|████████████████████████████████████████████████████████████████| 3/3 [00:00<00:00, 23.75it/s]\n",
      "propagate in video: 100%|████████████████████████████████████████████████████████████████| 3/3 [00:00<00:00, 40.46it/s]\n",
      "propagate in video: 100%|████████████████████████████████████████████████████████████████| 3/3 [00:00<00:00, 24.54it/s]\n",
      "propagate in video: 100%|████████████████████████████████████████████████████████████████| 3/3 [00:00<00:00, 39.93it/s]\n",
      "propagate in video: 100%|████████████████████████████████████████████████████████████████| 3/3 [00:00<00:00, 22.45it/s]\n"
     ]
    },
    {
     "name": "stdout",
     "output_type": "stream",
     "text": [
      "./MnM_output_middle/C6U4W8_ED\n"
     ]
    },
    {
     "name": "stderr",
     "output_type": "stream",
     "text": [
      "frame loading (JPEG): 100%|████████████████████████████████████████████████████████████| 10/10 [00:00<00:00, 46.61it/s]\n",
      "propagate in video: 100%|████████████████████████████████████████████████████████████████| 5/5 [00:00<00:00, 31.52it/s]\n",
      "propagate in video: 100%|████████████████████████████████████████████████████████████████| 5/5 [00:00<00:00, 21.56it/s]\n",
      "propagate in video: 100%|████████████████████████████████████████████████████████████████| 5/5 [00:00<00:00, 31.88it/s]\n",
      "propagate in video: 100%|████████████████████████████████████████████████████████████████| 5/5 [00:00<00:00, 22.16it/s]\n",
      "propagate in video: 100%|████████████████████████████████████████████████████████████████| 5/5 [00:00<00:00, 31.61it/s]\n",
      "propagate in video: 100%|████████████████████████████████████████████████████████████████| 5/5 [00:00<00:00, 22.79it/s]\n"
     ]
    },
    {
     "name": "stdout",
     "output_type": "stream",
     "text": [
      "./MnM_output_middle/C6U4W8_ES\n"
     ]
    },
    {
     "name": "stderr",
     "output_type": "stream",
     "text": [
      "frame loading (JPEG): 100%|██████████████████████████████████████████████████████████████| 8/8 [00:00<00:00, 47.62it/s]\n",
      "propagate in video: 100%|████████████████████████████████████████████████████████████████| 4/4 [00:00<00:00, 36.10it/s]\n",
      "propagate in video: 100%|████████████████████████████████████████████████████████████████| 4/4 [00:00<00:00, 22.22it/s]\n",
      "propagate in video: 100%|████████████████████████████████████████████████████████████████| 4/4 [00:00<00:00, 34.52it/s]\n",
      "propagate in video: 100%|████████████████████████████████████████████████████████████████| 4/4 [00:00<00:00, 22.78it/s]\n",
      "propagate in video: 100%|████████████████████████████████████████████████████████████████| 4/4 [00:00<00:00, 35.49it/s]\n",
      "propagate in video: 100%|████████████████████████████████████████████████████████████████| 4/4 [00:00<00:00, 22.58it/s]\n"
     ]
    },
    {
     "name": "stdout",
     "output_type": "stream",
     "text": [
      "./MnM_output_middle/C7L8Z8_ED\n"
     ]
    },
    {
     "name": "stderr",
     "output_type": "stream",
     "text": [
      "frame loading (JPEG): 100%|████████████████████████████████████████████████████████████| 10/10 [00:00<00:00, 44.51it/s]\n",
      "propagate in video: 100%|████████████████████████████████████████████████████████████████| 5/5 [00:00<00:00, 31.30it/s]\n",
      "propagate in video: 100%|████████████████████████████████████████████████████████████████| 5/5 [00:00<00:00, 21.68it/s]\n",
      "propagate in video: 100%|████████████████████████████████████████████████████████████████| 5/5 [00:00<00:00, 31.65it/s]\n",
      "propagate in video: 100%|████████████████████████████████████████████████████████████████| 5/5 [00:00<00:00, 21.78it/s]\n",
      "propagate in video: 100%|████████████████████████████████████████████████████████████████| 5/5 [00:00<00:00, 30.00it/s]\n",
      "propagate in video: 100%|████████████████████████████████████████████████████████████████| 5/5 [00:00<00:00, 21.94it/s]\n"
     ]
    },
    {
     "name": "stdout",
     "output_type": "stream",
     "text": [
      "./MnM_output_middle/C7L8Z8_ES\n"
     ]
    },
    {
     "name": "stderr",
     "output_type": "stream",
     "text": [
      "frame loading (JPEG): 100%|██████████████████████████████████████████████████████████████| 8/8 [00:00<00:00, 47.30it/s]\n",
      "propagate in video: 100%|████████████████████████████████████████████████████████████████| 4/4 [00:00<00:00, 37.24it/s]\n",
      "propagate in video: 100%|████████████████████████████████████████████████████████████████| 4/4 [00:00<00:00, 20.70it/s]\n",
      "propagate in video: 100%|████████████████████████████████████████████████████████████████| 4/4 [00:00<00:00, 29.60it/s]\n",
      "propagate in video: 100%|████████████████████████████████████████████████████████████████| 4/4 [00:00<00:00, 22.43it/s]\n",
      "propagate in video: 100%|████████████████████████████████████████████████████████████████| 4/4 [00:00<00:00, 36.29it/s]\n",
      "propagate in video: 100%|████████████████████████████████████████████████████████████████| 4/4 [00:00<00:00, 23.08it/s]\n"
     ]
    },
    {
     "name": "stdout",
     "output_type": "stream",
     "text": [
      "./MnM_output_middle/C7M6W0_ED\n"
     ]
    },
    {
     "name": "stderr",
     "output_type": "stream",
     "text": [
      "frame loading (JPEG): 100%|██████████████████████████████████████████████████████████████| 9/9 [00:00<00:00, 46.43it/s]\n",
      "propagate in video: 100%|████████████████████████████████████████████████████████████████| 5/5 [00:00<00:00, 31.55it/s]\n",
      "propagate in video: 100%|████████████████████████████████████████████████████████████████| 4/4 [00:00<00:00, 21.83it/s]\n",
      "propagate in video: 100%|████████████████████████████████████████████████████████████████| 5/5 [00:00<00:00, 31.46it/s]\n",
      "propagate in video: 100%|████████████████████████████████████████████████████████████████| 4/4 [00:00<00:00, 21.85it/s]\n",
      "propagate in video: 100%|████████████████████████████████████████████████████████████████| 5/5 [00:00<00:00, 33.04it/s]\n",
      "propagate in video: 100%|████████████████████████████████████████████████████████████████| 4/4 [00:00<00:00, 22.02it/s]\n"
     ]
    },
    {
     "name": "stdout",
     "output_type": "stream",
     "text": [
      "./MnM_output_middle/C7M6W0_ES\n"
     ]
    },
    {
     "name": "stderr",
     "output_type": "stream",
     "text": [
      "frame loading (JPEG): 100%|██████████████████████████████████████████████████████████████| 8/8 [00:00<00:00, 42.15it/s]\n",
      "propagate in video: 100%|████████████████████████████████████████████████████████████████| 4/4 [00:00<00:00, 32.28it/s]\n",
      "propagate in video: 100%|████████████████████████████████████████████████████████████████| 4/4 [00:00<00:00, 22.84it/s]\n",
      "propagate in video: 100%|████████████████████████████████████████████████████████████████| 4/4 [00:00<00:00, 38.05it/s]\n",
      "propagate in video: 100%|████████████████████████████████████████████████████████████████| 4/4 [00:00<00:00, 22.54it/s]\n",
      "propagate in video: 100%|████████████████████████████████████████████████████████████████| 4/4 [00:00<00:00, 33.75it/s]\n",
      "propagate in video: 100%|████████████████████████████████████████████████████████████████| 4/4 [00:00<00:00, 22.11it/s]\n"
     ]
    },
    {
     "name": "stdout",
     "output_type": "stream",
     "text": [
      "./MnM_output_middle/C8O0P2_ED\n"
     ]
    },
    {
     "name": "stderr",
     "output_type": "stream",
     "text": [
      "frame loading (JPEG): 100%|██████████████████████████████████████████████████████████████| 7/7 [00:00<00:00, 46.61it/s]\n",
      "propagate in video: 100%|████████████████████████████████████████████████████████████████| 4/4 [00:00<00:00, 28.26it/s]\n",
      "propagate in video: 100%|████████████████████████████████████████████████████████████████| 3/3 [00:00<00:00, 22.79it/s]\n",
      "propagate in video: 100%|████████████████████████████████████████████████████████████████| 4/4 [00:00<00:00, 36.23it/s]\n",
      "propagate in video: 100%|████████████████████████████████████████████████████████████████| 3/3 [00:00<00:00, 23.02it/s]\n",
      "propagate in video: 100%|████████████████████████████████████████████████████████████████| 4/4 [00:00<00:00, 38.10it/s]\n",
      "propagate in video: 100%|████████████████████████████████████████████████████████████████| 3/3 [00:00<00:00, 23.21it/s]\n"
     ]
    },
    {
     "name": "stdout",
     "output_type": "stream",
     "text": [
      "./MnM_output_middle/C8O0P2_ES\n"
     ]
    },
    {
     "name": "stderr",
     "output_type": "stream",
     "text": [
      "frame loading (JPEG): 100%|██████████████████████████████████████████████████████████████| 5/5 [00:00<00:00, 48.06it/s]\n",
      "propagate in video: 100%|████████████████████████████████████████████████████████████████| 3/3 [00:00<00:00, 42.43it/s]\n",
      "propagate in video: 100%|████████████████████████████████████████████████████████████████| 2/2 [00:00<00:00, 26.59it/s]\n",
      "propagate in video: 100%|████████████████████████████████████████████████████████████████| 3/3 [00:00<00:00, 40.25it/s]\n",
      "propagate in video: 100%|████████████████████████████████████████████████████████████████| 2/2 [00:00<00:00, 23.60it/s]\n",
      "propagate in video: 100%|████████████████████████████████████████████████████████████████| 3/3 [00:00<00:00, 43.02it/s]\n",
      "propagate in video: 100%|████████████████████████████████████████████████████████████████| 2/2 [00:00<00:00, 26.69it/s]\n"
     ]
    },
    {
     "name": "stdout",
     "output_type": "stream",
     "text": [
      "./MnM_output_middle/D1H2O9_ED\n"
     ]
    },
    {
     "name": "stderr",
     "output_type": "stream",
     "text": [
      "frame loading (JPEG): 100%|██████████████████████████████████████████████████████████████| 9/9 [00:00<00:00, 47.93it/s]\n",
      "propagate in video: 100%|████████████████████████████████████████████████████████████████| 5/5 [00:00<00:00, 33.46it/s]\n",
      "propagate in video: 100%|████████████████████████████████████████████████████████████████| 4/4 [00:00<00:00, 22.52it/s]\n",
      "propagate in video: 100%|████████████████████████████████████████████████████████████████| 5/5 [00:00<00:00, 33.06it/s]\n",
      "propagate in video: 100%|████████████████████████████████████████████████████████████████| 4/4 [00:00<00:00, 24.01it/s]\n",
      "propagate in video: 100%|████████████████████████████████████████████████████████████████| 5/5 [00:00<00:00, 31.65it/s]\n",
      "propagate in video: 100%|████████████████████████████████████████████████████████████████| 4/4 [00:00<00:00, 20.93it/s]\n"
     ]
    },
    {
     "name": "stdout",
     "output_type": "stream",
     "text": [
      "./MnM_output_middle/D1H2O9_ES\n"
     ]
    },
    {
     "name": "stderr",
     "output_type": "stream",
     "text": [
      "frame loading (JPEG): 100%|██████████████████████████████████████████████████████████████| 8/8 [00:00<00:00, 46.88it/s]\n",
      "propagate in video: 100%|████████████████████████████████████████████████████████████████| 4/4 [00:00<00:00, 34.68it/s]\n",
      "propagate in video: 100%|████████████████████████████████████████████████████████████████| 4/4 [00:00<00:00, 22.58it/s]\n",
      "propagate in video: 100%|████████████████████████████████████████████████████████████████| 4/4 [00:00<00:00, 35.64it/s]\n",
      "propagate in video: 100%|████████████████████████████████████████████████████████████████| 4/4 [00:00<00:00, 22.51it/s]\n",
      "propagate in video: 100%|████████████████████████████████████████████████████████████████| 4/4 [00:00<00:00, 36.91it/s]\n",
      "propagate in video: 100%|████████████████████████████████████████████████████████████████| 4/4 [00:00<00:00, 22.13it/s]\n"
     ]
    },
    {
     "name": "stdout",
     "output_type": "stream",
     "text": [
      "./MnM_output_middle/D1L6T4_ED\n"
     ]
    },
    {
     "name": "stderr",
     "output_type": "stream",
     "text": [
      "frame loading (JPEG): 100%|██████████████████████████████████████████████████████████████| 8/8 [00:00<00:00, 42.20it/s]\n",
      "propagate in video: 100%|████████████████████████████████████████████████████████████████| 4/4 [00:00<00:00, 36.14it/s]\n",
      "propagate in video: 100%|████████████████████████████████████████████████████████████████| 4/4 [00:00<00:00, 23.38it/s]\n",
      "propagate in video: 100%|████████████████████████████████████████████████████████████████| 4/4 [00:00<00:00, 36.47it/s]\n",
      "propagate in video: 100%|████████████████████████████████████████████████████████████████| 4/4 [00:00<00:00, 22.60it/s]\n",
      "propagate in video: 100%|████████████████████████████████████████████████████████████████| 4/4 [00:00<00:00, 33.97it/s]\n",
      "propagate in video: 100%|████████████████████████████████████████████████████████████████| 4/4 [00:00<00:00, 22.93it/s]\n"
     ]
    },
    {
     "name": "stdout",
     "output_type": "stream",
     "text": [
      "./MnM_output_middle/D1L6T4_ES\n"
     ]
    },
    {
     "name": "stderr",
     "output_type": "stream",
     "text": [
      "frame loading (JPEG): 100%|██████████████████████████████████████████████████████████████| 7/7 [00:00<00:00, 40.96it/s]\n",
      "propagate in video: 100%|████████████████████████████████████████████████████████████████| 4/4 [00:00<00:00, 36.58it/s]\n",
      "propagate in video: 100%|████████████████████████████████████████████████████████████████| 3/3 [00:00<00:00, 22.78it/s]\n",
      "propagate in video: 100%|████████████████████████████████████████████████████████████████| 4/4 [00:00<00:00, 34.27it/s]\n",
      "propagate in video: 100%|████████████████████████████████████████████████████████████████| 3/3 [00:00<00:00, 22.75it/s]\n",
      "propagate in video: 100%|████████████████████████████████████████████████████████████████| 4/4 [00:00<00:00, 27.80it/s]\n",
      "propagate in video: 100%|████████████████████████████████████████████████████████████████| 3/3 [00:00<00:00, 21.85it/s]\n"
     ]
    },
    {
     "name": "stdout",
     "output_type": "stream",
     "text": [
      "./MnM_output_middle/D3K5Q2_ED\n"
     ]
    },
    {
     "name": "stderr",
     "output_type": "stream",
     "text": [
      "frame loading (JPEG): 100%|██████████████████████████████████████████████████████████████| 6/6 [00:00<00:00, 46.64it/s]\n",
      "propagate in video: 100%|████████████████████████████████████████████████████████████████| 3/3 [00:00<00:00, 45.00it/s]\n",
      "propagate in video: 100%|████████████████████████████████████████████████████████████████| 3/3 [00:00<00:00, 26.53it/s]\n",
      "propagate in video: 100%|████████████████████████████████████████████████████████████████| 3/3 [00:00<00:00, 39.03it/s]\n",
      "propagate in video: 100%|████████████████████████████████████████████████████████████████| 3/3 [00:00<00:00, 26.22it/s]\n",
      "propagate in video: 100%|████████████████████████████████████████████████████████████████| 3/3 [00:00<00:00, 41.69it/s]\n",
      "propagate in video: 100%|████████████████████████████████████████████████████████████████| 3/3 [00:00<00:00, 23.20it/s]\n"
     ]
    },
    {
     "name": "stdout",
     "output_type": "stream",
     "text": [
      "./MnM_output_middle/D3K5Q2_ES\n"
     ]
    },
    {
     "name": "stderr",
     "output_type": "stream",
     "text": [
      "frame loading (JPEG): 100%|██████████████████████████████████████████████████████████████| 5/5 [00:00<00:00, 49.94it/s]\n",
      "propagate in video: 100%|████████████████████████████████████████████████████████████████| 3/3 [00:00<00:00, 36.28it/s]\n",
      "propagate in video: 100%|████████████████████████████████████████████████████████████████| 2/2 [00:00<00:00, 24.67it/s]\n",
      "propagate in video: 100%|████████████████████████████████████████████████████████████████| 3/3 [00:00<00:00, 39.72it/s]\n",
      "propagate in video: 100%|████████████████████████████████████████████████████████████████| 2/2 [00:00<00:00, 24.24it/s]\n",
      "propagate in video: 100%|████████████████████████████████████████████████████████████████| 3/3 [00:00<00:00, 42.58it/s]\n",
      "propagate in video: 100%|████████████████████████████████████████████████████████████████| 2/2 [00:00<00:00, 26.68it/s]\n"
     ]
    },
    {
     "name": "stdout",
     "output_type": "stream",
     "text": [
      "./MnM_output_middle/D3Q0W9_ED\n"
     ]
    },
    {
     "name": "stderr",
     "output_type": "stream",
     "text": [
      "frame loading (JPEG): 100%|██████████████████████████████████████████████████████████████| 8/8 [00:00<00:00, 45.57it/s]\n",
      "propagate in video: 100%|████████████████████████████████████████████████████████████████| 4/4 [00:00<00:00, 35.82it/s]\n",
      "propagate in video: 100%|████████████████████████████████████████████████████████████████| 4/4 [00:00<00:00, 23.11it/s]\n",
      "propagate in video: 100%|████████████████████████████████████████████████████████████████| 4/4 [00:00<00:00, 32.55it/s]\n",
      "propagate in video: 100%|████████████████████████████████████████████████████████████████| 4/4 [00:00<00:00, 23.30it/s]\n",
      "propagate in video: 100%|████████████████████████████████████████████████████████████████| 4/4 [00:00<00:00, 35.98it/s]\n",
      "propagate in video: 100%|████████████████████████████████████████████████████████████████| 4/4 [00:00<00:00, 23.09it/s]\n"
     ]
    },
    {
     "name": "stdout",
     "output_type": "stream",
     "text": [
      "./MnM_output_middle/D3Q0W9_ES\n"
     ]
    },
    {
     "name": "stderr",
     "output_type": "stream",
     "text": [
      "frame loading (JPEG): 100%|██████████████████████████████████████████████████████████████| 7/7 [00:00<00:00, 45.49it/s]\n",
      "propagate in video: 100%|████████████████████████████████████████████████████████████████| 4/4 [00:00<00:00, 33.70it/s]\n",
      "propagate in video: 100%|████████████████████████████████████████████████████████████████| 3/3 [00:00<00:00, 23.43it/s]\n",
      "propagate in video: 100%|████████████████████████████████████████████████████████████████| 4/4 [00:00<00:00, 36.90it/s]\n",
      "propagate in video: 100%|████████████████████████████████████████████████████████████████| 3/3 [00:00<00:00, 24.15it/s]\n",
      "propagate in video: 100%|████████████████████████████████████████████████████████████████| 4/4 [00:00<00:00, 36.85it/s]\n",
      "propagate in video: 100%|████████████████████████████████████████████████████████████████| 3/3 [00:00<00:00, 23.86it/s]\n"
     ]
    },
    {
     "name": "stdout",
     "output_type": "stream",
     "text": [
      "./MnM_output_middle/D6E9U8_ED\n"
     ]
    },
    {
     "name": "stderr",
     "output_type": "stream",
     "text": [
      "frame loading (JPEG): 100%|██████████████████████████████████████████████████████████████| 8/8 [00:00<00:00, 44.64it/s]\n",
      "propagate in video: 100%|████████████████████████████████████████████████████████████████| 4/4 [00:00<00:00, 38.84it/s]\n",
      "propagate in video: 100%|████████████████████████████████████████████████████████████████| 4/4 [00:00<00:00, 22.39it/s]\n",
      "propagate in video: 100%|████████████████████████████████████████████████████████████████| 4/4 [00:00<00:00, 35.51it/s]\n",
      "propagate in video: 100%|████████████████████████████████████████████████████████████████| 4/4 [00:00<00:00, 23.32it/s]\n",
      "propagate in video: 100%|████████████████████████████████████████████████████████████████| 4/4 [00:00<00:00, 34.16it/s]\n",
      "propagate in video: 100%|████████████████████████████████████████████████████████████████| 4/4 [00:00<00:00, 23.51it/s]\n"
     ]
    },
    {
     "name": "stdout",
     "output_type": "stream",
     "text": [
      "./MnM_output_middle/D6E9U8_ES\n"
     ]
    },
    {
     "name": "stderr",
     "output_type": "stream",
     "text": [
      "frame loading (JPEG): 100%|██████████████████████████████████████████████████████████████| 7/7 [00:00<00:00, 46.53it/s]\n",
      "propagate in video: 100%|████████████████████████████████████████████████████████████████| 4/4 [00:00<00:00, 35.19it/s]\n",
      "propagate in video: 100%|████████████████████████████████████████████████████████████████| 3/3 [00:00<00:00, 23.85it/s]\n",
      "propagate in video: 100%|████████████████████████████████████████████████████████████████| 4/4 [00:00<00:00, 35.91it/s]\n",
      "propagate in video: 100%|████████████████████████████████████████████████████████████████| 3/3 [00:00<00:00, 22.92it/s]\n",
      "propagate in video: 100%|████████████████████████████████████████████████████████████████| 4/4 [00:00<00:00, 35.06it/s]\n",
      "propagate in video: 100%|████████████████████████████████████████████████████████████████| 3/3 [00:00<00:00, 21.80it/s]\n"
     ]
    },
    {
     "name": "stdout",
     "output_type": "stream",
     "text": [
      "./MnM_output_middle/D9F5P1_ED\n"
     ]
    },
    {
     "name": "stderr",
     "output_type": "stream",
     "text": [
      "frame loading (JPEG): 100%|██████████████████████████████████████████████████████████████| 9/9 [00:00<00:00, 48.08it/s]\n",
      "propagate in video: 100%|████████████████████████████████████████████████████████████████| 5/5 [00:00<00:00, 31.96it/s]\n",
      "propagate in video: 100%|████████████████████████████████████████████████████████████████| 4/4 [00:00<00:00, 22.54it/s]\n",
      "propagate in video: 100%|████████████████████████████████████████████████████████████████| 5/5 [00:00<00:00, 31.87it/s]\n",
      "propagate in video: 100%|████████████████████████████████████████████████████████████████| 4/4 [00:00<00:00, 20.98it/s]\n",
      "propagate in video: 100%|████████████████████████████████████████████████████████████████| 5/5 [00:00<00:00, 33.34it/s]\n",
      "propagate in video: 100%|████████████████████████████████████████████████████████████████| 4/4 [00:00<00:00, 22.53it/s]\n"
     ]
    },
    {
     "name": "stdout",
     "output_type": "stream",
     "text": [
      "./MnM_output_middle/D9F5P1_ES\n"
     ]
    },
    {
     "name": "stderr",
     "output_type": "stream",
     "text": [
      "frame loading (JPEG): 100%|██████████████████████████████████████████████████████████████| 7/7 [00:00<00:00, 45.30it/s]\n",
      "propagate in video: 100%|████████████████████████████████████████████████████████████████| 4/4 [00:00<00:00, 35.53it/s]\n",
      "propagate in video: 100%|████████████████████████████████████████████████████████████████| 3/3 [00:00<00:00, 23.79it/s]\n",
      "propagate in video: 100%|████████████████████████████████████████████████████████████████| 4/4 [00:00<00:00, 36.53it/s]\n",
      "propagate in video: 100%|████████████████████████████████████████████████████████████████| 3/3 [00:00<00:00, 22.97it/s]\n",
      "propagate in video: 100%|████████████████████████████████████████████████████████████████| 4/4 [00:00<00:00, 37.99it/s]\n",
      "propagate in video: 100%|████████████████████████████████████████████████████████████████| 3/3 [00:00<00:00, 24.05it/s]\n"
     ]
    },
    {
     "name": "stdout",
     "output_type": "stream",
     "text": [
      "./MnM_output_middle/D9I8O7_ED\n"
     ]
    },
    {
     "name": "stderr",
     "output_type": "stream",
     "text": [
      "frame loading (JPEG): 100%|██████████████████████████████████████████████████████████████| 9/9 [00:00<00:00, 48.23it/s]\n",
      "propagate in video: 100%|████████████████████████████████████████████████████████████████| 5/5 [00:00<00:00, 33.23it/s]\n",
      "propagate in video: 100%|████████████████████████████████████████████████████████████████| 4/4 [00:00<00:00, 21.57it/s]\n",
      "propagate in video: 100%|████████████████████████████████████████████████████████████████| 5/5 [00:00<00:00, 33.09it/s]\n",
      "propagate in video: 100%|████████████████████████████████████████████████████████████████| 4/4 [00:00<00:00, 22.08it/s]\n",
      "propagate in video: 100%|████████████████████████████████████████████████████████████████| 5/5 [00:00<00:00, 33.56it/s]\n",
      "propagate in video: 100%|████████████████████████████████████████████████████████████████| 4/4 [00:00<00:00, 21.90it/s]\n"
     ]
    },
    {
     "name": "stdout",
     "output_type": "stream",
     "text": [
      "./MnM_output_middle/D9I8O7_ES\n"
     ]
    },
    {
     "name": "stderr",
     "output_type": "stream",
     "text": [
      "frame loading (JPEG): 100%|██████████████████████████████████████████████████████████████| 8/8 [00:00<00:00, 47.39it/s]\n",
      "propagate in video: 100%|████████████████████████████████████████████████████████████████| 4/4 [00:00<00:00, 35.05it/s]\n",
      "propagate in video: 100%|████████████████████████████████████████████████████████████████| 4/4 [00:00<00:00, 23.19it/s]\n",
      "propagate in video: 100%|████████████████████████████████████████████████████████████████| 4/4 [00:00<00:00, 36.16it/s]\n",
      "propagate in video: 100%|████████████████████████████████████████████████████████████████| 4/4 [00:00<00:00, 22.04it/s]\n",
      "propagate in video: 100%|████████████████████████████████████████████████████████████████| 4/4 [00:00<00:00, 32.39it/s]\n",
      "propagate in video: 100%|████████████████████████████████████████████████████████████████| 4/4 [00:00<00:00, 22.46it/s]\n"
     ]
    },
    {
     "name": "stdout",
     "output_type": "stream",
     "text": [
      "./MnM_output_middle/E0J2Z9_ED\n"
     ]
    },
    {
     "name": "stderr",
     "output_type": "stream",
     "text": [
      "frame loading (JPEG): 100%|██████████████████████████████████████████████████████████████| 9/9 [00:00<00:00, 43.87it/s]\n",
      "propagate in video: 100%|████████████████████████████████████████████████████████████████| 5/5 [00:00<00:00, 33.50it/s]\n",
      "propagate in video: 100%|████████████████████████████████████████████████████████████████| 4/4 [00:00<00:00, 22.53it/s]\n",
      "propagate in video: 100%|████████████████████████████████████████████████████████████████| 5/5 [00:00<00:00, 30.48it/s]\n",
      "propagate in video: 100%|████████████████████████████████████████████████████████████████| 4/4 [00:00<00:00, 22.89it/s]\n",
      "propagate in video: 100%|████████████████████████████████████████████████████████████████| 5/5 [00:00<00:00, 31.81it/s]\n",
      "propagate in video: 100%|████████████████████████████████████████████████████████████████| 4/4 [00:00<00:00, 21.94it/s]\n"
     ]
    },
    {
     "name": "stdout",
     "output_type": "stream",
     "text": [
      "./MnM_output_middle/E0J2Z9_ES\n"
     ]
    },
    {
     "name": "stderr",
     "output_type": "stream",
     "text": [
      "frame loading (JPEG): 100%|██████████████████████████████████████████████████████████████| 8/8 [00:00<00:00, 39.77it/s]\n",
      "propagate in video: 100%|████████████████████████████████████████████████████████████████| 4/4 [00:00<00:00, 32.38it/s]\n",
      "propagate in video: 100%|████████████████████████████████████████████████████████████████| 4/4 [00:00<00:00, 22.26it/s]\n",
      "propagate in video: 100%|████████████████████████████████████████████████████████████████| 4/4 [00:00<00:00, 35.22it/s]\n",
      "propagate in video: 100%|████████████████████████████████████████████████████████████████| 4/4 [00:00<00:00, 22.44it/s]\n",
      "propagate in video: 100%|████████████████████████████████████████████████████████████████| 4/4 [00:00<00:00, 33.87it/s]\n",
      "propagate in video: 100%|████████████████████████████████████████████████████████████████| 4/4 [00:00<00:00, 22.46it/s]\n"
     ]
    },
    {
     "name": "stdout",
     "output_type": "stream",
     "text": [
      "./MnM_output_middle/E0J7L9_ED\n"
     ]
    },
    {
     "name": "stderr",
     "output_type": "stream",
     "text": [
      "frame loading (JPEG): 100%|██████████████████████████████████████████████████████████████| 9/9 [00:00<00:00, 47.14it/s]\n",
      "propagate in video: 100%|████████████████████████████████████████████████████████████████| 5/5 [00:00<00:00, 30.63it/s]\n",
      "propagate in video: 100%|████████████████████████████████████████████████████████████████| 4/4 [00:00<00:00, 22.17it/s]\n",
      "propagate in video: 100%|████████████████████████████████████████████████████████████████| 5/5 [00:00<00:00, 33.50it/s]\n",
      "propagate in video: 100%|████████████████████████████████████████████████████████████████| 4/4 [00:00<00:00, 22.74it/s]\n",
      "propagate in video: 100%|████████████████████████████████████████████████████████████████| 5/5 [00:00<00:00, 32.96it/s]\n",
      "propagate in video: 100%|████████████████████████████████████████████████████████████████| 4/4 [00:00<00:00, 22.46it/s]\n"
     ]
    },
    {
     "name": "stdout",
     "output_type": "stream",
     "text": [
      "./MnM_output_middle/E0J7L9_ES\n"
     ]
    },
    {
     "name": "stderr",
     "output_type": "stream",
     "text": [
      "frame loading (JPEG): 100%|██████████████████████████████████████████████████████████████| 7/7 [00:00<00:00, 49.48it/s]\n",
      "propagate in video: 100%|████████████████████████████████████████████████████████████████| 4/4 [00:00<00:00, 35.87it/s]\n",
      "propagate in video: 100%|████████████████████████████████████████████████████████████████| 3/3 [00:00<00:00, 22.66it/s]\n",
      "propagate in video: 100%|████████████████████████████████████████████████████████████████| 4/4 [00:00<00:00, 37.24it/s]\n",
      "propagate in video: 100%|████████████████████████████████████████████████████████████████| 3/3 [00:00<00:00, 22.49it/s]\n",
      "propagate in video: 100%|████████████████████████████████████████████████████████████████| 4/4 [00:00<00:00, 35.50it/s]\n",
      "propagate in video: 100%|████████████████████████████████████████████████████████████████| 3/3 [00:00<00:00, 23.42it/s]\n"
     ]
    },
    {
     "name": "stdout",
     "output_type": "stream",
     "text": [
      "./MnM_output_middle/E1L7M3_ED\n"
     ]
    },
    {
     "name": "stderr",
     "output_type": "stream",
     "text": [
      "frame loading (JPEG): 100%|██████████████████████████████████████████████████████████████| 8/8 [00:00<00:00, 42.73it/s]\n",
      "propagate in video: 100%|████████████████████████████████████████████████████████████████| 4/4 [00:00<00:00, 34.52it/s]\n",
      "propagate in video: 100%|████████████████████████████████████████████████████████████████| 4/4 [00:00<00:00, 23.26it/s]\n",
      "propagate in video: 100%|████████████████████████████████████████████████████████████████| 4/4 [00:00<00:00, 35.06it/s]\n",
      "propagate in video: 100%|████████████████████████████████████████████████████████████████| 4/4 [00:00<00:00, 22.15it/s]\n",
      "propagate in video: 100%|████████████████████████████████████████████████████████████████| 4/4 [00:00<00:00, 36.21it/s]\n",
      "propagate in video: 100%|████████████████████████████████████████████████████████████████| 4/4 [00:00<00:00, 22.76it/s]\n"
     ]
    },
    {
     "name": "stdout",
     "output_type": "stream",
     "text": [
      "./MnM_output_middle/E1L7M3_ES\n"
     ]
    },
    {
     "name": "stderr",
     "output_type": "stream",
     "text": [
      "frame loading (JPEG): 100%|██████████████████████████████████████████████████████████████| 7/7 [00:00<00:00, 42.72it/s]\n",
      "propagate in video: 100%|████████████████████████████████████████████████████████████████| 4/4 [00:00<00:00, 34.30it/s]\n",
      "propagate in video: 100%|████████████████████████████████████████████████████████████████| 3/3 [00:00<00:00, 21.76it/s]\n",
      "propagate in video: 100%|████████████████████████████████████████████████████████████████| 4/4 [00:00<00:00, 36.24it/s]\n",
      "propagate in video: 100%|████████████████████████████████████████████████████████████████| 3/3 [00:00<00:00, 23.87it/s]\n",
      "propagate in video: 100%|████████████████████████████████████████████████████████████████| 4/4 [00:00<00:00, 36.44it/s]\n",
      "propagate in video: 100%|████████████████████████████████████████████████████████████████| 3/3 [00:00<00:00, 23.62it/s]\n"
     ]
    },
    {
     "name": "stdout",
     "output_type": "stream",
     "text": [
      "./MnM_output_middle/E3F5U2_ED\n"
     ]
    },
    {
     "name": "stderr",
     "output_type": "stream",
     "text": [
      "frame loading (JPEG): 100%|██████████████████████████████████████████████████████████████| 9/9 [00:00<00:00, 43.50it/s]\n",
      "propagate in video: 100%|████████████████████████████████████████████████████████████████| 5/5 [00:00<00:00, 31.94it/s]\n",
      "propagate in video: 100%|████████████████████████████████████████████████████████████████| 4/4 [00:00<00:00, 22.97it/s]\n",
      "propagate in video: 100%|████████████████████████████████████████████████████████████████| 5/5 [00:00<00:00, 33.20it/s]\n",
      "propagate in video: 100%|████████████████████████████████████████████████████████████████| 4/4 [00:00<00:00, 22.21it/s]\n",
      "propagate in video: 100%|████████████████████████████████████████████████████████████████| 5/5 [00:00<00:00, 33.34it/s]\n",
      "propagate in video: 100%|████████████████████████████████████████████████████████████████| 4/4 [00:00<00:00, 20.90it/s]\n"
     ]
    },
    {
     "name": "stdout",
     "output_type": "stream",
     "text": [
      "./MnM_output_middle/E3F5U2_ES\n"
     ]
    },
    {
     "name": "stderr",
     "output_type": "stream",
     "text": [
      "frame loading (JPEG): 100%|██████████████████████████████████████████████████████████████| 6/6 [00:00<00:00, 43.85it/s]\n",
      "propagate in video: 100%|████████████████████████████████████████████████████████████████| 3/3 [00:00<00:00, 38.90it/s]\n",
      "propagate in video: 100%|████████████████████████████████████████████████████████████████| 3/3 [00:00<00:00, 24.70it/s]\n",
      "propagate in video: 100%|████████████████████████████████████████████████████████████████| 3/3 [00:00<00:00, 43.62it/s]\n",
      "propagate in video: 100%|████████████████████████████████████████████████████████████████| 3/3 [00:00<00:00, 24.05it/s]\n",
      "propagate in video: 100%|████████████████████████████████████████████████████████████████| 3/3 [00:00<00:00, 43.41it/s]\n",
      "propagate in video: 100%|████████████████████████████████████████████████████████████████| 3/3 [00:00<00:00, 24.71it/s]\n"
     ]
    },
    {
     "name": "stdout",
     "output_type": "stream",
     "text": [
      "./MnM_output_middle/E3L8U8_ED\n"
     ]
    },
    {
     "name": "stderr",
     "output_type": "stream",
     "text": [
      "frame loading (JPEG): 100%|████████████████████████████████████████████████████████████| 10/10 [00:00<00:00, 45.74it/s]\n",
      "propagate in video: 100%|████████████████████████████████████████████████████████████████| 5/5 [00:00<00:00, 32.28it/s]\n",
      "propagate in video: 100%|████████████████████████████████████████████████████████████████| 5/5 [00:00<00:00, 21.21it/s]\n",
      "propagate in video: 100%|████████████████████████████████████████████████████████████████| 5/5 [00:00<00:00, 31.65it/s]\n",
      "propagate in video: 100%|████████████████████████████████████████████████████████████████| 5/5 [00:00<00:00, 22.22it/s]\n",
      "propagate in video: 100%|████████████████████████████████████████████████████████████████| 5/5 [00:00<00:00, 31.52it/s]\n",
      "propagate in video: 100%|████████████████████████████████████████████████████████████████| 5/5 [00:00<00:00, 21.55it/s]\n"
     ]
    },
    {
     "name": "stdout",
     "output_type": "stream",
     "text": [
      "./MnM_output_middle/E3L8U8_ES\n"
     ]
    },
    {
     "name": "stderr",
     "output_type": "stream",
     "text": [
      "frame loading (JPEG): 100%|██████████████████████████████████████████████████████████████| 9/9 [00:00<00:00, 46.97it/s]\n",
      "propagate in video: 100%|████████████████████████████████████████████████████████████████| 5/5 [00:00<00:00, 29.83it/s]\n",
      "propagate in video: 100%|████████████████████████████████████████████████████████████████| 4/4 [00:00<00:00, 22.14it/s]\n",
      "propagate in video: 100%|████████████████████████████████████████████████████████████████| 5/5 [00:00<00:00, 33.04it/s]\n",
      "propagate in video: 100%|████████████████████████████████████████████████████████████████| 4/4 [00:00<00:00, 21.38it/s]\n",
      "propagate in video: 100%|████████████████████████████████████████████████████████████████| 5/5 [00:00<00:00, 31.77it/s]\n",
      "propagate in video: 100%|████████████████████████████████████████████████████████████████| 4/4 [00:00<00:00, 22.48it/s]\n"
     ]
    },
    {
     "name": "stdout",
     "output_type": "stream",
     "text": [
      "./MnM_output_middle/E4H7L4_ED\n"
     ]
    },
    {
     "name": "stderr",
     "output_type": "stream",
     "text": [
      "frame loading (JPEG): 100%|████████████████████████████████████████████████████████████| 11/11 [00:00<00:00, 41.66it/s]\n",
      "propagate in video: 100%|████████████████████████████████████████████████████████████████| 6/6 [00:00<00:00, 29.68it/s]\n",
      "propagate in video: 100%|████████████████████████████████████████████████████████████████| 5/5 [00:00<00:00, 21.89it/s]\n",
      "propagate in video: 100%|████████████████████████████████████████████████████████████████| 6/6 [00:00<00:00, 29.61it/s]\n",
      "propagate in video: 100%|████████████████████████████████████████████████████████████████| 5/5 [00:00<00:00, 22.31it/s]\n",
      "propagate in video: 100%|████████████████████████████████████████████████████████████████| 6/6 [00:00<00:00, 30.32it/s]\n",
      "propagate in video: 100%|████████████████████████████████████████████████████████████████| 5/5 [00:00<00:00, 22.07it/s]\n"
     ]
    },
    {
     "name": "stdout",
     "output_type": "stream",
     "text": [
      "./MnM_output_middle/E4H7L4_ES\n"
     ]
    },
    {
     "name": "stderr",
     "output_type": "stream",
     "text": [
      "frame loading (JPEG): 100%|████████████████████████████████████████████████████████████| 10/10 [00:00<00:00, 41.71it/s]\n",
      "propagate in video: 100%|████████████████████████████████████████████████████████████████| 5/5 [00:00<00:00, 31.49it/s]\n",
      "propagate in video: 100%|████████████████████████████████████████████████████████████████| 5/5 [00:00<00:00, 22.08it/s]\n",
      "propagate in video: 100%|████████████████████████████████████████████████████████████████| 5/5 [00:00<00:00, 31.25it/s]\n",
      "propagate in video: 100%|████████████████████████████████████████████████████████████████| 5/5 [00:00<00:00, 22.00it/s]\n",
      "propagate in video: 100%|████████████████████████████████████████████████████████████████| 5/5 [00:00<00:00, 31.51it/s]\n",
      "propagate in video: 100%|████████████████████████████████████████████████████████████████| 5/5 [00:00<00:00, 22.34it/s]\n"
     ]
    },
    {
     "name": "stdout",
     "output_type": "stream",
     "text": [
      "./MnM_output_middle/E4I9O7_ED\n"
     ]
    },
    {
     "name": "stderr",
     "output_type": "stream",
     "text": [
      "frame loading (JPEG): 100%|██████████████████████████████████████████████████████████████| 8/8 [00:00<00:00, 43.80it/s]\n",
      "propagate in video: 100%|████████████████████████████████████████████████████████████████| 4/4 [00:00<00:00, 33.88it/s]\n",
      "propagate in video: 100%|████████████████████████████████████████████████████████████████| 4/4 [00:00<00:00, 22.73it/s]\n",
      "propagate in video: 100%|████████████████████████████████████████████████████████████████| 4/4 [00:00<00:00, 29.21it/s]\n",
      "propagate in video: 100%|████████████████████████████████████████████████████████████████| 4/4 [00:00<00:00, 22.64it/s]\n",
      "propagate in video: 100%|████████████████████████████████████████████████████████████████| 4/4 [00:00<00:00, 35.01it/s]\n",
      "propagate in video: 100%|████████████████████████████████████████████████████████████████| 4/4 [00:00<00:00, 22.59it/s]\n"
     ]
    },
    {
     "name": "stdout",
     "output_type": "stream",
     "text": [
      "./MnM_output_middle/E4I9O7_ES\n"
     ]
    },
    {
     "name": "stderr",
     "output_type": "stream",
     "text": [
      "frame loading (JPEG): 100%|██████████████████████████████████████████████████████████████| 8/8 [00:00<00:00, 45.61it/s]\n",
      "propagate in video: 100%|████████████████████████████████████████████████████████████████| 4/4 [00:00<00:00, 36.51it/s]\n",
      "propagate in video: 100%|████████████████████████████████████████████████████████████████| 4/4 [00:00<00:00, 22.97it/s]\n",
      "propagate in video: 100%|████████████████████████████████████████████████████████████████| 4/4 [00:00<00:00, 34.79it/s]\n",
      "propagate in video: 100%|████████████████████████████████████████████████████████████████| 4/4 [00:00<00:00, 21.66it/s]\n",
      "propagate in video: 100%|████████████████████████████████████████████████████████████████| 4/4 [00:00<00:00, 35.79it/s]\n",
      "propagate in video: 100%|████████████████████████████████████████████████████████████████| 4/4 [00:00<00:00, 22.50it/s]\n"
     ]
    },
    {
     "name": "stdout",
     "output_type": "stream",
     "text": [
      "./MnM_output_middle/E5J6L2_ED\n"
     ]
    },
    {
     "name": "stderr",
     "output_type": "stream",
     "text": [
      "frame loading (JPEG): 100%|██████████████████████████████████████████████████████████████| 7/7 [00:00<00:00, 42.82it/s]\n",
      "propagate in video: 100%|████████████████████████████████████████████████████████████████| 4/4 [00:00<00:00, 27.43it/s]\n",
      "propagate in video: 100%|████████████████████████████████████████████████████████████████| 3/3 [00:00<00:00, 22.76it/s]\n",
      "propagate in video: 100%|████████████████████████████████████████████████████████████████| 4/4 [00:00<00:00, 36.13it/s]\n",
      "propagate in video: 100%|████████████████████████████████████████████████████████████████| 3/3 [00:00<00:00, 22.37it/s]\n",
      "propagate in video: 100%|████████████████████████████████████████████████████████████████| 4/4 [00:00<00:00, 32.89it/s]\n",
      "propagate in video: 100%|████████████████████████████████████████████████████████████████| 3/3 [00:00<00:00, 23.27it/s]\n"
     ]
    },
    {
     "name": "stdout",
     "output_type": "stream",
     "text": [
      "./MnM_output_middle/E5J6L2_ES\n"
     ]
    },
    {
     "name": "stderr",
     "output_type": "stream",
     "text": [
      "frame loading (JPEG): 100%|██████████████████████████████████████████████████████████████| 6/6 [00:00<00:00, 40.54it/s]\n",
      "propagate in video: 100%|████████████████████████████████████████████████████████████████| 3/3 [00:00<00:00, 42.45it/s]\n",
      "propagate in video: 100%|████████████████████████████████████████████████████████████████| 3/3 [00:00<00:00, 23.96it/s]\n",
      "propagate in video: 100%|████████████████████████████████████████████████████████████████| 3/3 [00:00<00:00, 40.49it/s]\n",
      "propagate in video: 100%|████████████████████████████████████████████████████████████████| 3/3 [00:00<00:00, 24.95it/s]\n",
      "propagate in video: 100%|████████████████████████████████████████████████████████████████| 3/3 [00:00<00:00, 44.68it/s]\n",
      "propagate in video: 100%|████████████████████████████████████████████████████████████████| 3/3 [00:00<00:00, 24.08it/s]\n"
     ]
    },
    {
     "name": "stdout",
     "output_type": "stream",
     "text": [
      "./MnM_output_middle/E5S7W7_ED\n"
     ]
    },
    {
     "name": "stderr",
     "output_type": "stream",
     "text": [
      "frame loading (JPEG): 100%|██████████████████████████████████████████████████████████████| 8/8 [00:00<00:00, 45.86it/s]\n",
      "propagate in video: 100%|████████████████████████████████████████████████████████████████| 4/4 [00:00<00:00, 34.10it/s]\n",
      "propagate in video: 100%|████████████████████████████████████████████████████████████████| 4/4 [00:00<00:00, 21.42it/s]\n",
      "propagate in video: 100%|████████████████████████████████████████████████████████████████| 4/4 [00:00<00:00, 35.60it/s]\n",
      "propagate in video: 100%|████████████████████████████████████████████████████████████████| 4/4 [00:00<00:00, 22.51it/s]\n",
      "propagate in video: 100%|████████████████████████████████████████████████████████████████| 4/4 [00:00<00:00, 37.31it/s]\n",
      "propagate in video: 100%|████████████████████████████████████████████████████████████████| 4/4 [00:00<00:00, 22.44it/s]\n"
     ]
    },
    {
     "name": "stdout",
     "output_type": "stream",
     "text": [
      "./MnM_output_middle/E5S7W7_ES\n"
     ]
    },
    {
     "name": "stderr",
     "output_type": "stream",
     "text": [
      "frame loading (JPEG): 100%|██████████████████████████████████████████████████████████████| 7/7 [00:00<00:00, 44.61it/s]\n",
      "propagate in video: 100%|████████████████████████████████████████████████████████████████| 4/4 [00:00<00:00, 37.30it/s]\n",
      "propagate in video: 100%|████████████████████████████████████████████████████████████████| 3/3 [00:00<00:00, 22.82it/s]\n",
      "propagate in video: 100%|████████████████████████████████████████████████████████████████| 4/4 [00:00<00:00, 35.15it/s]\n",
      "propagate in video: 100%|████████████████████████████████████████████████████████████████| 3/3 [00:00<00:00, 23.12it/s]\n",
      "propagate in video: 100%|████████████████████████████████████████████████████████████████| 4/4 [00:00<00:00, 36.12it/s]\n",
      "propagate in video: 100%|████████████████████████████████████████████████████████████████| 3/3 [00:00<00:00, 22.92it/s]\n"
     ]
    },
    {
     "name": "stdout",
     "output_type": "stream",
     "text": [
      "./MnM_output_middle/E6H0V9_ED\n"
     ]
    },
    {
     "name": "stderr",
     "output_type": "stream",
     "text": [
      "frame loading (JPEG): 100%|██████████████████████████████████████████████████████████████| 8/8 [00:00<00:00, 38.39it/s]\n",
      "propagate in video: 100%|████████████████████████████████████████████████████████████████| 4/4 [00:00<00:00, 33.85it/s]\n",
      "propagate in video: 100%|████████████████████████████████████████████████████████████████| 4/4 [00:00<00:00, 23.13it/s]\n",
      "propagate in video: 100%|████████████████████████████████████████████████████████████████| 4/4 [00:00<00:00, 35.63it/s]\n",
      "propagate in video: 100%|████████████████████████████████████████████████████████████████| 4/4 [00:00<00:00, 22.44it/s]\n",
      "propagate in video: 100%|████████████████████████████████████████████████████████████████| 4/4 [00:00<00:00, 36.11it/s]\n",
      "propagate in video: 100%|████████████████████████████████████████████████████████████████| 4/4 [00:00<00:00, 22.37it/s]\n"
     ]
    },
    {
     "name": "stdout",
     "output_type": "stream",
     "text": [
      "./MnM_output_middle/E6H0V9_ES\n"
     ]
    },
    {
     "name": "stderr",
     "output_type": "stream",
     "text": [
      "frame loading (JPEG): 100%|██████████████████████████████████████████████████████████████| 7/7 [00:00<00:00, 40.86it/s]\n",
      "propagate in video: 100%|████████████████████████████████████████████████████████████████| 4/4 [00:00<00:00, 35.81it/s]\n",
      "propagate in video: 100%|████████████████████████████████████████████████████████████████| 3/3 [00:00<00:00, 22.44it/s]\n",
      "propagate in video: 100%|████████████████████████████████████████████████████████████████| 4/4 [00:00<00:00, 37.42it/s]\n",
      "propagate in video: 100%|████████████████████████████████████████████████████████████████| 3/3 [00:00<00:00, 22.46it/s]\n",
      "propagate in video: 100%|████████████████████████████████████████████████████████████████| 4/4 [00:00<00:00, 32.60it/s]\n",
      "propagate in video: 100%|████████████████████████████████████████████████████████████████| 3/3 [00:00<00:00, 23.37it/s]\n"
     ]
    },
    {
     "name": "stdout",
     "output_type": "stream",
     "text": [
      "./MnM_output_middle/E6J4N8_ED\n"
     ]
    },
    {
     "name": "stderr",
     "output_type": "stream",
     "text": [
      "frame loading (JPEG): 100%|██████████████████████████████████████████████████████████████| 9/9 [00:00<00:00, 47.04it/s]\n",
      "propagate in video: 100%|████████████████████████████████████████████████████████████████| 5/5 [00:00<00:00, 28.43it/s]\n",
      "propagate in video: 100%|████████████████████████████████████████████████████████████████| 4/4 [00:00<00:00, 21.55it/s]\n",
      "propagate in video: 100%|████████████████████████████████████████████████████████████████| 5/5 [00:00<00:00, 33.31it/s]\n",
      "propagate in video: 100%|████████████████████████████████████████████████████████████████| 4/4 [00:00<00:00, 21.83it/s]\n",
      "propagate in video: 100%|████████████████████████████████████████████████████████████████| 5/5 [00:00<00:00, 33.34it/s]\n",
      "propagate in video: 100%|████████████████████████████████████████████████████████████████| 4/4 [00:00<00:00, 22.82it/s]\n"
     ]
    },
    {
     "name": "stdout",
     "output_type": "stream",
     "text": [
      "./MnM_output_middle/E6J4N8_ES\n"
     ]
    },
    {
     "name": "stderr",
     "output_type": "stream",
     "text": [
      "frame loading (JPEG): 100%|██████████████████████████████████████████████████████████████| 6/6 [00:00<00:00, 43.59it/s]\n",
      "propagate in video: 100%|████████████████████████████████████████████████████████████████| 3/3 [00:00<00:00, 46.65it/s]\n",
      "propagate in video: 100%|████████████████████████████████████████████████████████████████| 3/3 [00:00<00:00, 22.83it/s]\n",
      "propagate in video: 100%|████████████████████████████████████████████████████████████████| 3/3 [00:00<00:00, 42.77it/s]\n",
      "propagate in video: 100%|████████████████████████████████████████████████████████████████| 3/3 [00:00<00:00, 24.92it/s]\n",
      "propagate in video: 100%|████████████████████████████████████████████████████████████████| 3/3 [00:00<00:00, 40.62it/s]\n",
      "propagate in video: 100%|████████████████████████████████████████████████████████████████| 3/3 [00:00<00:00, 21.73it/s]\n"
     ]
    },
    {
     "name": "stdout",
     "output_type": "stream",
     "text": [
      "./MnM_output_middle/E6M6P2_ED\n"
     ]
    },
    {
     "name": "stderr",
     "output_type": "stream",
     "text": [
      "frame loading (JPEG): 100%|████████████████████████████████████████████████████████████| 10/10 [00:00<00:00, 47.80it/s]\n",
      "propagate in video: 100%|████████████████████████████████████████████████████████████████| 5/5 [00:00<00:00, 30.57it/s]\n",
      "propagate in video: 100%|████████████████████████████████████████████████████████████████| 5/5 [00:00<00:00, 22.00it/s]\n",
      "propagate in video: 100%|████████████████████████████████████████████████████████████████| 5/5 [00:00<00:00, 31.05it/s]\n",
      "propagate in video: 100%|████████████████████████████████████████████████████████████████| 5/5 [00:00<00:00, 21.95it/s]\n",
      "propagate in video: 100%|████████████████████████████████████████████████████████████████| 5/5 [00:00<00:00, 29.97it/s]\n",
      "propagate in video: 100%|████████████████████████████████████████████████████████████████| 5/5 [00:00<00:00, 21.77it/s]\n"
     ]
    },
    {
     "name": "stdout",
     "output_type": "stream",
     "text": [
      "./MnM_output_middle/E6M6P2_ES\n"
     ]
    },
    {
     "name": "stderr",
     "output_type": "stream",
     "text": [
      "frame loading (JPEG): 100%|██████████████████████████████████████████████████████████████| 9/9 [00:00<00:00, 49.35it/s]\n",
      "propagate in video: 100%|████████████████████████████████████████████████████████████████| 5/5 [00:00<00:00, 31.59it/s]\n",
      "propagate in video: 100%|████████████████████████████████████████████████████████████████| 4/4 [00:00<00:00, 22.89it/s]\n",
      "propagate in video: 100%|████████████████████████████████████████████████████████████████| 5/5 [00:00<00:00, 32.98it/s]\n",
      "propagate in video: 100%|████████████████████████████████████████████████████████████████| 4/4 [00:00<00:00, 22.42it/s]\n",
      "propagate in video: 100%|████████████████████████████████████████████████████████████████| 5/5 [00:00<00:00, 30.84it/s]\n",
      "propagate in video: 100%|████████████████████████████████████████████████████████████████| 4/4 [00:00<00:00, 21.57it/s]\n"
     ]
    },
    {
     "name": "stdout",
     "output_type": "stream",
     "text": [
      "./MnM_output_middle/E7L0N6_ED\n"
     ]
    },
    {
     "name": "stderr",
     "output_type": "stream",
     "text": [
      "frame loading (JPEG): 100%|██████████████████████████████████████████████████████████████| 8/8 [00:00<00:00, 42.97it/s]\n",
      "propagate in video: 100%|████████████████████████████████████████████████████████████████| 4/4 [00:00<00:00, 34.37it/s]\n",
      "propagate in video: 100%|████████████████████████████████████████████████████████████████| 4/4 [00:00<00:00, 22.74it/s]\n",
      "propagate in video: 100%|████████████████████████████████████████████████████████████████| 4/4 [00:00<00:00, 36.66it/s]\n",
      "propagate in video: 100%|████████████████████████████████████████████████████████████████| 4/4 [00:00<00:00, 22.52it/s]\n",
      "propagate in video: 100%|████████████████████████████████████████████████████████████████| 4/4 [00:00<00:00, 34.39it/s]\n",
      "propagate in video: 100%|████████████████████████████████████████████████████████████████| 4/4 [00:00<00:00, 21.97it/s]\n"
     ]
    },
    {
     "name": "stdout",
     "output_type": "stream",
     "text": [
      "./MnM_output_middle/E7L0N6_ES\n"
     ]
    },
    {
     "name": "stderr",
     "output_type": "stream",
     "text": [
      "frame loading (JPEG): 100%|██████████████████████████████████████████████████████████████| 6/6 [00:00<00:00, 45.80it/s]\n",
      "propagate in video: 100%|████████████████████████████████████████████████████████████████| 3/3 [00:00<00:00, 38.91it/s]\n",
      "propagate in video: 100%|████████████████████████████████████████████████████████████████| 3/3 [00:00<00:00, 23.62it/s]\n",
      "propagate in video: 100%|████████████████████████████████████████████████████████████████| 3/3 [00:00<00:00, 43.89it/s]\n",
      "propagate in video: 100%|████████████████████████████████████████████████████████████████| 3/3 [00:00<00:00, 25.08it/s]\n",
      "propagate in video: 100%|████████████████████████████████████████████████████████████████| 3/3 [00:00<00:00, 41.22it/s]\n",
      "propagate in video: 100%|████████████████████████████████████████████████████████████████| 3/3 [00:00<00:00, 25.16it/s]\n"
     ]
    },
    {
     "name": "stdout",
     "output_type": "stream",
     "text": [
      "./MnM_output_middle/E9V9Z2_ED\n"
     ]
    },
    {
     "name": "stderr",
     "output_type": "stream",
     "text": [
      "frame loading (JPEG): 100%|██████████████████████████████████████████████████████████████| 8/8 [00:00<00:00, 40.78it/s]\n",
      "propagate in video: 100%|████████████████████████████████████████████████████████████████| 4/4 [00:00<00:00, 36.13it/s]\n",
      "propagate in video: 100%|████████████████████████████████████████████████████████████████| 4/4 [00:00<00:00, 22.56it/s]\n",
      "propagate in video: 100%|████████████████████████████████████████████████████████████████| 4/4 [00:00<00:00, 33.58it/s]\n",
      "propagate in video: 100%|████████████████████████████████████████████████████████████████| 4/4 [00:00<00:00, 22.67it/s]\n",
      "propagate in video: 100%|████████████████████████████████████████████████████████████████| 4/4 [00:00<00:00, 35.52it/s]\n",
      "propagate in video: 100%|████████████████████████████████████████████████████████████████| 4/4 [00:00<00:00, 22.55it/s]\n"
     ]
    },
    {
     "name": "stdout",
     "output_type": "stream",
     "text": [
      "./MnM_output_middle/E9V9Z2_ES\n"
     ]
    },
    {
     "name": "stderr",
     "output_type": "stream",
     "text": [
      "frame loading (JPEG): 100%|██████████████████████████████████████████████████████████████| 6/6 [00:00<00:00, 40.28it/s]\n",
      "propagate in video: 100%|████████████████████████████████████████████████████████████████| 3/3 [00:00<00:00, 38.14it/s]\n",
      "propagate in video: 100%|████████████████████████████████████████████████████████████████| 3/3 [00:00<00:00, 23.87it/s]\n",
      "propagate in video: 100%|████████████████████████████████████████████████████████████████| 3/3 [00:00<00:00, 42.37it/s]\n",
      "propagate in video: 100%|████████████████████████████████████████████████████████████████| 3/3 [00:00<00:00, 24.24it/s]\n",
      "propagate in video: 100%|████████████████████████████████████████████████████████████████| 3/3 [00:00<00:00, 45.04it/s]\n",
      "propagate in video: 100%|████████████████████████████████████████████████████████████████| 3/3 [00:00<00:00, 24.94it/s]\n"
     ]
    },
    {
     "name": "stdout",
     "output_type": "stream",
     "text": [
      "./MnM_output_middle/F0I6U8_ED\n"
     ]
    },
    {
     "name": "stderr",
     "output_type": "stream",
     "text": [
      "frame loading (JPEG): 100%|██████████████████████████████████████████████████████████████| 8/8 [00:00<00:00, 45.44it/s]\n",
      "propagate in video: 100%|████████████████████████████████████████████████████████████████| 4/4 [00:00<00:00, 37.16it/s]\n",
      "propagate in video: 100%|████████████████████████████████████████████████████████████████| 4/4 [00:00<00:00, 22.80it/s]\n",
      "propagate in video: 100%|████████████████████████████████████████████████████████████████| 4/4 [00:00<00:00, 34.91it/s]\n",
      "propagate in video: 100%|████████████████████████████████████████████████████████████████| 4/4 [00:00<00:00, 23.14it/s]\n",
      "propagate in video: 100%|████████████████████████████████████████████████████████████████| 4/4 [00:00<00:00, 35.93it/s]\n",
      "propagate in video: 100%|████████████████████████████████████████████████████████████████| 4/4 [00:00<00:00, 23.60it/s]\n"
     ]
    },
    {
     "name": "stdout",
     "output_type": "stream",
     "text": [
      "./MnM_output_middle/F0I6U8_ES\n"
     ]
    },
    {
     "name": "stderr",
     "output_type": "stream",
     "text": [
      "frame loading (JPEG): 100%|██████████████████████████████████████████████████████████████| 6/6 [00:00<00:00, 48.00it/s]\n",
      "propagate in video: 100%|████████████████████████████████████████████████████████████████| 3/3 [00:00<00:00, 34.99it/s]\n",
      "propagate in video: 100%|████████████████████████████████████████████████████████████████| 3/3 [00:00<00:00, 22.61it/s]\n",
      "propagate in video: 100%|████████████████████████████████████████████████████████████████| 3/3 [00:00<00:00, 43.79it/s]\n",
      "propagate in video: 100%|████████████████████████████████████████████████████████████████| 3/3 [00:00<00:00, 23.94it/s]\n",
      "propagate in video: 100%|████████████████████████████████████████████████████████████████| 3/3 [00:00<00:00, 43.68it/s]\n",
      "propagate in video: 100%|████████████████████████████████████████████████████████████████| 3/3 [00:00<00:00, 23.97it/s]\n"
     ]
    },
    {
     "name": "stdout",
     "output_type": "stream",
     "text": [
      "./MnM_output_middle/F0K4T6_ED\n"
     ]
    },
    {
     "name": "stderr",
     "output_type": "stream",
     "text": [
      "frame loading (JPEG): 100%|██████████████████████████████████████████████████████████████| 9/9 [00:00<00:00, 47.70it/s]\n",
      "propagate in video: 100%|████████████████████████████████████████████████████████████████| 5/5 [00:00<00:00, 30.53it/s]\n",
      "propagate in video: 100%|████████████████████████████████████████████████████████████████| 4/4 [00:00<00:00, 21.83it/s]\n",
      "propagate in video: 100%|████████████████████████████████████████████████████████████████| 5/5 [00:00<00:00, 31.91it/s]\n",
      "propagate in video: 100%|████████████████████████████████████████████████████████████████| 4/4 [00:00<00:00, 22.40it/s]\n",
      "propagate in video: 100%|████████████████████████████████████████████████████████████████| 5/5 [00:00<00:00, 31.89it/s]\n",
      "propagate in video: 100%|████████████████████████████████████████████████████████████████| 4/4 [00:00<00:00, 22.42it/s]\n"
     ]
    },
    {
     "name": "stdout",
     "output_type": "stream",
     "text": [
      "./MnM_output_middle/F0K4T6_ES\n"
     ]
    },
    {
     "name": "stderr",
     "output_type": "stream",
     "text": [
      "frame loading (JPEG): 100%|██████████████████████████████████████████████████████████████| 8/8 [00:00<00:00, 51.02it/s]\n",
      "propagate in video: 100%|████████████████████████████████████████████████████████████████| 4/4 [00:00<00:00, 34.10it/s]\n",
      "propagate in video: 100%|████████████████████████████████████████████████████████████████| 4/4 [00:00<00:00, 22.60it/s]\n",
      "propagate in video: 100%|████████████████████████████████████████████████████████████████| 4/4 [00:00<00:00, 36.19it/s]\n",
      "propagate in video: 100%|████████████████████████████████████████████████████████████████| 4/4 [00:00<00:00, 23.21it/s]\n",
      "propagate in video: 100%|████████████████████████████████████████████████████████████████| 4/4 [00:00<00:00, 34.18it/s]\n",
      "propagate in video: 100%|████████████████████████████████████████████████████████████████| 4/4 [00:00<00:00, 23.77it/s]\n"
     ]
    },
    {
     "name": "stdout",
     "output_type": "stream",
     "text": [
      "./MnM_output_middle/F1K2S9_ED\n"
     ]
    },
    {
     "name": "stderr",
     "output_type": "stream",
     "text": [
      "frame loading (JPEG): 100%|██████████████████████████████████████████████████████████████| 7/7 [00:00<00:00, 42.48it/s]\n",
      "propagate in video: 100%|████████████████████████████████████████████████████████████████| 4/4 [00:00<00:00, 36.18it/s]\n",
      "propagate in video: 100%|████████████████████████████████████████████████████████████████| 3/3 [00:00<00:00, 22.65it/s]\n",
      "propagate in video: 100%|████████████████████████████████████████████████████████████████| 4/4 [00:00<00:00, 38.30it/s]\n",
      "propagate in video: 100%|████████████████████████████████████████████████████████████████| 3/3 [00:00<00:00, 24.10it/s]\n",
      "propagate in video: 100%|████████████████████████████████████████████████████████████████| 4/4 [00:00<00:00, 36.51it/s]\n",
      "propagate in video: 100%|████████████████████████████████████████████████████████████████| 3/3 [00:00<00:00, 22.95it/s]\n"
     ]
    },
    {
     "name": "stdout",
     "output_type": "stream",
     "text": [
      "./MnM_output_middle/F1K2S9_ES\n"
     ]
    },
    {
     "name": "stderr",
     "output_type": "stream",
     "text": [
      "frame loading (JPEG): 100%|██████████████████████████████████████████████████████████████| 6/6 [00:00<00:00, 47.97it/s]\n",
      "propagate in video: 100%|████████████████████████████████████████████████████████████████| 3/3 [00:00<00:00, 38.59it/s]\n",
      "propagate in video: 100%|████████████████████████████████████████████████████████████████| 3/3 [00:00<00:00, 24.03it/s]\n",
      "propagate in video: 100%|████████████████████████████████████████████████████████████████| 3/3 [00:00<00:00, 43.86it/s]\n",
      "propagate in video: 100%|████████████████████████████████████████████████████████████████| 3/3 [00:00<00:00, 24.18it/s]\n",
      "propagate in video: 100%|████████████████████████████████████████████████████████████████| 3/3 [00:00<00:00, 40.83it/s]\n",
      "propagate in video: 100%|████████████████████████████████████████████████████████████████| 3/3 [00:00<00:00, 23.24it/s]\n"
     ]
    },
    {
     "name": "stdout",
     "output_type": "stream",
     "text": [
      "./MnM_output_middle/F5I1Z8_ED\n"
     ]
    },
    {
     "name": "stderr",
     "output_type": "stream",
     "text": [
      "frame loading (JPEG): 100%|██████████████████████████████████████████████████████████████| 9/9 [00:00<00:00, 48.51it/s]\n",
      "propagate in video: 100%|████████████████████████████████████████████████████████████████| 5/5 [00:00<00:00, 31.30it/s]\n",
      "propagate in video: 100%|████████████████████████████████████████████████████████████████| 4/4 [00:00<00:00, 22.50it/s]\n",
      "propagate in video: 100%|████████████████████████████████████████████████████████████████| 5/5 [00:00<00:00, 33.42it/s]\n",
      "propagate in video: 100%|████████████████████████████████████████████████████████████████| 4/4 [00:00<00:00, 21.92it/s]\n",
      "propagate in video: 100%|████████████████████████████████████████████████████████████████| 5/5 [00:00<00:00, 33.41it/s]\n",
      "propagate in video: 100%|████████████████████████████████████████████████████████████████| 4/4 [00:00<00:00, 21.82it/s]\n"
     ]
    },
    {
     "name": "stdout",
     "output_type": "stream",
     "text": [
      "./MnM_output_middle/F5I1Z8_ES\n"
     ]
    },
    {
     "name": "stderr",
     "output_type": "stream",
     "text": [
      "frame loading (JPEG): 100%|██████████████████████████████████████████████████████████████| 8/8 [00:00<00:00, 46.87it/s]\n",
      "propagate in video: 100%|████████████████████████████████████████████████████████████████| 4/4 [00:00<00:00, 33.07it/s]\n",
      "propagate in video: 100%|████████████████████████████████████████████████████████████████| 4/4 [00:00<00:00, 22.62it/s]\n",
      "propagate in video: 100%|████████████████████████████████████████████████████████████████| 4/4 [00:00<00:00, 37.21it/s]\n",
      "propagate in video: 100%|████████████████████████████████████████████████████████████████| 4/4 [00:00<00:00, 23.12it/s]\n",
      "propagate in video: 100%|████████████████████████████████████████████████████████████████| 4/4 [00:00<00:00, 33.67it/s]\n",
      "propagate in video: 100%|████████████████████████████████████████████████████████████████| 4/4 [00:00<00:00, 22.33it/s]\n"
     ]
    },
    {
     "name": "stdout",
     "output_type": "stream",
     "text": [
      "./MnM_output_middle/F9M1R2_ED\n"
     ]
    },
    {
     "name": "stderr",
     "output_type": "stream",
     "text": [
      "frame loading (JPEG): 100%|██████████████████████████████████████████████████████████████| 8/8 [00:00<00:00, 40.80it/s]\n",
      "propagate in video: 100%|████████████████████████████████████████████████████████████████| 4/4 [00:00<00:00, 36.19it/s]\n",
      "propagate in video: 100%|████████████████████████████████████████████████████████████████| 4/4 [00:00<00:00, 19.67it/s]\n",
      "propagate in video: 100%|████████████████████████████████████████████████████████████████| 4/4 [00:00<00:00, 32.96it/s]\n",
      "propagate in video: 100%|████████████████████████████████████████████████████████████████| 4/4 [00:00<00:00, 22.76it/s]\n",
      "propagate in video: 100%|████████████████████████████████████████████████████████████████| 4/4 [00:00<00:00, 35.25it/s]\n",
      "propagate in video: 100%|████████████████████████████████████████████████████████████████| 4/4 [00:00<00:00, 22.65it/s]\n"
     ]
    },
    {
     "name": "stdout",
     "output_type": "stream",
     "text": [
      "./MnM_output_middle/F9M1R2_ES\n"
     ]
    },
    {
     "name": "stderr",
     "output_type": "stream",
     "text": [
      "frame loading (JPEG): 100%|██████████████████████████████████████████████████████████████| 7/7 [00:00<00:00, 43.06it/s]\n",
      "propagate in video: 100%|████████████████████████████████████████████████████████████████| 4/4 [00:00<00:00, 36.58it/s]\n",
      "propagate in video: 100%|████████████████████████████████████████████████████████████████| 3/3 [00:00<00:00, 23.27it/s]\n",
      "propagate in video: 100%|████████████████████████████████████████████████████████████████| 4/4 [00:00<00:00, 36.95it/s]\n",
      "propagate in video: 100%|████████████████████████████████████████████████████████████████| 3/3 [00:00<00:00, 22.45it/s]\n",
      "propagate in video: 100%|████████████████████████████████████████████████████████████████| 4/4 [00:00<00:00, 37.86it/s]\n",
      "propagate in video: 100%|████████████████████████████████████████████████████████████████| 3/3 [00:00<00:00, 22.80it/s]\n"
     ]
    },
    {
     "name": "stdout",
     "output_type": "stream",
     "text": [
      "./MnM_output_middle/G1J5K3_ED\n"
     ]
    },
    {
     "name": "stderr",
     "output_type": "stream",
     "text": [
      "frame loading (JPEG): 100%|██████████████████████████████████████████████████████████████| 9/9 [00:00<00:00, 42.15it/s]\n",
      "propagate in video: 100%|████████████████████████████████████████████████████████████████| 5/5 [00:00<00:00, 32.09it/s]\n",
      "propagate in video: 100%|████████████████████████████████████████████████████████████████| 4/4 [00:00<00:00, 21.13it/s]\n",
      "propagate in video: 100%|████████████████████████████████████████████████████████████████| 5/5 [00:00<00:00, 33.38it/s]\n",
      "propagate in video: 100%|████████████████████████████████████████████████████████████████| 4/4 [00:00<00:00, 21.75it/s]\n",
      "propagate in video: 100%|████████████████████████████████████████████████████████████████| 5/5 [00:00<00:00, 33.16it/s]\n",
      "propagate in video: 100%|████████████████████████████████████████████████████████████████| 4/4 [00:00<00:00, 22.00it/s]\n"
     ]
    },
    {
     "name": "stdout",
     "output_type": "stream",
     "text": [
      "./MnM_output_middle/G1J5K3_ES\n"
     ]
    },
    {
     "name": "stderr",
     "output_type": "stream",
     "text": [
      "frame loading (JPEG): 100%|██████████████████████████████████████████████████████████████| 8/8 [00:00<00:00, 41.26it/s]\n",
      "propagate in video: 100%|████████████████████████████████████████████████████████████████| 4/4 [00:00<00:00, 34.29it/s]\n",
      "propagate in video: 100%|████████████████████████████████████████████████████████████████| 4/4 [00:00<00:00, 22.86it/s]\n",
      "propagate in video: 100%|████████████████████████████████████████████████████████████████| 4/4 [00:00<00:00, 33.15it/s]\n",
      "propagate in video: 100%|████████████████████████████████████████████████████████████████| 4/4 [00:00<00:00, 22.32it/s]\n",
      "propagate in video: 100%|████████████████████████████████████████████████████████████████| 4/4 [00:00<00:00, 23.79it/s]\n",
      "propagate in video: 100%|████████████████████████████████████████████████████████████████| 4/4 [00:00<00:00, 22.79it/s]\n"
     ]
    },
    {
     "name": "stdout",
     "output_type": "stream",
     "text": [
      "./MnM_output_middle/G1K1V3_ED\n"
     ]
    },
    {
     "name": "stderr",
     "output_type": "stream",
     "text": [
      "frame loading (JPEG): 100%|██████████████████████████████████████████████████████████████| 9/9 [00:00<00:00, 45.16it/s]\n",
      "propagate in video: 100%|████████████████████████████████████████████████████████████████| 5/5 [00:00<00:00, 33.02it/s]\n",
      "propagate in video: 100%|████████████████████████████████████████████████████████████████| 4/4 [00:00<00:00, 20.89it/s]\n",
      "propagate in video: 100%|████████████████████████████████████████████████████████████████| 5/5 [00:00<00:00, 33.33it/s]\n",
      "propagate in video: 100%|████████████████████████████████████████████████████████████████| 4/4 [00:00<00:00, 21.84it/s]\n",
      "propagate in video: 100%|████████████████████████████████████████████████████████████████| 5/5 [00:00<00:00, 31.55it/s]\n",
      "propagate in video: 100%|████████████████████████████████████████████████████████████████| 4/4 [00:00<00:00, 21.82it/s]\n"
     ]
    },
    {
     "name": "stdout",
     "output_type": "stream",
     "text": [
      "./MnM_output_middle/G1K1V3_ES\n"
     ]
    },
    {
     "name": "stderr",
     "output_type": "stream",
     "text": [
      "frame loading (JPEG): 100%|██████████████████████████████████████████████████████████████| 7/7 [00:00<00:00, 43.88it/s]\n",
      "propagate in video: 100%|████████████████████████████████████████████████████████████████| 4/4 [00:00<00:00, 38.19it/s]\n",
      "propagate in video: 100%|████████████████████████████████████████████████████████████████| 3/3 [00:00<00:00, 22.52it/s]\n",
      "propagate in video: 100%|████████████████████████████████████████████████████████████████| 4/4 [00:00<00:00, 33.93it/s]\n",
      "propagate in video: 100%|████████████████████████████████████████████████████████████████| 3/3 [00:00<00:00, 22.92it/s]\n",
      "propagate in video: 100%|████████████████████████████████████████████████████████████████| 4/4 [00:00<00:00, 35.03it/s]\n",
      "propagate in video: 100%|████████████████████████████████████████████████████████████████| 3/3 [00:00<00:00, 23.00it/s]\n"
     ]
    },
    {
     "name": "stdout",
     "output_type": "stream",
     "text": [
      "./MnM_output_middle/G3M5S4_ED\n"
     ]
    },
    {
     "name": "stderr",
     "output_type": "stream",
     "text": [
      "frame loading (JPEG): 100%|████████████████████████████████████████████████████████████| 10/10 [00:00<00:00, 45.23it/s]\n",
      "propagate in video: 100%|████████████████████████████████████████████████████████████████| 5/5 [00:00<00:00, 31.71it/s]\n",
      "propagate in video: 100%|████████████████████████████████████████████████████████████████| 5/5 [00:00<00:00, 21.70it/s]\n",
      "propagate in video: 100%|████████████████████████████████████████████████████████████████| 5/5 [00:00<00:00, 29.99it/s]\n",
      "propagate in video: 100%|████████████████████████████████████████████████████████████████| 5/5 [00:00<00:00, 22.06it/s]\n",
      "propagate in video: 100%|████████████████████████████████████████████████████████████████| 5/5 [00:00<00:00, 33.22it/s]\n",
      "propagate in video: 100%|████████████████████████████████████████████████████████████████| 5/5 [00:00<00:00, 21.38it/s]\n"
     ]
    },
    {
     "name": "stdout",
     "output_type": "stream",
     "text": [
      "./MnM_output_middle/G3M5S4_ES\n"
     ]
    },
    {
     "name": "stderr",
     "output_type": "stream",
     "text": [
      "frame loading (JPEG): 100%|██████████████████████████████████████████████████████████████| 9/9 [00:00<00:00, 46.58it/s]\n",
      "propagate in video: 100%|████████████████████████████████████████████████████████████████| 5/5 [00:00<00:00, 29.98it/s]\n",
      "propagate in video: 100%|████████████████████████████████████████████████████████████████| 4/4 [00:00<00:00, 21.77it/s]\n",
      "propagate in video: 100%|████████████████████████████████████████████████████████████████| 5/5 [00:00<00:00, 32.63it/s]\n",
      "propagate in video: 100%|████████████████████████████████████████████████████████████████| 4/4 [00:00<00:00, 22.65it/s]\n",
      "propagate in video: 100%|████████████████████████████████████████████████████████████████| 5/5 [00:00<00:00, 32.38it/s]\n",
      "propagate in video: 100%|████████████████████████████████████████████████████████████████| 4/4 [00:00<00:00, 22.39it/s]\n"
     ]
    },
    {
     "name": "stdout",
     "output_type": "stream",
     "text": [
      "./MnM_output_middle/G4I7V2_ED\n"
     ]
    },
    {
     "name": "stderr",
     "output_type": "stream",
     "text": [
      "frame loading (JPEG): 100%|████████████████████████████████████████████████████████████| 10/10 [00:00<00:00, 41.29it/s]\n",
      "propagate in video: 100%|████████████████████████████████████████████████████████████████| 5/5 [00:00<00:00, 31.55it/s]\n",
      "propagate in video: 100%|████████████████████████████████████████████████████████████████| 5/5 [00:00<00:00, 21.78it/s]\n",
      "propagate in video: 100%|████████████████████████████████████████████████████████████████| 5/5 [00:00<00:00, 32.46it/s]\n",
      "propagate in video: 100%|████████████████████████████████████████████████████████████████| 5/5 [00:00<00:00, 21.83it/s]\n",
      "propagate in video: 100%|████████████████████████████████████████████████████████████████| 5/5 [00:00<00:00, 32.16it/s]\n",
      "propagate in video: 100%|████████████████████████████████████████████████████████████████| 5/5 [00:00<00:00, 21.92it/s]\n"
     ]
    },
    {
     "name": "stdout",
     "output_type": "stream",
     "text": [
      "./MnM_output_middle/G4I7V2_ES\n"
     ]
    },
    {
     "name": "stderr",
     "output_type": "stream",
     "text": [
      "frame loading (JPEG): 100%|██████████████████████████████████████████████████████████████| 9/9 [00:00<00:00, 42.02it/s]\n",
      "propagate in video: 100%|████████████████████████████████████████████████████████████████| 5/5 [00:00<00:00, 34.17it/s]\n",
      "propagate in video: 100%|████████████████████████████████████████████████████████████████| 4/4 [00:00<00:00, 20.74it/s]\n",
      "propagate in video: 100%|████████████████████████████████████████████████████████████████| 5/5 [00:00<00:00, 31.73it/s]\n",
      "propagate in video: 100%|████████████████████████████████████████████████████████████████| 4/4 [00:00<00:00, 21.80it/s]\n",
      "propagate in video: 100%|████████████████████████████████████████████████████████████████| 5/5 [00:00<00:00, 32.31it/s]\n",
      "propagate in video: 100%|████████████████████████████████████████████████████████████████| 4/4 [00:00<00:00, 21.43it/s]\n"
     ]
    },
    {
     "name": "stdout",
     "output_type": "stream",
     "text": [
      "./MnM_output_middle/G7N8R7_ED\n"
     ]
    },
    {
     "name": "stderr",
     "output_type": "stream",
     "text": [
      "frame loading (JPEG): 100%|██████████████████████████████████████████████████████████████| 8/8 [00:00<00:00, 42.75it/s]\n",
      "propagate in video: 100%|████████████████████████████████████████████████████████████████| 4/4 [00:00<00:00, 36.68it/s]\n",
      "propagate in video: 100%|████████████████████████████████████████████████████████████████| 4/4 [00:00<00:00, 22.02it/s]\n",
      "propagate in video: 100%|████████████████████████████████████████████████████████████████| 4/4 [00:00<00:00, 36.73it/s]\n",
      "propagate in video: 100%|████████████████████████████████████████████████████████████████| 4/4 [00:00<00:00, 23.17it/s]\n",
      "propagate in video: 100%|████████████████████████████████████████████████████████████████| 4/4 [00:00<00:00, 34.38it/s]\n",
      "propagate in video: 100%|████████████████████████████████████████████████████████████████| 4/4 [00:00<00:00, 23.29it/s]\n"
     ]
    },
    {
     "name": "stdout",
     "output_type": "stream",
     "text": [
      "./MnM_output_middle/G7N8R7_ES\n"
     ]
    },
    {
     "name": "stderr",
     "output_type": "stream",
     "text": [
      "frame loading (JPEG): 100%|██████████████████████████████████████████████████████████████| 6/6 [00:00<00:00, 43.91it/s]\n",
      "propagate in video: 100%|████████████████████████████████████████████████████████████████| 3/3 [00:00<00:00, 40.82it/s]\n",
      "propagate in video: 100%|████████████████████████████████████████████████████████████████| 3/3 [00:00<00:00, 23.83it/s]\n",
      "propagate in video: 100%|████████████████████████████████████████████████████████████████| 3/3 [00:00<00:00, 40.65it/s]\n",
      "propagate in video: 100%|████████████████████████████████████████████████████████████████| 3/3 [00:00<00:00, 20.51it/s]\n",
      "propagate in video: 100%|████████████████████████████████████████████████████████████████| 3/3 [00:00<00:00, 40.08it/s]\n",
      "propagate in video: 100%|████████████████████████████████████████████████████████████████| 3/3 [00:00<00:00, 23.97it/s]\n"
     ]
    },
    {
     "name": "stdout",
     "output_type": "stream",
     "text": [
      "./MnM_output_middle/G7S6V0_ED\n"
     ]
    },
    {
     "name": "stderr",
     "output_type": "stream",
     "text": [
      "frame loading (JPEG): 100%|██████████████████████████████████████████████████████████████| 8/8 [00:00<00:00, 48.73it/s]\n",
      "propagate in video: 100%|████████████████████████████████████████████████████████████████| 4/4 [00:00<00:00, 36.93it/s]\n",
      "propagate in video: 100%|████████████████████████████████████████████████████████████████| 4/4 [00:00<00:00, 22.80it/s]\n",
      "propagate in video: 100%|████████████████████████████████████████████████████████████████| 4/4 [00:00<00:00, 35.56it/s]\n",
      "propagate in video: 100%|████████████████████████████████████████████████████████████████| 4/4 [00:00<00:00, 22.44it/s]\n",
      "propagate in video: 100%|████████████████████████████████████████████████████████████████| 4/4 [00:00<00:00, 37.09it/s]\n",
      "propagate in video: 100%|████████████████████████████████████████████████████████████████| 4/4 [00:00<00:00, 22.32it/s]\n"
     ]
    },
    {
     "name": "stdout",
     "output_type": "stream",
     "text": [
      "./MnM_output_middle/G7S6V0_ES\n"
     ]
    },
    {
     "name": "stderr",
     "output_type": "stream",
     "text": [
      "frame loading (JPEG): 100%|██████████████████████████████████████████████████████████████| 7/7 [00:00<00:00, 50.66it/s]\n",
      "propagate in video: 100%|████████████████████████████████████████████████████████████████| 4/4 [00:00<00:00, 35.48it/s]\n",
      "propagate in video: 100%|████████████████████████████████████████████████████████████████| 3/3 [00:00<00:00, 22.79it/s]\n",
      "propagate in video: 100%|████████████████████████████████████████████████████████████████| 4/4 [00:00<00:00, 24.47it/s]\n",
      "propagate in video: 100%|████████████████████████████████████████████████████████████████| 3/3 [00:00<00:00, 22.53it/s]\n",
      "propagate in video: 100%|████████████████████████████████████████████████████████████████| 4/4 [00:00<00:00, 35.20it/s]\n",
      "propagate in video: 100%|████████████████████████████████████████████████████████████████| 3/3 [00:00<00:00, 22.85it/s]\n"
     ]
    },
    {
     "name": "stdout",
     "output_type": "stream",
     "text": [
      "./MnM_output_middle/G8K0M3_ED\n"
     ]
    },
    {
     "name": "stderr",
     "output_type": "stream",
     "text": [
      "frame loading (JPEG): 100%|████████████████████████████████████████████████████████████| 10/10 [00:00<00:00, 42.86it/s]\n",
      "propagate in video: 100%|████████████████████████████████████████████████████████████████| 5/5 [00:00<00:00, 30.05it/s]\n",
      "propagate in video: 100%|████████████████████████████████████████████████████████████████| 5/5 [00:00<00:00, 21.58it/s]\n",
      "propagate in video: 100%|████████████████████████████████████████████████████████████████| 5/5 [00:00<00:00, 31.44it/s]\n",
      "propagate in video: 100%|████████████████████████████████████████████████████████████████| 5/5 [00:00<00:00, 22.37it/s]\n",
      "propagate in video: 100%|████████████████████████████████████████████████████████████████| 5/5 [00:00<00:00, 31.64it/s]\n",
      "propagate in video: 100%|████████████████████████████████████████████████████████████████| 5/5 [00:00<00:00, 21.29it/s]\n"
     ]
    },
    {
     "name": "stdout",
     "output_type": "stream",
     "text": [
      "./MnM_output_middle/G8K0M3_ES\n"
     ]
    },
    {
     "name": "stderr",
     "output_type": "stream",
     "text": [
      "frame loading (JPEG): 100%|██████████████████████████████████████████████████████████████| 9/9 [00:00<00:00, 43.16it/s]\n",
      "propagate in video: 100%|████████████████████████████████████████████████████████████████| 5/5 [00:00<00:00, 33.22it/s]\n",
      "propagate in video: 100%|████████████████████████████████████████████████████████████████| 4/4 [00:00<00:00, 21.96it/s]\n",
      "propagate in video: 100%|████████████████████████████████████████████████████████████████| 5/5 [00:00<00:00, 32.56it/s]\n",
      "propagate in video: 100%|████████████████████████████████████████████████████████████████| 4/4 [00:00<00:00, 22.74it/s]\n",
      "propagate in video: 100%|████████████████████████████████████████████████████████████████| 5/5 [00:00<00:00, 32.72it/s]\n",
      "propagate in video: 100%|████████████████████████████████████████████████████████████████| 4/4 [00:00<00:00, 22.64it/s]\n"
     ]
    },
    {
     "name": "stdout",
     "output_type": "stream",
     "text": [
      "./MnM_output_middle/G8L0Z0_ED\n"
     ]
    },
    {
     "name": "stderr",
     "output_type": "stream",
     "text": [
      "frame loading (JPEG): 100%|██████████████████████████████████████████████████████████████| 9/9 [00:00<00:00, 41.95it/s]\n",
      "propagate in video: 100%|████████████████████████████████████████████████████████████████| 5/5 [00:00<00:00, 29.87it/s]\n",
      "propagate in video: 100%|████████████████████████████████████████████████████████████████| 4/4 [00:00<00:00, 21.80it/s]\n",
      "propagate in video: 100%|████████████████████████████████████████████████████████████████| 5/5 [00:00<00:00, 32.22it/s]\n",
      "propagate in video: 100%|████████████████████████████████████████████████████████████████| 4/4 [00:00<00:00, 22.56it/s]\n",
      "propagate in video: 100%|████████████████████████████████████████████████████████████████| 5/5 [00:00<00:00, 31.33it/s]\n",
      "propagate in video: 100%|████████████████████████████████████████████████████████████████| 4/4 [00:00<00:00, 22.84it/s]\n"
     ]
    },
    {
     "name": "stdout",
     "output_type": "stream",
     "text": [
      "./MnM_output_middle/G8L0Z0_ES\n"
     ]
    },
    {
     "name": "stderr",
     "output_type": "stream",
     "text": [
      "frame loading (JPEG): 100%|██████████████████████████████████████████████████████████████| 7/7 [00:00<00:00, 42.77it/s]\n",
      "propagate in video: 100%|████████████████████████████████████████████████████████████████| 4/4 [00:00<00:00, 36.71it/s]\n",
      "propagate in video: 100%|████████████████████████████████████████████████████████████████| 3/3 [00:00<00:00, 22.48it/s]\n",
      "propagate in video: 100%|████████████████████████████████████████████████████████████████| 4/4 [00:00<00:00, 34.15it/s]\n",
      "propagate in video: 100%|████████████████████████████████████████████████████████████████| 3/3 [00:00<00:00, 22.94it/s]\n",
      "propagate in video: 100%|████████████████████████████████████████████████████████████████| 4/4 [00:00<00:00, 34.74it/s]\n",
      "propagate in video: 100%|████████████████████████████████████████████████████████████████| 3/3 [00:00<00:00, 21.63it/s]\n"
     ]
    },
    {
     "name": "stdout",
     "output_type": "stream",
     "text": [
      "./MnM_output_middle/G8R0Z9_ED\n"
     ]
    },
    {
     "name": "stderr",
     "output_type": "stream",
     "text": [
      "frame loading (JPEG): 100%|██████████████████████████████████████████████████████████████| 9/9 [00:00<00:00, 44.17it/s]\n",
      "propagate in video: 100%|████████████████████████████████████████████████████████████████| 5/5 [00:00<00:00, 32.38it/s]\n",
      "propagate in video: 100%|████████████████████████████████████████████████████████████████| 4/4 [00:00<00:00, 22.56it/s]\n",
      "propagate in video: 100%|████████████████████████████████████████████████████████████████| 5/5 [00:00<00:00, 33.34it/s]\n",
      "propagate in video: 100%|████████████████████████████████████████████████████████████████| 4/4 [00:00<00:00, 21.77it/s]\n",
      "propagate in video: 100%|████████████████████████████████████████████████████████████████| 5/5 [00:00<00:00, 31.55it/s]\n",
      "propagate in video: 100%|████████████████████████████████████████████████████████████████| 4/4 [00:00<00:00, 21.52it/s]\n"
     ]
    },
    {
     "name": "stdout",
     "output_type": "stream",
     "text": [
      "./MnM_output_middle/G8R0Z9_ES\n"
     ]
    },
    {
     "name": "stderr",
     "output_type": "stream",
     "text": [
      "frame loading (JPEG): 100%|██████████████████████████████████████████████████████████████| 8/8 [00:00<00:00, 46.51it/s]\n",
      "propagate in video: 100%|████████████████████████████████████████████████████████████████| 4/4 [00:00<00:00, 34.79it/s]\n",
      "propagate in video: 100%|████████████████████████████████████████████████████████████████| 4/4 [00:00<00:00, 22.33it/s]\n",
      "propagate in video: 100%|████████████████████████████████████████████████████████████████| 4/4 [00:00<00:00, 37.17it/s]\n",
      "propagate in video: 100%|████████████████████████████████████████████████████████████████| 4/4 [00:00<00:00, 22.16it/s]\n",
      "propagate in video: 100%|████████████████████████████████████████████████████████████████| 4/4 [00:00<00:00, 36.45it/s]\n",
      "propagate in video: 100%|████████████████████████████████████████████████████████████████| 4/4 [00:00<00:00, 22.18it/s]\n"
     ]
    },
    {
     "name": "stdout",
     "output_type": "stream",
     "text": [
      "./MnM_output_middle/G9N5V9_ED\n"
     ]
    },
    {
     "name": "stderr",
     "output_type": "stream",
     "text": [
      "frame loading (JPEG): 100%|██████████████████████████████████████████████████████████████| 8/8 [00:00<00:00, 43.49it/s]\n",
      "propagate in video: 100%|████████████████████████████████████████████████████████████████| 4/4 [00:00<00:00, 36.61it/s]\n",
      "propagate in video: 100%|████████████████████████████████████████████████████████████████| 4/4 [00:00<00:00, 22.74it/s]\n",
      "propagate in video: 100%|████████████████████████████████████████████████████████████████| 4/4 [00:00<00:00, 34.09it/s]\n",
      "propagate in video: 100%|████████████████████████████████████████████████████████████████| 4/4 [00:00<00:00, 22.57it/s]\n",
      "propagate in video: 100%|████████████████████████████████████████████████████████████████| 4/4 [00:00<00:00, 33.32it/s]\n",
      "propagate in video: 100%|████████████████████████████████████████████████████████████████| 4/4 [00:00<00:00, 22.39it/s]\n"
     ]
    },
    {
     "name": "stdout",
     "output_type": "stream",
     "text": [
      "./MnM_output_middle/G9N5V9_ES\n"
     ]
    },
    {
     "name": "stderr",
     "output_type": "stream",
     "text": [
      "frame loading (JPEG): 100%|██████████████████████████████████████████████████████████████| 8/8 [00:00<00:00, 47.28it/s]\n",
      "propagate in video: 100%|████████████████████████████████████████████████████████████████| 4/4 [00:00<00:00, 34.37it/s]\n",
      "propagate in video: 100%|████████████████████████████████████████████████████████████████| 4/4 [00:00<00:00, 21.73it/s]\n",
      "propagate in video: 100%|████████████████████████████████████████████████████████████████| 4/4 [00:00<00:00, 34.53it/s]\n",
      "propagate in video: 100%|████████████████████████████████████████████████████████████████| 4/4 [00:00<00:00, 22.88it/s]\n",
      "propagate in video: 100%|████████████████████████████████████████████████████████████████| 4/4 [00:00<00:00, 23.85it/s]\n",
      "propagate in video: 100%|████████████████████████████████████████████████████████████████| 4/4 [00:00<00:00, 23.36it/s]\n"
     ]
    },
    {
     "name": "stdout",
     "output_type": "stream",
     "text": [
      "./MnM_output_middle/H1N8S6_ED\n"
     ]
    },
    {
     "name": "stderr",
     "output_type": "stream",
     "text": [
      "frame loading (JPEG): 100%|██████████████████████████████████████████████████████████████| 7/7 [00:00<00:00, 52.00it/s]\n",
      "propagate in video: 100%|████████████████████████████████████████████████████████████████| 4/4 [00:00<00:00, 23.86it/s]\n",
      "propagate in video: 100%|████████████████████████████████████████████████████████████████| 3/3 [00:00<00:00, 21.49it/s]\n",
      "propagate in video: 100%|████████████████████████████████████████████████████████████████| 4/4 [00:00<00:00, 35.15it/s]\n",
      "propagate in video: 100%|████████████████████████████████████████████████████████████████| 3/3 [00:00<00:00, 23.79it/s]\n",
      "propagate in video: 100%|████████████████████████████████████████████████████████████████| 4/4 [00:00<00:00, 35.59it/s]\n",
      "propagate in video: 100%|████████████████████████████████████████████████████████████████| 3/3 [00:00<00:00, 22.78it/s]\n"
     ]
    },
    {
     "name": "stdout",
     "output_type": "stream",
     "text": [
      "./MnM_output_middle/H1N8S6_ES\n"
     ]
    },
    {
     "name": "stderr",
     "output_type": "stream",
     "text": [
      "frame loading (JPEG): 100%|██████████████████████████████████████████████████████████████| 6/6 [00:00<00:00, 48.34it/s]\n",
      "propagate in video: 100%|████████████████████████████████████████████████████████████████| 3/3 [00:00<00:00, 42.57it/s]\n",
      "propagate in video: 100%|████████████████████████████████████████████████████████████████| 3/3 [00:00<00:00, 25.22it/s]\n",
      "propagate in video: 100%|████████████████████████████████████████████████████████████████| 3/3 [00:00<00:00, 40.08it/s]\n",
      "propagate in video: 100%|████████████████████████████████████████████████████████████████| 3/3 [00:00<00:00, 22.89it/s]\n",
      "propagate in video: 100%|████████████████████████████████████████████████████████████████| 3/3 [00:00<00:00, 40.74it/s]\n",
      "propagate in video: 100%|████████████████████████████████████████████████████████████████| 3/3 [00:00<00:00, 23.76it/s]\n"
     ]
    },
    {
     "name": "stdout",
     "output_type": "stream",
     "text": [
      "./MnM_output_middle/H2M9S1_ED\n"
     ]
    },
    {
     "name": "stderr",
     "output_type": "stream",
     "text": [
      "frame loading (JPEG): 100%|██████████████████████████████████████████████████████████████| 8/8 [00:00<00:00, 47.65it/s]\n",
      "propagate in video: 100%|████████████████████████████████████████████████████████████████| 4/4 [00:00<00:00, 37.18it/s]\n",
      "propagate in video: 100%|████████████████████████████████████████████████████████████████| 4/4 [00:00<00:00, 22.26it/s]\n",
      "propagate in video: 100%|████████████████████████████████████████████████████████████████| 4/4 [00:00<00:00, 34.21it/s]\n",
      "propagate in video: 100%|████████████████████████████████████████████████████████████████| 4/4 [00:00<00:00, 22.89it/s]\n",
      "propagate in video: 100%|████████████████████████████████████████████████████████████████| 4/4 [00:00<00:00, 35.66it/s]\n",
      "propagate in video: 100%|████████████████████████████████████████████████████████████████| 4/4 [00:00<00:00, 22.02it/s]\n"
     ]
    },
    {
     "name": "stdout",
     "output_type": "stream",
     "text": [
      "./MnM_output_middle/H2M9S1_ES\n"
     ]
    },
    {
     "name": "stderr",
     "output_type": "stream",
     "text": [
      "frame loading (JPEG): 100%|██████████████████████████████████████████████████████████████| 7/7 [00:00<00:00, 46.49it/s]\n",
      "propagate in video: 100%|████████████████████████████████████████████████████████████████| 4/4 [00:00<00:00, 35.74it/s]\n",
      "propagate in video: 100%|████████████████████████████████████████████████████████████████| 3/3 [00:00<00:00, 22.61it/s]\n",
      "propagate in video: 100%|████████████████████████████████████████████████████████████████| 4/4 [00:00<00:00, 37.19it/s]\n",
      "propagate in video: 100%|████████████████████████████████████████████████████████████████| 3/3 [00:00<00:00, 22.57it/s]\n",
      "propagate in video: 100%|████████████████████████████████████████████████████████████████| 4/4 [00:00<00:00, 37.72it/s]\n",
      "propagate in video: 100%|████████████████████████████████████████████████████████████████| 3/3 [00:00<00:00, 22.55it/s]\n"
     ]
    },
    {
     "name": "stdout",
     "output_type": "stream",
     "text": [
      "./MnM_output_middle/H7K5U5_ED\n"
     ]
    },
    {
     "name": "stderr",
     "output_type": "stream",
     "text": [
      "frame loading (JPEG): 100%|████████████████████████████████████████████████████████████| 10/10 [00:00<00:00, 47.88it/s]\n",
      "propagate in video: 100%|████████████████████████████████████████████████████████████████| 5/5 [00:00<00:00, 31.11it/s]\n",
      "propagate in video: 100%|████████████████████████████████████████████████████████████████| 5/5 [00:00<00:00, 20.90it/s]\n",
      "propagate in video: 100%|████████████████████████████████████████████████████████████████| 5/5 [00:00<00:00, 31.65it/s]\n",
      "propagate in video: 100%|████████████████████████████████████████████████████████████████| 5/5 [00:00<00:00, 22.12it/s]\n",
      "propagate in video: 100%|████████████████████████████████████████████████████████████████| 5/5 [00:00<00:00, 30.07it/s]\n",
      "propagate in video: 100%|████████████████████████████████████████████████████████████████| 5/5 [00:00<00:00, 21.90it/s]\n"
     ]
    },
    {
     "name": "stdout",
     "output_type": "stream",
     "text": [
      "./MnM_output_middle/H7K5U5_ES\n"
     ]
    },
    {
     "name": "stderr",
     "output_type": "stream",
     "text": [
      "frame loading (JPEG): 100%|██████████████████████████████████████████████████████████████| 8/8 [00:00<00:00, 48.47it/s]\n",
      "propagate in video: 100%|████████████████████████████████████████████████████████████████| 4/4 [00:00<00:00, 35.09it/s]\n",
      "propagate in video: 100%|████████████████████████████████████████████████████████████████| 4/4 [00:00<00:00, 22.95it/s]\n",
      "propagate in video: 100%|████████████████████████████████████████████████████████████████| 4/4 [00:00<00:00, 35.57it/s]\n",
      "propagate in video: 100%|████████████████████████████████████████████████████████████████| 4/4 [00:00<00:00, 22.62it/s]\n",
      "propagate in video: 100%|████████████████████████████████████████████████████████████████| 4/4 [00:00<00:00, 35.33it/s]\n",
      "propagate in video: 100%|████████████████████████████████████████████████████████████████| 4/4 [00:00<00:00, 23.00it/s]\n"
     ]
    },
    {
     "name": "stdout",
     "output_type": "stream",
     "text": [
      "./MnM_output_middle/H7L8R8_ED\n"
     ]
    },
    {
     "name": "stderr",
     "output_type": "stream",
     "text": [
      "frame loading (JPEG): 100%|██████████████████████████████████████████████████████████████| 9/9 [00:00<00:00, 48.23it/s]\n",
      "propagate in video: 100%|████████████████████████████████████████████████████████████████| 5/5 [00:00<00:00, 32.94it/s]\n",
      "propagate in video: 100%|████████████████████████████████████████████████████████████████| 4/4 [00:00<00:00, 21.83it/s]\n",
      "propagate in video: 100%|████████████████████████████████████████████████████████████████| 5/5 [00:00<00:00, 32.55it/s]\n",
      "propagate in video: 100%|████████████████████████████████████████████████████████████████| 4/4 [00:00<00:00, 21.23it/s]\n",
      "propagate in video: 100%|████████████████████████████████████████████████████████████████| 5/5 [00:00<00:00, 26.17it/s]\n",
      "propagate in video: 100%|████████████████████████████████████████████████████████████████| 4/4 [00:00<00:00, 21.88it/s]\n"
     ]
    },
    {
     "name": "stdout",
     "output_type": "stream",
     "text": [
      "./MnM_output_middle/H7L8R8_ES\n"
     ]
    },
    {
     "name": "stderr",
     "output_type": "stream",
     "text": [
      "frame loading (JPEG): 100%|██████████████████████████████████████████████████████████████| 8/8 [00:00<00:00, 44.73it/s]\n",
      "propagate in video: 100%|████████████████████████████████████████████████████████████████| 4/4 [00:00<00:00, 34.72it/s]\n",
      "propagate in video: 100%|████████████████████████████████████████████████████████████████| 4/4 [00:00<00:00, 22.57it/s]\n",
      "propagate in video: 100%|████████████████████████████████████████████████████████████████| 4/4 [00:00<00:00, 35.29it/s]\n",
      "propagate in video: 100%|████████████████████████████████████████████████████████████████| 4/4 [00:00<00:00, 22.93it/s]\n",
      "propagate in video: 100%|████████████████████████████████████████████████████████████████| 4/4 [00:00<00:00, 33.95it/s]\n",
      "propagate in video: 100%|████████████████████████████████████████████████████████████████| 4/4 [00:00<00:00, 22.30it/s]\n"
     ]
    },
    {
     "name": "stdout",
     "output_type": "stream",
     "text": [
      "./MnM_output_middle/H7P5Z4_ED\n"
     ]
    },
    {
     "name": "stderr",
     "output_type": "stream",
     "text": [
      "frame loading (JPEG): 100%|██████████████████████████████████████████████████████████████| 8/8 [00:00<00:00, 42.36it/s]\n",
      "propagate in video: 100%|████████████████████████████████████████████████████████████████| 4/4 [00:00<00:00, 35.72it/s]\n",
      "propagate in video: 100%|████████████████████████████████████████████████████████████████| 4/4 [00:00<00:00, 22.12it/s]\n",
      "propagate in video: 100%|████████████████████████████████████████████████████████████████| 4/4 [00:00<00:00, 33.25it/s]\n",
      "propagate in video: 100%|████████████████████████████████████████████████████████████████| 4/4 [00:00<00:00, 22.43it/s]\n",
      "propagate in video: 100%|████████████████████████████████████████████████████████████████| 4/4 [00:00<00:00, 35.57it/s]\n",
      "propagate in video: 100%|████████████████████████████████████████████████████████████████| 4/4 [00:00<00:00, 22.32it/s]\n"
     ]
    },
    {
     "name": "stdout",
     "output_type": "stream",
     "text": [
      "./MnM_output_middle/H7P5Z4_ES\n"
     ]
    },
    {
     "name": "stderr",
     "output_type": "stream",
     "text": [
      "frame loading (JPEG): 100%|██████████████████████████████████████████████████████████████| 6/6 [00:00<00:00, 38.64it/s]\n",
      "propagate in video: 100%|████████████████████████████████████████████████████████████████| 3/3 [00:00<00:00, 40.84it/s]\n",
      "propagate in video: 100%|████████████████████████████████████████████████████████████████| 3/3 [00:00<00:00, 22.85it/s]\n",
      "propagate in video: 100%|████████████████████████████████████████████████████████████████| 3/3 [00:00<00:00, 41.11it/s]\n",
      "propagate in video: 100%|████████████████████████████████████████████████████████████████| 3/3 [00:00<00:00, 24.35it/s]\n",
      "propagate in video: 100%|████████████████████████████████████████████████████████████████| 3/3 [00:00<00:00, 39.51it/s]\n",
      "propagate in video: 100%|████████████████████████████████████████████████████████████████| 3/3 [00:00<00:00, 22.53it/s]\n"
     ]
    },
    {
     "name": "stdout",
     "output_type": "stream",
     "text": [
      "./MnM_output_middle/H8K2K7_ED\n"
     ]
    },
    {
     "name": "stderr",
     "output_type": "stream",
     "text": [
      "frame loading (JPEG): 100%|████████████████████████████████████████████████████████████| 10/10 [00:00<00:00, 45.71it/s]\n",
      "propagate in video: 100%|████████████████████████████████████████████████████████████████| 5/5 [00:00<00:00, 31.63it/s]\n",
      "propagate in video: 100%|████████████████████████████████████████████████████████████████| 5/5 [00:00<00:00, 21.98it/s]\n",
      "propagate in video: 100%|████████████████████████████████████████████████████████████████| 5/5 [00:00<00:00, 33.31it/s]\n",
      "propagate in video: 100%|████████████████████████████████████████████████████████████████| 5/5 [00:00<00:00, 21.56it/s]\n",
      "propagate in video: 100%|████████████████████████████████████████████████████████████████| 5/5 [00:00<00:00, 31.14it/s]\n",
      "propagate in video: 100%|████████████████████████████████████████████████████████████████| 5/5 [00:00<00:00, 21.38it/s]\n"
     ]
    },
    {
     "name": "stdout",
     "output_type": "stream",
     "text": [
      "./MnM_output_middle/H8K2K7_ES\n"
     ]
    },
    {
     "name": "stderr",
     "output_type": "stream",
     "text": [
      "frame loading (JPEG): 100%|██████████████████████████████████████████████████████████████| 7/7 [00:00<00:00, 49.39it/s]\n",
      "propagate in video: 100%|████████████████████████████████████████████████████████████████| 4/4 [00:00<00:00, 35.72it/s]\n",
      "propagate in video: 100%|████████████████████████████████████████████████████████████████| 3/3 [00:00<00:00, 23.46it/s]\n",
      "propagate in video: 100%|████████████████████████████████████████████████████████████████| 4/4 [00:00<00:00, 36.76it/s]\n",
      "propagate in video: 100%|████████████████████████████████████████████████████████████████| 3/3 [00:00<00:00, 23.46it/s]\n",
      "propagate in video: 100%|████████████████████████████████████████████████████████████████| 4/4 [00:00<00:00, 36.57it/s]\n",
      "propagate in video: 100%|████████████████████████████████████████████████████████████████| 3/3 [00:00<00:00, 22.51it/s]\n"
     ]
    },
    {
     "name": "stdout",
     "output_type": "stream",
     "text": [
      "./MnM_output_middle/I0I2J8_ED\n"
     ]
    },
    {
     "name": "stderr",
     "output_type": "stream",
     "text": [
      "frame loading (JPEG): 100%|████████████████████████████████████████████████████████████| 10/10 [00:00<00:00, 45.42it/s]\n",
      "propagate in video: 100%|████████████████████████████████████████████████████████████████| 5/5 [00:00<00:00, 31.28it/s]\n",
      "propagate in video: 100%|████████████████████████████████████████████████████████████████| 5/5 [00:00<00:00, 21.38it/s]\n",
      "propagate in video: 100%|████████████████████████████████████████████████████████████████| 5/5 [00:00<00:00, 31.67it/s]\n",
      "propagate in video: 100%|████████████████████████████████████████████████████████████████| 5/5 [00:00<00:00, 21.39it/s]\n",
      "propagate in video: 100%|████████████████████████████████████████████████████████████████| 5/5 [00:00<00:00, 32.58it/s]\n",
      "propagate in video: 100%|████████████████████████████████████████████████████████████████| 5/5 [00:00<00:00, 21.06it/s]\n"
     ]
    },
    {
     "name": "stdout",
     "output_type": "stream",
     "text": [
      "./MnM_output_middle/I0I2J8_ES\n"
     ]
    },
    {
     "name": "stderr",
     "output_type": "stream",
     "text": [
      "frame loading (JPEG): 100%|██████████████████████████████████████████████████████████████| 7/7 [00:00<00:00, 46.49it/s]\n",
      "propagate in video: 100%|████████████████████████████████████████████████████████████████| 4/4 [00:00<00:00, 35.91it/s]\n",
      "propagate in video: 100%|████████████████████████████████████████████████████████████████| 3/3 [00:00<00:00, 22.62it/s]\n",
      "propagate in video: 100%|████████████████████████████████████████████████████████████████| 4/4 [00:00<00:00, 34.90it/s]\n",
      "propagate in video: 100%|████████████████████████████████████████████████████████████████| 3/3 [00:00<00:00, 22.67it/s]\n",
      "propagate in video: 100%|████████████████████████████████████████████████████████████████| 4/4 [00:00<00:00, 33.71it/s]\n",
      "propagate in video: 100%|████████████████████████████████████████████████████████████████| 3/3 [00:00<00:00, 23.73it/s]\n"
     ]
    },
    {
     "name": "stdout",
     "output_type": "stream",
     "text": [
      "./MnM_output_middle/I2J6Z6_ED\n"
     ]
    },
    {
     "name": "stderr",
     "output_type": "stream",
     "text": [
      "frame loading (JPEG): 100%|████████████████████████████████████████████████████████████| 10/10 [00:00<00:00, 48.96it/s]\n",
      "propagate in video: 100%|████████████████████████████████████████████████████████████████| 5/5 [00:00<00:00, 30.15it/s]\n",
      "propagate in video: 100%|████████████████████████████████████████████████████████████████| 5/5 [00:00<00:00, 22.33it/s]\n",
      "propagate in video: 100%|████████████████████████████████████████████████████████████████| 5/5 [00:00<00:00, 31.92it/s]\n",
      "propagate in video: 100%|████████████████████████████████████████████████████████████████| 5/5 [00:00<00:00, 22.16it/s]\n",
      "propagate in video: 100%|████████████████████████████████████████████████████████████████| 5/5 [00:00<00:00, 29.95it/s]\n",
      "propagate in video: 100%|████████████████████████████████████████████████████████████████| 5/5 [00:00<00:00, 22.71it/s]\n"
     ]
    },
    {
     "name": "stdout",
     "output_type": "stream",
     "text": [
      "./MnM_output_middle/I2J6Z6_ES\n"
     ]
    },
    {
     "name": "stderr",
     "output_type": "stream",
     "text": [
      "frame loading (JPEG): 100%|██████████████████████████████████████████████████████████████| 8/8 [00:00<00:00, 45.24it/s]\n",
      "propagate in video: 100%|████████████████████████████████████████████████████████████████| 4/4 [00:00<00:00, 37.00it/s]\n",
      "propagate in video: 100%|████████████████████████████████████████████████████████████████| 4/4 [00:00<00:00, 22.63it/s]\n",
      "propagate in video: 100%|████████████████████████████████████████████████████████████████| 4/4 [00:00<00:00, 37.21it/s]\n",
      "propagate in video: 100%|████████████████████████████████████████████████████████████████| 4/4 [00:00<00:00, 22.87it/s]\n",
      "propagate in video: 100%|████████████████████████████████████████████████████████████████| 4/4 [00:00<00:00, 32.59it/s]\n",
      "propagate in video: 100%|████████████████████████████████████████████████████████████████| 4/4 [00:00<00:00, 21.96it/s]\n"
     ]
    },
    {
     "name": "stdout",
     "output_type": "stream",
     "text": [
      "./MnM_output_middle/I4R8V6_ED\n"
     ]
    },
    {
     "name": "stderr",
     "output_type": "stream",
     "text": [
      "frame loading (JPEG): 100%|████████████████████████████████████████████████████████████| 10/10 [00:00<00:00, 49.68it/s]\n",
      "propagate in video: 100%|████████████████████████████████████████████████████████████████| 5/5 [00:00<00:00, 30.33it/s]\n",
      "propagate in video: 100%|████████████████████████████████████████████████████████████████| 5/5 [00:00<00:00, 21.56it/s]\n",
      "propagate in video: 100%|████████████████████████████████████████████████████████████████| 5/5 [00:00<00:00, 32.72it/s]\n",
      "propagate in video: 100%|████████████████████████████████████████████████████████████████| 5/5 [00:00<00:00, 21.53it/s]\n",
      "propagate in video: 100%|████████████████████████████████████████████████████████████████| 5/5 [00:00<00:00, 31.62it/s]\n",
      "propagate in video: 100%|████████████████████████████████████████████████████████████████| 5/5 [00:00<00:00, 22.07it/s]\n"
     ]
    },
    {
     "name": "stdout",
     "output_type": "stream",
     "text": [
      "./MnM_output_middle/I4R8V6_ES\n"
     ]
    },
    {
     "name": "stderr",
     "output_type": "stream",
     "text": [
      "frame loading (JPEG): 100%|██████████████████████████████████████████████████████████████| 8/8 [00:00<00:00, 48.69it/s]\n",
      "propagate in video: 100%|████████████████████████████████████████████████████████████████| 4/4 [00:00<00:00, 39.39it/s]\n",
      "propagate in video: 100%|████████████████████████████████████████████████████████████████| 4/4 [00:00<00:00, 22.94it/s]\n",
      "propagate in video: 100%|████████████████████████████████████████████████████████████████| 4/4 [00:00<00:00, 35.99it/s]\n",
      "propagate in video: 100%|████████████████████████████████████████████████████████████████| 4/4 [00:00<00:00, 22.37it/s]\n",
      "propagate in video: 100%|████████████████████████████████████████████████████████████████| 4/4 [00:00<00:00, 34.60it/s]\n",
      "propagate in video: 100%|████████████████████████████████████████████████████████████████| 4/4 [00:00<00:00, 21.97it/s]\n"
     ]
    },
    {
     "name": "stdout",
     "output_type": "stream",
     "text": [
      "./MnM_output_middle/I5L3S2_ED\n"
     ]
    },
    {
     "name": "stderr",
     "output_type": "stream",
     "text": [
      "frame loading (JPEG): 100%|██████████████████████████████████████████████████████████████| 9/9 [00:00<00:00, 48.20it/s]\n",
      "propagate in video: 100%|████████████████████████████████████████████████████████████████| 5/5 [00:00<00:00, 30.66it/s]\n",
      "propagate in video: 100%|████████████████████████████████████████████████████████████████| 4/4 [00:00<00:00, 22.38it/s]\n",
      "propagate in video: 100%|████████████████████████████████████████████████████████████████| 5/5 [00:00<00:00, 32.43it/s]\n",
      "propagate in video: 100%|████████████████████████████████████████████████████████████████| 4/4 [00:00<00:00, 21.83it/s]\n",
      "propagate in video: 100%|████████████████████████████████████████████████████████████████| 5/5 [00:00<00:00, 28.43it/s]\n",
      "propagate in video: 100%|████████████████████████████████████████████████████████████████| 4/4 [00:00<00:00, 22.39it/s]\n"
     ]
    },
    {
     "name": "stdout",
     "output_type": "stream",
     "text": [
      "./MnM_output_middle/I5L3S2_ES\n"
     ]
    },
    {
     "name": "stderr",
     "output_type": "stream",
     "text": [
      "frame loading (JPEG): 100%|██████████████████████████████████████████████████████████████| 8/8 [00:00<00:00, 45.20it/s]\n",
      "propagate in video: 100%|████████████████████████████████████████████████████████████████| 4/4 [00:00<00:00, 37.29it/s]\n",
      "propagate in video: 100%|████████████████████████████████████████████████████████████████| 4/4 [00:00<00:00, 22.21it/s]\n",
      "propagate in video: 100%|████████████████████████████████████████████████████████████████| 4/4 [00:00<00:00, 33.41it/s]\n",
      "propagate in video: 100%|████████████████████████████████████████████████████████████████| 4/4 [00:00<00:00, 23.25it/s]\n",
      "propagate in video: 100%|████████████████████████████████████████████████████████████████| 4/4 [00:00<00:00, 35.36it/s]\n",
      "propagate in video: 100%|████████████████████████████████████████████████████████████████| 4/4 [00:00<00:00, 22.56it/s]\n"
     ]
    },
    {
     "name": "stdout",
     "output_type": "stream",
     "text": [
      "./MnM_output_middle/I6P4R0_ED\n"
     ]
    },
    {
     "name": "stderr",
     "output_type": "stream",
     "text": [
      "frame loading (JPEG): 100%|████████████████████████████████████████████████████████████| 10/10 [00:00<00:00, 40.37it/s]\n",
      "propagate in video: 100%|████████████████████████████████████████████████████████████████| 5/5 [00:00<00:00, 31.62it/s]\n",
      "propagate in video: 100%|████████████████████████████████████████████████████████████████| 5/5 [00:00<00:00, 21.78it/s]\n",
      "propagate in video: 100%|████████████████████████████████████████████████████████████████| 5/5 [00:00<00:00, 33.35it/s]\n",
      "propagate in video: 100%|████████████████████████████████████████████████████████████████| 5/5 [00:00<00:00, 20.89it/s]\n",
      "propagate in video: 100%|████████████████████████████████████████████████████████████████| 5/5 [00:00<00:00, 25.71it/s]\n",
      "propagate in video: 100%|████████████████████████████████████████████████████████████████| 5/5 [00:00<00:00, 21.99it/s]\n"
     ]
    },
    {
     "name": "stdout",
     "output_type": "stream",
     "text": [
      "./MnM_output_middle/I6P4R0_ES\n"
     ]
    },
    {
     "name": "stderr",
     "output_type": "stream",
     "text": [
      "frame loading (JPEG): 100%|██████████████████████████████████████████████████████████████| 9/9 [00:00<00:00, 40.94it/s]\n",
      "propagate in video: 100%|████████████████████████████████████████████████████████████████| 5/5 [00:00<00:00, 32.42it/s]\n",
      "propagate in video: 100%|████████████████████████████████████████████████████████████████| 4/4 [00:00<00:00, 22.30it/s]\n",
      "propagate in video: 100%|████████████████████████████████████████████████████████████████| 5/5 [00:00<00:00, 33.35it/s]\n",
      "propagate in video: 100%|████████████████████████████████████████████████████████████████| 4/4 [00:00<00:00, 22.77it/s]\n",
      "propagate in video: 100%|████████████████████████████████████████████████████████████████| 5/5 [00:00<00:00, 33.25it/s]\n",
      "propagate in video: 100%|████████████████████████████████████████████████████████████████| 4/4 [00:00<00:00, 20.42it/s]\n"
     ]
    },
    {
     "name": "stdout",
     "output_type": "stream",
     "text": [
      "./MnM_output_middle/I6T4W8_ED\n"
     ]
    },
    {
     "name": "stderr",
     "output_type": "stream",
     "text": [
      "frame loading (JPEG): 100%|██████████████████████████████████████████████████████████████| 8/8 [00:00<00:00, 47.26it/s]\n",
      "propagate in video: 100%|████████████████████████████████████████████████████████████████| 4/4 [00:00<00:00, 36.19it/s]\n",
      "propagate in video: 100%|████████████████████████████████████████████████████████████████| 4/4 [00:00<00:00, 21.72it/s]\n",
      "propagate in video: 100%|████████████████████████████████████████████████████████████████| 4/4 [00:00<00:00, 37.57it/s]\n",
      "propagate in video: 100%|████████████████████████████████████████████████████████████████| 4/4 [00:00<00:00, 21.91it/s]\n",
      "propagate in video: 100%|████████████████████████████████████████████████████████████████| 4/4 [00:00<00:00, 27.36it/s]\n",
      "propagate in video: 100%|████████████████████████████████████████████████████████████████| 4/4 [00:00<00:00, 22.91it/s]\n"
     ]
    },
    {
     "name": "stdout",
     "output_type": "stream",
     "text": [
      "./MnM_output_middle/I6T4W8_ES\n"
     ]
    },
    {
     "name": "stderr",
     "output_type": "stream",
     "text": [
      "frame loading (JPEG): 100%|██████████████████████████████████████████████████████████████| 7/7 [00:00<00:00, 42.77it/s]\n",
      "propagate in video: 100%|████████████████████████████████████████████████████████████████| 4/4 [00:00<00:00, 34.13it/s]\n",
      "propagate in video: 100%|████████████████████████████████████████████████████████████████| 3/3 [00:00<00:00, 23.11it/s]\n",
      "propagate in video: 100%|████████████████████████████████████████████████████████████████| 4/4 [00:00<00:00, 37.77it/s]\n",
      "propagate in video: 100%|████████████████████████████████████████████████████████████████| 3/3 [00:00<00:00, 22.60it/s]\n",
      "propagate in video: 100%|████████████████████████████████████████████████████████████████| 4/4 [00:00<00:00, 33.07it/s]\n",
      "propagate in video: 100%|████████████████████████████████████████████████████████████████| 3/3 [00:00<00:00, 23.38it/s]\n"
     ]
    },
    {
     "name": "stdout",
     "output_type": "stream",
     "text": [
      "./MnM_output_middle/I8N8Y1_ED\n"
     ]
    },
    {
     "name": "stderr",
     "output_type": "stream",
     "text": [
      "frame loading (JPEG): 100%|████████████████████████████████████████████████████████████| 11/11 [00:00<00:00, 39.98it/s]\n",
      "propagate in video: 100%|████████████████████████████████████████████████████████████████| 6/6 [00:00<00:00, 29.41it/s]\n",
      "propagate in video: 100%|████████████████████████████████████████████████████████████████| 5/5 [00:00<00:00, 21.92it/s]\n",
      "propagate in video: 100%|████████████████████████████████████████████████████████████████| 6/6 [00:00<00:00, 31.22it/s]\n",
      "propagate in video: 100%|████████████████████████████████████████████████████████████████| 5/5 [00:00<00:00, 22.19it/s]\n",
      "propagate in video: 100%|████████████████████████████████████████████████████████████████| 6/6 [00:00<00:00, 30.99it/s]\n",
      "propagate in video: 100%|████████████████████████████████████████████████████████████████| 5/5 [00:00<00:00, 22.18it/s]\n"
     ]
    },
    {
     "name": "stdout",
     "output_type": "stream",
     "text": [
      "./MnM_output_middle/I8N8Y1_ES\n"
     ]
    },
    {
     "name": "stderr",
     "output_type": "stream",
     "text": [
      "frame loading (JPEG): 100%|██████████████████████████████████████████████████████████████| 8/8 [00:00<00:00, 40.19it/s]\n",
      "propagate in video: 100%|████████████████████████████████████████████████████████████████| 4/4 [00:00<00:00, 32.21it/s]\n",
      "propagate in video: 100%|████████████████████████████████████████████████████████████████| 4/4 [00:00<00:00, 22.19it/s]\n",
      "propagate in video: 100%|████████████████████████████████████████████████████████████████| 4/4 [00:00<00:00, 37.49it/s]\n",
      "propagate in video: 100%|████████████████████████████████████████████████████████████████| 4/4 [00:00<00:00, 22.52it/s]\n",
      "propagate in video: 100%|████████████████████████████████████████████████████████████████| 4/4 [00:00<00:00, 36.12it/s]\n",
      "propagate in video: 100%|████████████████████████████████████████████████████████████████| 4/4 [00:00<00:00, 21.59it/s]\n"
     ]
    },
    {
     "name": "stdout",
     "output_type": "stream",
     "text": [
      "./MnM_output_middle/I8Z0Z6_ED\n"
     ]
    },
    {
     "name": "stderr",
     "output_type": "stream",
     "text": [
      "frame loading (JPEG): 100%|██████████████████████████████████████████████████████████████| 9/9 [00:00<00:00, 47.75it/s]\n",
      "propagate in video: 100%|████████████████████████████████████████████████████████████████| 5/5 [00:00<00:00, 31.64it/s]\n",
      "propagate in video: 100%|████████████████████████████████████████████████████████████████| 4/4 [00:00<00:00, 21.89it/s]\n",
      "propagate in video: 100%|████████████████████████████████████████████████████████████████| 5/5 [00:00<00:00, 33.45it/s]\n",
      "propagate in video: 100%|████████████████████████████████████████████████████████████████| 4/4 [00:00<00:00, 20.94it/s]\n",
      "propagate in video: 100%|████████████████████████████████████████████████████████████████| 5/5 [00:00<00:00, 31.64it/s]\n",
      "propagate in video: 100%|████████████████████████████████████████████████████████████████| 4/4 [00:00<00:00, 22.66it/s]\n"
     ]
    },
    {
     "name": "stdout",
     "output_type": "stream",
     "text": [
      "./MnM_output_middle/I8Z0Z6_ES\n"
     ]
    },
    {
     "name": "stderr",
     "output_type": "stream",
     "text": [
      "frame loading (JPEG): 100%|██████████████████████████████████████████████████████████████| 8/8 [00:00<00:00, 46.54it/s]\n",
      "propagate in video: 100%|████████████████████████████████████████████████████████████████| 4/4 [00:00<00:00, 30.02it/s]\n",
      "propagate in video: 100%|████████████████████████████████████████████████████████████████| 4/4 [00:00<00:00, 22.75it/s]\n",
      "propagate in video: 100%|████████████████████████████████████████████████████████████████| 4/4 [00:00<00:00, 33.93it/s]\n",
      "propagate in video: 100%|████████████████████████████████████████████████████████████████| 4/4 [00:00<00:00, 23.02it/s]\n",
      "propagate in video: 100%|████████████████████████████████████████████████████████████████| 4/4 [00:00<00:00, 36.48it/s]\n",
      "propagate in video: 100%|████████████████████████████████████████████████████████████████| 4/4 [00:00<00:00, 22.05it/s]\n"
     ]
    },
    {
     "name": "stdout",
     "output_type": "stream",
     "text": [
      "./MnM_output_middle/J4J8Q3_ED\n"
     ]
    },
    {
     "name": "stderr",
     "output_type": "stream",
     "text": [
      "frame loading (JPEG): 100%|██████████████████████████████████████████████████████████████| 9/9 [00:00<00:00, 50.01it/s]\n",
      "propagate in video: 100%|████████████████████████████████████████████████████████████████| 5/5 [00:00<00:00, 31.31it/s]\n",
      "propagate in video: 100%|████████████████████████████████████████████████████████████████| 4/4 [00:00<00:00, 21.85it/s]\n",
      "propagate in video: 100%|████████████████████████████████████████████████████████████████| 5/5 [00:00<00:00, 31.65it/s]\n",
      "propagate in video: 100%|████████████████████████████████████████████████████████████████| 4/4 [00:00<00:00, 20.83it/s]\n",
      "propagate in video: 100%|████████████████████████████████████████████████████████████████| 5/5 [00:00<00:00, 33.55it/s]\n",
      "propagate in video: 100%|████████████████████████████████████████████████████████████████| 4/4 [00:00<00:00, 21.68it/s]\n"
     ]
    },
    {
     "name": "stdout",
     "output_type": "stream",
     "text": [
      "./MnM_output_middle/J4J8Q3_ES\n"
     ]
    },
    {
     "name": "stderr",
     "output_type": "stream",
     "text": [
      "frame loading (JPEG): 100%|██████████████████████████████████████████████████████████████| 8/8 [00:00<00:00, 48.71it/s]\n",
      "propagate in video: 100%|████████████████████████████████████████████████████████████████| 4/4 [00:00<00:00, 36.17it/s]\n",
      "propagate in video: 100%|████████████████████████████████████████████████████████████████| 4/4 [00:00<00:00, 23.11it/s]\n",
      "propagate in video: 100%|████████████████████████████████████████████████████████████████| 4/4 [00:00<00:00, 32.66it/s]\n",
      "propagate in video: 100%|████████████████████████████████████████████████████████████████| 4/4 [00:00<00:00, 22.38it/s]\n",
      "propagate in video: 100%|████████████████████████████████████████████████████████████████| 4/4 [00:00<00:00, 35.46it/s]\n",
      "propagate in video: 100%|████████████████████████████████████████████████████████████████| 4/4 [00:00<00:00, 23.04it/s]\n"
     ]
    },
    {
     "name": "stdout",
     "output_type": "stream",
     "text": [
      "./MnM_output_middle/J6K4V3_ED\n"
     ]
    },
    {
     "name": "stderr",
     "output_type": "stream",
     "text": [
      "frame loading (JPEG): 100%|██████████████████████████████████████████████████████████████| 8/8 [00:00<00:00, 47.81it/s]\n",
      "propagate in video: 100%|████████████████████████████████████████████████████████████████| 4/4 [00:00<00:00, 35.22it/s]\n",
      "propagate in video: 100%|████████████████████████████████████████████████████████████████| 4/4 [00:00<00:00, 22.44it/s]\n",
      "propagate in video: 100%|████████████████████████████████████████████████████████████████| 4/4 [00:00<00:00, 34.24it/s]\n",
      "propagate in video: 100%|████████████████████████████████████████████████████████████████| 4/4 [00:00<00:00, 22.48it/s]\n",
      "propagate in video: 100%|████████████████████████████████████████████████████████████████| 4/4 [00:00<00:00, 34.78it/s]\n",
      "propagate in video: 100%|████████████████████████████████████████████████████████████████| 4/4 [00:00<00:00, 22.89it/s]\n"
     ]
    },
    {
     "name": "stdout",
     "output_type": "stream",
     "text": [
      "./MnM_output_middle/J6K4V3_ES\n"
     ]
    },
    {
     "name": "stderr",
     "output_type": "stream",
     "text": [
      "frame loading (JPEG): 100%|██████████████████████████████████████████████████████████████| 7/7 [00:00<00:00, 48.10it/s]\n",
      "propagate in video: 100%|████████████████████████████████████████████████████████████████| 4/4 [00:00<00:00, 35.63it/s]\n",
      "propagate in video: 100%|████████████████████████████████████████████████████████████████| 3/3 [00:00<00:00, 23.38it/s]\n",
      "propagate in video: 100%|████████████████████████████████████████████████████████████████| 4/4 [00:00<00:00, 34.61it/s]\n",
      "propagate in video: 100%|████████████████████████████████████████████████████████████████| 3/3 [00:00<00:00, 22.56it/s]\n",
      "propagate in video: 100%|████████████████████████████████████████████████████████████████| 4/4 [00:00<00:00, 36.25it/s]\n",
      "propagate in video: 100%|████████████████████████████████████████████████████████████████| 3/3 [00:00<00:00, 23.35it/s]\n"
     ]
    },
    {
     "name": "stdout",
     "output_type": "stream",
     "text": [
      "./MnM_output_middle/J9L4S2_ED\n"
     ]
    },
    {
     "name": "stderr",
     "output_type": "stream",
     "text": [
      "frame loading (JPEG): 100%|████████████████████████████████████████████████████████████| 11/11 [00:00<00:00, 45.52it/s]\n",
      "propagate in video: 100%|████████████████████████████████████████████████████████████████| 6/6 [00:00<00:00, 28.67it/s]\n",
      "propagate in video: 100%|████████████████████████████████████████████████████████████████| 5/5 [00:00<00:00, 21.77it/s]\n",
      "propagate in video: 100%|████████████████████████████████████████████████████████████████| 6/6 [00:00<00:00, 30.48it/s]\n",
      "propagate in video: 100%|████████████████████████████████████████████████████████████████| 5/5 [00:00<00:00, 22.29it/s]\n",
      "propagate in video: 100%|████████████████████████████████████████████████████████████████| 6/6 [00:00<00:00, 28.74it/s]\n",
      "propagate in video: 100%|████████████████████████████████████████████████████████████████| 5/5 [00:00<00:00, 21.44it/s]\n"
     ]
    },
    {
     "name": "stdout",
     "output_type": "stream",
     "text": [
      "./MnM_output_middle/J9L4S2_ES\n"
     ]
    },
    {
     "name": "stderr",
     "output_type": "stream",
     "text": [
      "frame loading (JPEG): 100%|████████████████████████████████████████████████████████████| 11/11 [00:00<00:00, 45.01it/s]\n",
      "propagate in video: 100%|████████████████████████████████████████████████████████████████| 6/6 [00:00<00:00, 30.30it/s]\n",
      "propagate in video: 100%|████████████████████████████████████████████████████████████████| 5/5 [00:00<00:00, 21.97it/s]\n",
      "propagate in video: 100%|████████████████████████████████████████████████████████████████| 6/6 [00:00<00:00, 29.04it/s]\n",
      "propagate in video: 100%|████████████████████████████████████████████████████████████████| 5/5 [00:00<00:00, 22.17it/s]\n",
      "propagate in video: 100%|████████████████████████████████████████████████████████████████| 6/6 [00:00<00:00, 28.52it/s]\n",
      "propagate in video: 100%|████████████████████████████████████████████████████████████████| 5/5 [00:00<00:00, 22.31it/s]\n"
     ]
    },
    {
     "name": "stdout",
     "output_type": "stream",
     "text": [
      "./MnM_output_middle/K3P3Y6_ED\n"
     ]
    },
    {
     "name": "stderr",
     "output_type": "stream",
     "text": [
      "frame loading (JPEG): 100%|██████████████████████████████████████████████████████████████| 9/9 [00:00<00:00, 40.36it/s]\n",
      "propagate in video: 100%|████████████████████████████████████████████████████████████████| 5/5 [00:00<00:00, 32.43it/s]\n",
      "propagate in video: 100%|████████████████████████████████████████████████████████████████| 4/4 [00:00<00:00, 20.73it/s]\n",
      "propagate in video: 100%|████████████████████████████████████████████████████████████████| 5/5 [00:00<00:00, 32.99it/s]\n",
      "propagate in video: 100%|████████████████████████████████████████████████████████████████| 4/4 [00:00<00:00, 21.85it/s]\n",
      "propagate in video: 100%|████████████████████████████████████████████████████████████████| 5/5 [00:00<00:00, 31.65it/s]\n",
      "propagate in video: 100%|████████████████████████████████████████████████████████████████| 4/4 [00:00<00:00, 22.10it/s]\n"
     ]
    },
    {
     "name": "stdout",
     "output_type": "stream",
     "text": [
      "./MnM_output_middle/K3P3Y6_ES\n"
     ]
    },
    {
     "name": "stderr",
     "output_type": "stream",
     "text": [
      "frame loading (JPEG): 100%|██████████████████████████████████████████████████████████████| 8/8 [00:00<00:00, 43.71it/s]\n",
      "propagate in video: 100%|████████████████████████████████████████████████████████████████| 4/4 [00:00<00:00, 35.24it/s]\n",
      "propagate in video: 100%|████████████████████████████████████████████████████████████████| 4/4 [00:00<00:00, 21.74it/s]\n",
      "propagate in video: 100%|████████████████████████████████████████████████████████████████| 4/4 [00:00<00:00, 33.04it/s]\n",
      "propagate in video: 100%|████████████████████████████████████████████████████████████████| 4/4 [00:00<00:00, 22.84it/s]\n",
      "propagate in video: 100%|████████████████████████████████████████████████████████████████| 4/4 [00:00<00:00, 36.36it/s]\n",
      "propagate in video: 100%|████████████████████████████████████████████████████████████████| 4/4 [00:00<00:00, 22.32it/s]\n"
     ]
    },
    {
     "name": "stdout",
     "output_type": "stream",
     "text": [
      "./MnM_output_middle/K5L4S1_ED\n"
     ]
    },
    {
     "name": "stderr",
     "output_type": "stream",
     "text": [
      "frame loading (JPEG): 100%|████████████████████████████████████████████████████████████| 10/10 [00:00<00:00, 41.39it/s]\n",
      "propagate in video: 100%|████████████████████████████████████████████████████████████████| 5/5 [00:00<00:00, 30.11it/s]\n",
      "propagate in video: 100%|████████████████████████████████████████████████████████████████| 5/5 [00:00<00:00, 21.53it/s]\n",
      "propagate in video: 100%|████████████████████████████████████████████████████████████████| 5/5 [00:00<00:00, 31.62it/s]\n",
      "propagate in video: 100%|████████████████████████████████████████████████████████████████| 5/5 [00:00<00:00, 21.55it/s]\n",
      "propagate in video: 100%|████████████████████████████████████████████████████████████████| 5/5 [00:00<00:00, 31.53it/s]\n",
      "propagate in video: 100%|████████████████████████████████████████████████████████████████| 5/5 [00:00<00:00, 22.21it/s]\n"
     ]
    },
    {
     "name": "stdout",
     "output_type": "stream",
     "text": [
      "./MnM_output_middle/K5L4S1_ES\n"
     ]
    },
    {
     "name": "stderr",
     "output_type": "stream",
     "text": [
      "frame loading (JPEG): 100%|██████████████████████████████████████████████████████████████| 7/7 [00:00<00:00, 41.62it/s]\n",
      "propagate in video: 100%|████████████████████████████████████████████████████████████████| 4/4 [00:00<00:00, 34.14it/s]\n",
      "propagate in video: 100%|████████████████████████████████████████████████████████████████| 3/3 [00:00<00:00, 23.77it/s]\n",
      "propagate in video: 100%|████████████████████████████████████████████████████████████████| 4/4 [00:00<00:00, 33.61it/s]\n",
      "propagate in video: 100%|████████████████████████████████████████████████████████████████| 3/3 [00:00<00:00, 23.58it/s]\n",
      "propagate in video: 100%|████████████████████████████████████████████████████████████████| 4/4 [00:00<00:00, 35.59it/s]\n",
      "propagate in video: 100%|████████████████████████████████████████████████████████████████| 3/3 [00:00<00:00, 21.98it/s]\n"
     ]
    },
    {
     "name": "stdout",
     "output_type": "stream",
     "text": [
      "./MnM_output_middle/K6N4N7_ED\n"
     ]
    },
    {
     "name": "stderr",
     "output_type": "stream",
     "text": [
      "frame loading (JPEG): 100%|██████████████████████████████████████████████████████████████| 9/9 [00:00<00:00, 44.49it/s]\n",
      "propagate in video: 100%|████████████████████████████████████████████████████████████████| 5/5 [00:00<00:00, 30.98it/s]\n",
      "propagate in video: 100%|████████████████████████████████████████████████████████████████| 4/4 [00:00<00:00, 21.83it/s]\n",
      "propagate in video: 100%|████████████████████████████████████████████████████████████████| 5/5 [00:00<00:00, 30.53it/s]\n",
      "propagate in video: 100%|████████████████████████████████████████████████████████████████| 4/4 [00:00<00:00, 22.08it/s]\n",
      "propagate in video: 100%|████████████████████████████████████████████████████████████████| 5/5 [00:00<00:00, 32.66it/s]\n",
      "propagate in video: 100%|████████████████████████████████████████████████████████████████| 4/4 [00:00<00:00, 22.25it/s]\n"
     ]
    },
    {
     "name": "stdout",
     "output_type": "stream",
     "text": [
      "./MnM_output_middle/K6N4N7_ES\n"
     ]
    },
    {
     "name": "stderr",
     "output_type": "stream",
     "text": [
      "frame loading (JPEG): 100%|██████████████████████████████████████████████████████████████| 8/8 [00:00<00:00, 46.21it/s]\n",
      "propagate in video: 100%|████████████████████████████████████████████████████████████████| 4/4 [00:00<00:00, 33.38it/s]\n",
      "propagate in video: 100%|████████████████████████████████████████████████████████████████| 4/4 [00:00<00:00, 22.88it/s]\n",
      "propagate in video: 100%|████████████████████████████████████████████████████████████████| 4/4 [00:00<00:00, 34.84it/s]\n",
      "propagate in video: 100%|████████████████████████████████████████████████████████████████| 4/4 [00:00<00:00, 22.88it/s]\n",
      "propagate in video: 100%|████████████████████████████████████████████████████████████████| 4/4 [00:00<00:00, 33.81it/s]\n",
      "propagate in video: 100%|████████████████████████████████████████████████████████████████| 4/4 [00:00<00:00, 23.03it/s]\n"
     ]
    },
    {
     "name": "stdout",
     "output_type": "stream",
     "text": [
      "./MnM_output_middle/K7L2Y6_ED\n"
     ]
    },
    {
     "name": "stderr",
     "output_type": "stream",
     "text": [
      "frame loading (JPEG): 100%|██████████████████████████████████████████████████████████████| 8/8 [00:00<00:00, 46.98it/s]\n",
      "propagate in video: 100%|████████████████████████████████████████████████████████████████| 4/4 [00:00<00:00, 33.73it/s]\n",
      "propagate in video: 100%|████████████████████████████████████████████████████████████████| 4/4 [00:00<00:00, 21.42it/s]\n",
      "propagate in video: 100%|████████████████████████████████████████████████████████████████| 4/4 [00:00<00:00, 33.70it/s]\n",
      "propagate in video: 100%|████████████████████████████████████████████████████████████████| 4/4 [00:00<00:00, 22.33it/s]\n",
      "propagate in video: 100%|████████████████████████████████████████████████████████████████| 4/4 [00:00<00:00, 34.15it/s]\n",
      "propagate in video: 100%|████████████████████████████████████████████████████████████████| 4/4 [00:00<00:00, 22.29it/s]\n"
     ]
    },
    {
     "name": "stdout",
     "output_type": "stream",
     "text": [
      "./MnM_output_middle/K7L2Y6_ES\n"
     ]
    },
    {
     "name": "stderr",
     "output_type": "stream",
     "text": [
      "frame loading (JPEG): 100%|██████████████████████████████████████████████████████████████| 5/5 [00:00<00:00, 49.87it/s]\n",
      "propagate in video: 100%|████████████████████████████████████████████████████████████████| 3/3 [00:00<00:00, 39.85it/s]\n",
      "propagate in video: 100%|████████████████████████████████████████████████████████████████| 2/2 [00:00<00:00, 23.66it/s]\n",
      "propagate in video: 100%|████████████████████████████████████████████████████████████████| 3/3 [00:00<00:00, 40.60it/s]\n",
      "propagate in video: 100%|████████████████████████████████████████████████████████████████| 2/2 [00:00<00:00, 24.18it/s]\n",
      "propagate in video: 100%|████████████████████████████████████████████████████████████████| 3/3 [00:00<00:00, 37.40it/s]\n",
      "propagate in video: 100%|████████████████████████████████████████████████████████████████| 2/2 [00:00<00:00, 26.15it/s]\n"
     ]
    },
    {
     "name": "stdout",
     "output_type": "stream",
     "text": [
      "./MnM_output_middle/K7N0R7_ED\n"
     ]
    },
    {
     "name": "stderr",
     "output_type": "stream",
     "text": [
      "frame loading (JPEG): 100%|████████████████████████████████████████████████████████████| 11/11 [00:00<00:00, 40.47it/s]\n",
      "propagate in video: 100%|████████████████████████████████████████████████████████████████| 6/6 [00:00<00:00, 31.46it/s]\n",
      "propagate in video: 100%|████████████████████████████████████████████████████████████████| 5/5 [00:00<00:00, 21.51it/s]\n",
      "propagate in video: 100%|████████████████████████████████████████████████████████████████| 6/6 [00:00<00:00, 26.77it/s]\n",
      "propagate in video: 100%|████████████████████████████████████████████████████████████████| 5/5 [00:00<00:00, 21.35it/s]\n",
      "propagate in video: 100%|████████████████████████████████████████████████████████████████| 6/6 [00:00<00:00, 30.54it/s]\n",
      "propagate in video: 100%|████████████████████████████████████████████████████████████████| 5/5 [00:00<00:00, 22.16it/s]\n"
     ]
    },
    {
     "name": "stdout",
     "output_type": "stream",
     "text": [
      "./MnM_output_middle/K7N0R7_ES\n"
     ]
    },
    {
     "name": "stderr",
     "output_type": "stream",
     "text": [
      "frame loading (JPEG): 100%|████████████████████████████████████████████████████████████| 10/10 [00:00<00:00, 40.45it/s]\n",
      "propagate in video: 100%|████████████████████████████████████████████████████████████████| 5/5 [00:00<00:00, 32.32it/s]\n",
      "propagate in video: 100%|████████████████████████████████████████████████████████████████| 5/5 [00:00<00:00, 21.86it/s]\n",
      "propagate in video: 100%|████████████████████████████████████████████████████████████████| 5/5 [00:00<00:00, 30.90it/s]\n",
      "propagate in video: 100%|████████████████████████████████████████████████████████████████| 5/5 [00:00<00:00, 20.95it/s]\n",
      "propagate in video: 100%|████████████████████████████████████████████████████████████████| 5/5 [00:00<00:00, 30.79it/s]\n",
      "propagate in video: 100%|████████████████████████████████████████████████████████████████| 5/5 [00:00<00:00, 21.93it/s]\n"
     ]
    },
    {
     "name": "stdout",
     "output_type": "stream",
     "text": [
      "./MnM_output_middle/K7O3Q0_ED\n"
     ]
    },
    {
     "name": "stderr",
     "output_type": "stream",
     "text": [
      "frame loading (JPEG): 100%|██████████████████████████████████████████████████████████████| 6/6 [00:00<00:00, 45.68it/s]\n",
      "propagate in video: 100%|████████████████████████████████████████████████████████████████| 3/3 [00:00<00:00, 40.33it/s]\n",
      "propagate in video: 100%|████████████████████████████████████████████████████████████████| 3/3 [00:00<00:00, 24.78it/s]\n",
      "propagate in video: 100%|████████████████████████████████████████████████████████████████| 3/3 [00:00<00:00, 38.47it/s]\n",
      "propagate in video: 100%|████████████████████████████████████████████████████████████████| 3/3 [00:00<00:00, 24.44it/s]\n",
      "propagate in video: 100%|████████████████████████████████████████████████████████████████| 3/3 [00:00<00:00, 40.71it/s]\n",
      "propagate in video: 100%|████████████████████████████████████████████████████████████████| 3/3 [00:00<00:00, 19.30it/s]\n"
     ]
    },
    {
     "name": "stdout",
     "output_type": "stream",
     "text": [
      "./MnM_output_middle/K7O3Q0_ES\n"
     ]
    },
    {
     "name": "stderr",
     "output_type": "stream",
     "text": [
      "frame loading (JPEG): 100%|██████████████████████████████████████████████████████████████| 6/6 [00:00<00:00, 44.79it/s]\n",
      "propagate in video: 100%|████████████████████████████████████████████████████████████████| 3/3 [00:00<00:00, 37.68it/s]\n",
      "propagate in video: 100%|████████████████████████████████████████████████████████████████| 3/3 [00:00<00:00, 23.77it/s]\n",
      "propagate in video: 100%|████████████████████████████████████████████████████████████████| 3/3 [00:00<00:00, 40.37it/s]\n",
      "propagate in video: 100%|████████████████████████████████████████████████████████████████| 3/3 [00:00<00:00, 23.02it/s]\n",
      "propagate in video: 100%|████████████████████████████████████████████████████████████████| 3/3 [00:00<00:00, 42.50it/s]\n",
      "propagate in video: 100%|████████████████████████████████████████████████████████████████| 3/3 [00:00<00:00, 25.25it/s]\n"
     ]
    },
    {
     "name": "stdout",
     "output_type": "stream",
     "text": [
      "./MnM_output_middle/L2V5Z0_ED\n"
     ]
    },
    {
     "name": "stderr",
     "output_type": "stream",
     "text": [
      "frame loading (JPEG): 100%|██████████████████████████████████████████████████████████████| 7/7 [00:00<00:00, 45.34it/s]\n",
      "propagate in video: 100%|████████████████████████████████████████████████████████████████| 4/4 [00:00<00:00, 34.64it/s]\n",
      "propagate in video: 100%|████████████████████████████████████████████████████████████████| 3/3 [00:00<00:00, 23.35it/s]\n",
      "propagate in video: 100%|████████████████████████████████████████████████████████████████| 4/4 [00:00<00:00, 36.16it/s]\n",
      "propagate in video: 100%|████████████████████████████████████████████████████████████████| 3/3 [00:00<00:00, 23.49it/s]\n",
      "propagate in video: 100%|████████████████████████████████████████████████████████████████| 4/4 [00:00<00:00, 37.13it/s]\n",
      "propagate in video: 100%|████████████████████████████████████████████████████████████████| 3/3 [00:00<00:00, 22.85it/s]\n"
     ]
    },
    {
     "name": "stdout",
     "output_type": "stream",
     "text": [
      "./MnM_output_middle/L2V5Z0_ES\n"
     ]
    },
    {
     "name": "stderr",
     "output_type": "stream",
     "text": [
      "frame loading (JPEG): 100%|██████████████████████████████████████████████████████████████| 7/7 [00:00<00:00, 47.14it/s]\n",
      "propagate in video: 100%|████████████████████████████████████████████████████████████████| 4/4 [00:00<00:00, 38.34it/s]\n",
      "propagate in video: 100%|████████████████████████████████████████████████████████████████| 3/3 [00:00<00:00, 22.16it/s]\n",
      "propagate in video: 100%|████████████████████████████████████████████████████████████████| 4/4 [00:00<00:00, 33.47it/s]\n",
      "propagate in video: 100%|████████████████████████████████████████████████████████████████| 3/3 [00:00<00:00, 22.95it/s]\n",
      "propagate in video: 100%|████████████████████████████████████████████████████████████████| 4/4 [00:00<00:00, 34.49it/s]\n",
      "propagate in video: 100%|████████████████████████████████████████████████████████████████| 3/3 [00:00<00:00, 22.99it/s]\n"
     ]
    },
    {
     "name": "stdout",
     "output_type": "stream",
     "text": [
      "./MnM_output_middle/L5U7Y4_ED\n"
     ]
    },
    {
     "name": "stderr",
     "output_type": "stream",
     "text": [
      "frame loading (JPEG): 100%|██████████████████████████████████████████████████████████████| 9/9 [00:00<00:00, 42.00it/s]\n",
      "propagate in video: 100%|████████████████████████████████████████████████████████████████| 5/5 [00:00<00:00, 31.57it/s]\n",
      "propagate in video: 100%|████████████████████████████████████████████████████████████████| 4/4 [00:00<00:00, 22.14it/s]\n",
      "propagate in video: 100%|████████████████████████████████████████████████████████████████| 5/5 [00:00<00:00, 31.27it/s]\n",
      "propagate in video: 100%|████████████████████████████████████████████████████████████████| 4/4 [00:00<00:00, 22.14it/s]\n",
      "propagate in video: 100%|████████████████████████████████████████████████████████████████| 5/5 [00:00<00:00, 32.43it/s]\n",
      "propagate in video: 100%|████████████████████████████████████████████████████████████████| 4/4 [00:00<00:00, 21.83it/s]\n"
     ]
    },
    {
     "name": "stdout",
     "output_type": "stream",
     "text": [
      "./MnM_output_middle/L5U7Y4_ES\n"
     ]
    },
    {
     "name": "stderr",
     "output_type": "stream",
     "text": [
      "frame loading (JPEG): 100%|██████████████████████████████████████████████████████████████| 7/7 [00:00<00:00, 38.12it/s]\n",
      "propagate in video: 100%|████████████████████████████████████████████████████████████████| 4/4 [00:00<00:00, 33.18it/s]\n",
      "propagate in video: 100%|████████████████████████████████████████████████████████████████| 3/3 [00:00<00:00, 23.75it/s]\n",
      "propagate in video: 100%|████████████████████████████████████████████████████████████████| 4/4 [00:00<00:00, 35.48it/s]\n",
      "propagate in video: 100%|████████████████████████████████████████████████████████████████| 3/3 [00:00<00:00, 22.39it/s]\n",
      "propagate in video: 100%|████████████████████████████████████████████████████████████████| 4/4 [00:00<00:00, 36.86it/s]\n",
      "propagate in video: 100%|████████████████████████████████████████████████████████████████| 3/3 [00:00<00:00, 23.08it/s]\n"
     ]
    },
    {
     "name": "stdout",
     "output_type": "stream",
     "text": [
      "./MnM_output_middle/L6T2T5_ED\n"
     ]
    },
    {
     "name": "stderr",
     "output_type": "stream",
     "text": [
      "frame loading (JPEG): 100%|██████████████████████████████████████████████████████████████| 7/7 [00:00<00:00, 42.00it/s]\n",
      "propagate in video: 100%|████████████████████████████████████████████████████████████████| 4/4 [00:00<00:00, 32.80it/s]\n",
      "propagate in video: 100%|████████████████████████████████████████████████████████████████| 3/3 [00:00<00:00, 22.44it/s]\n",
      "propagate in video: 100%|████████████████████████████████████████████████████████████████| 4/4 [00:00<00:00, 32.71it/s]\n",
      "propagate in video: 100%|████████████████████████████████████████████████████████████████| 3/3 [00:00<00:00, 21.96it/s]\n",
      "propagate in video: 100%|████████████████████████████████████████████████████████████████| 4/4 [00:00<00:00, 37.15it/s]\n",
      "propagate in video: 100%|████████████████████████████████████████████████████████████████| 3/3 [00:00<00:00, 22.82it/s]\n"
     ]
    },
    {
     "name": "stdout",
     "output_type": "stream",
     "text": [
      "./MnM_output_middle/L6T2T5_ES\n"
     ]
    },
    {
     "name": "stderr",
     "output_type": "stream",
     "text": [
      "frame loading (JPEG): 100%|██████████████████████████████████████████████████████████████| 5/5 [00:00<00:00, 44.35it/s]\n",
      "propagate in video: 100%|████████████████████████████████████████████████████████████████| 3/3 [00:00<00:00, 43.02it/s]\n",
      "propagate in video: 100%|████████████████████████████████████████████████████████████████| 2/2 [00:00<00:00, 22.74it/s]\n",
      "propagate in video: 100%|████████████████████████████████████████████████████████████████| 3/3 [00:00<00:00, 36.06it/s]\n",
      "propagate in video: 100%|████████████████████████████████████████████████████████████████| 2/2 [00:00<00:00, 23.82it/s]\n",
      "propagate in video: 100%|████████████████████████████████████████████████████████████████| 3/3 [00:00<00:00, 37.36it/s]\n",
      "propagate in video: 100%|████████████████████████████████████████████████████████████████| 2/2 [00:00<00:00, 26.08it/s]\n"
     ]
    },
    {
     "name": "stdout",
     "output_type": "stream",
     "text": [
      "./MnM_output_middle/L7Y7Z2_ED\n"
     ]
    },
    {
     "name": "stderr",
     "output_type": "stream",
     "text": [
      "frame loading (JPEG): 100%|██████████████████████████████████████████████████████████████| 8/8 [00:00<00:00, 45.75it/s]\n",
      "propagate in video: 100%|████████████████████████████████████████████████████████████████| 4/4 [00:00<00:00, 34.33it/s]\n",
      "propagate in video: 100%|████████████████████████████████████████████████████████████████| 4/4 [00:00<00:00, 22.56it/s]\n",
      "propagate in video: 100%|████████████████████████████████████████████████████████████████| 4/4 [00:00<00:00, 32.89it/s]\n",
      "propagate in video: 100%|████████████████████████████████████████████████████████████████| 4/4 [00:00<00:00, 22.13it/s]\n",
      "propagate in video: 100%|████████████████████████████████████████████████████████████████| 4/4 [00:00<00:00, 34.05it/s]\n",
      "propagate in video: 100%|████████████████████████████████████████████████████████████████| 4/4 [00:00<00:00, 22.42it/s]\n"
     ]
    },
    {
     "name": "stdout",
     "output_type": "stream",
     "text": [
      "./MnM_output_middle/L7Y7Z2_ES\n"
     ]
    },
    {
     "name": "stderr",
     "output_type": "stream",
     "text": [
      "frame loading (JPEG): 100%|██████████████████████████████████████████████████████████████| 7/7 [00:00<00:00, 44.36it/s]\n",
      "propagate in video: 100%|████████████████████████████████████████████████████████████████| 4/4 [00:00<00:00, 35.38it/s]\n",
      "propagate in video: 100%|████████████████████████████████████████████████████████████████| 3/3 [00:00<00:00, 23.70it/s]\n",
      "propagate in video: 100%|████████████████████████████████████████████████████████████████| 4/4 [00:00<00:00, 37.22it/s]\n",
      "propagate in video: 100%|████████████████████████████████████████████████████████████████| 3/3 [00:00<00:00, 22.36it/s]\n",
      "propagate in video: 100%|████████████████████████████████████████████████████████████████| 4/4 [00:00<00:00, 36.67it/s]\n",
      "propagate in video: 100%|████████████████████████████████████████████████████████████████| 3/3 [00:00<00:00, 23.14it/s]\n"
     ]
    },
    {
     "name": "stdout",
     "output_type": "stream",
     "text": [
      "./MnM_output_middle/L8M2U8_ED\n"
     ]
    },
    {
     "name": "stderr",
     "output_type": "stream",
     "text": [
      "frame loading (JPEG): 100%|██████████████████████████████████████████████████████████████| 9/9 [00:00<00:00, 41.16it/s]\n",
      "propagate in video: 100%|████████████████████████████████████████████████████████████████| 5/5 [00:00<00:00, 33.34it/s]\n",
      "propagate in video: 100%|████████████████████████████████████████████████████████████████| 4/4 [00:00<00:00, 20.96it/s]\n",
      "propagate in video: 100%|████████████████████████████████████████████████████████████████| 5/5 [00:00<00:00, 31.45it/s]\n",
      "propagate in video: 100%|████████████████████████████████████████████████████████████████| 4/4 [00:00<00:00, 22.04it/s]\n",
      "propagate in video: 100%|████████████████████████████████████████████████████████████████| 5/5 [00:00<00:00, 32.12it/s]\n",
      "propagate in video: 100%|████████████████████████████████████████████████████████████████| 4/4 [00:00<00:00, 21.95it/s]\n"
     ]
    },
    {
     "name": "stdout",
     "output_type": "stream",
     "text": [
      "./MnM_output_middle/L8M2U8_ES\n"
     ]
    },
    {
     "name": "stderr",
     "output_type": "stream",
     "text": [
      "frame loading (JPEG): 100%|██████████████████████████████████████████████████████████████| 8/8 [00:00<00:00, 40.17it/s]\n",
      "propagate in video: 100%|████████████████████████████████████████████████████████████████| 4/4 [00:00<00:00, 32.30it/s]\n",
      "propagate in video: 100%|████████████████████████████████████████████████████████████████| 4/4 [00:00<00:00, 22.63it/s]\n",
      "propagate in video: 100%|████████████████████████████████████████████████████████████████| 4/4 [00:00<00:00, 33.35it/s]\n",
      "propagate in video: 100%|████████████████████████████████████████████████████████████████| 4/4 [00:00<00:00, 22.00it/s]\n",
      "propagate in video: 100%|████████████████████████████████████████████████████████████████| 4/4 [00:00<00:00, 37.99it/s]\n",
      "propagate in video: 100%|████████████████████████████████████████████████████████████████| 4/4 [00:00<00:00, 22.58it/s]\n"
     ]
    },
    {
     "name": "stdout",
     "output_type": "stream",
     "text": [
      "./MnM_output_middle/L8N7P0_ED\n"
     ]
    },
    {
     "name": "stderr",
     "output_type": "stream",
     "text": [
      "frame loading (JPEG): 100%|██████████████████████████████████████████████████████████████| 8/8 [00:00<00:00, 46.51it/s]\n",
      "propagate in video: 100%|████████████████████████████████████████████████████████████████| 4/4 [00:00<00:00, 35.46it/s]\n",
      "propagate in video: 100%|████████████████████████████████████████████████████████████████| 4/4 [00:00<00:00, 22.70it/s]\n",
      "propagate in video: 100%|████████████████████████████████████████████████████████████████| 4/4 [00:00<00:00, 34.98it/s]\n",
      "propagate in video: 100%|████████████████████████████████████████████████████████████████| 4/4 [00:00<00:00, 22.21it/s]\n",
      "propagate in video: 100%|████████████████████████████████████████████████████████████████| 4/4 [00:00<00:00, 33.51it/s]\n",
      "propagate in video: 100%|████████████████████████████████████████████████████████████████| 4/4 [00:00<00:00, 22.44it/s]\n"
     ]
    },
    {
     "name": "stdout",
     "output_type": "stream",
     "text": [
      "./MnM_output_middle/L8N7P0_ES\n"
     ]
    },
    {
     "name": "stderr",
     "output_type": "stream",
     "text": [
      "frame loading (JPEG): 100%|██████████████████████████████████████████████████████████████| 6/6 [00:00<00:00, 45.78it/s]\n",
      "propagate in video: 100%|████████████████████████████████████████████████████████████████| 3/3 [00:00<00:00, 40.20it/s]\n",
      "propagate in video: 100%|████████████████████████████████████████████████████████████████| 3/3 [00:00<00:00, 23.71it/s]\n",
      "propagate in video: 100%|████████████████████████████████████████████████████████████████| 3/3 [00:00<00:00, 41.49it/s]\n",
      "propagate in video: 100%|████████████████████████████████████████████████████████████████| 3/3 [00:00<00:00, 24.79it/s]\n",
      "propagate in video: 100%|████████████████████████████████████████████████████████████████| 3/3 [00:00<00:00, 45.38it/s]\n",
      "propagate in video: 100%|████████████████████████████████████████████████████████████████| 3/3 [00:00<00:00, 24.88it/s]\n"
     ]
    },
    {
     "name": "stdout",
     "output_type": "stream",
     "text": [
      "./MnM_output_middle/L8N7Z0_ED\n"
     ]
    },
    {
     "name": "stderr",
     "output_type": "stream",
     "text": [
      "frame loading (JPEG): 100%|████████████████████████████████████████████████████████████| 20/20 [00:00<00:00, 44.15it/s]\n",
      "propagate in video: 100%|██████████████████████████████████████████████████████████████| 10/10 [00:00<00:00, 24.92it/s]\n",
      "propagate in video: 100%|██████████████████████████████████████████████████████████████| 10/10 [00:00<00:00, 21.25it/s]\n",
      "propagate in video: 100%|██████████████████████████████████████████████████████████████| 10/10 [00:00<00:00, 25.31it/s]\n",
      "propagate in video: 100%|██████████████████████████████████████████████████████████████| 10/10 [00:00<00:00, 21.45it/s]\n",
      "propagate in video: 100%|██████████████████████████████████████████████████████████████| 10/10 [00:00<00:00, 24.89it/s]\n",
      "propagate in video: 100%|██████████████████████████████████████████████████████████████| 10/10 [00:00<00:00, 21.15it/s]\n"
     ]
    },
    {
     "name": "stdout",
     "output_type": "stream",
     "text": [
      "./MnM_output_middle/L8N7Z0_ES\n"
     ]
    },
    {
     "name": "stderr",
     "output_type": "stream",
     "text": [
      "frame loading (JPEG): 100%|████████████████████████████████████████████████████████████| 18/18 [00:00<00:00, 42.46it/s]\n",
      "propagate in video: 100%|████████████████████████████████████████████████████████████████| 9/9 [00:00<00:00, 25.84it/s]\n",
      "propagate in video: 100%|████████████████████████████████████████████████████████████████| 9/9 [00:00<00:00, 21.36it/s]\n",
      "propagate in video: 100%|████████████████████████████████████████████████████████████████| 9/9 [00:00<00:00, 25.81it/s]\n",
      "propagate in video: 100%|████████████████████████████████████████████████████████████████| 9/9 [00:00<00:00, 21.43it/s]\n",
      "propagate in video: 100%|████████████████████████████████████████████████████████████████| 9/9 [00:00<00:00, 25.89it/s]\n",
      "propagate in video: 100%|████████████████████████████████████████████████████████████████| 9/9 [00:00<00:00, 21.55it/s]\n"
     ]
    },
    {
     "name": "stdout",
     "output_type": "stream",
     "text": [
      "./MnM_output_middle/M2P5T8_ED\n"
     ]
    },
    {
     "name": "stderr",
     "output_type": "stream",
     "text": [
      "frame loading (JPEG): 100%|██████████████████████████████████████████████████████████████| 8/8 [00:00<00:00, 40.63it/s]\n",
      "propagate in video: 100%|████████████████████████████████████████████████████████████████| 4/4 [00:00<00:00, 33.18it/s]\n",
      "propagate in video: 100%|████████████████████████████████████████████████████████████████| 4/4 [00:00<00:00, 22.96it/s]\n",
      "propagate in video: 100%|████████████████████████████████████████████████████████████████| 4/4 [00:00<00:00, 35.19it/s]\n",
      "propagate in video: 100%|████████████████████████████████████████████████████████████████| 4/4 [00:00<00:00, 22.18it/s]\n",
      "propagate in video: 100%|████████████████████████████████████████████████████████████████| 4/4 [00:00<00:00, 35.11it/s]\n",
      "propagate in video: 100%|████████████████████████████████████████████████████████████████| 4/4 [00:00<00:00, 23.05it/s]\n"
     ]
    },
    {
     "name": "stdout",
     "output_type": "stream",
     "text": [
      "./MnM_output_middle/M2P5T8_ES\n"
     ]
    },
    {
     "name": "stderr",
     "output_type": "stream",
     "text": [
      "frame loading (JPEG): 100%|██████████████████████████████████████████████████████████████| 7/7 [00:00<00:00, 41.75it/s]\n",
      "propagate in video: 100%|████████████████████████████████████████████████████████████████| 4/4 [00:00<00:00, 36.69it/s]\n",
      "propagate in video: 100%|████████████████████████████████████████████████████████████████| 3/3 [00:00<00:00, 22.23it/s]\n",
      "propagate in video: 100%|████████████████████████████████████████████████████████████████| 4/4 [00:00<00:00, 36.26it/s]\n",
      "propagate in video: 100%|████████████████████████████████████████████████████████████████| 3/3 [00:00<00:00, 22.38it/s]\n",
      "propagate in video: 100%|████████████████████████████████████████████████████████████████| 4/4 [00:00<00:00, 31.35it/s]\n",
      "propagate in video: 100%|████████████████████████████████████████████████████████████████| 3/3 [00:00<00:00, 23.79it/s]\n"
     ]
    },
    {
     "name": "stdout",
     "output_type": "stream",
     "text": [
      "./MnM_output_middle/M4T4V6_ED\n"
     ]
    },
    {
     "name": "stderr",
     "output_type": "stream",
     "text": [
      "frame loading (JPEG): 100%|██████████████████████████████████████████████████████████████| 8/8 [00:00<00:00, 43.91it/s]\n",
      "propagate in video: 100%|████████████████████████████████████████████████████████████████| 4/4 [00:00<00:00, 34.16it/s]\n",
      "propagate in video: 100%|████████████████████████████████████████████████████████████████| 4/4 [00:00<00:00, 21.83it/s]\n",
      "propagate in video: 100%|████████████████████████████████████████████████████████████████| 4/4 [00:00<00:00, 34.22it/s]\n",
      "propagate in video: 100%|████████████████████████████████████████████████████████████████| 4/4 [00:00<00:00, 22.25it/s]\n",
      "propagate in video: 100%|████████████████████████████████████████████████████████████████| 4/4 [00:00<00:00, 36.99it/s]\n",
      "propagate in video: 100%|████████████████████████████████████████████████████████████████| 4/4 [00:00<00:00, 22.10it/s]\n"
     ]
    },
    {
     "name": "stdout",
     "output_type": "stream",
     "text": [
      "./MnM_output_middle/M4T4V6_ES\n"
     ]
    },
    {
     "name": "stderr",
     "output_type": "stream",
     "text": [
      "frame loading (JPEG): 100%|██████████████████████████████████████████████████████████████| 6/6 [00:00<00:00, 47.01it/s]\n",
      "propagate in video: 100%|████████████████████████████████████████████████████████████████| 3/3 [00:00<00:00, 40.31it/s]\n",
      "propagate in video: 100%|████████████████████████████████████████████████████████████████| 3/3 [00:00<00:00, 22.95it/s]\n",
      "propagate in video: 100%|████████████████████████████████████████████████████████████████| 3/3 [00:00<00:00, 41.18it/s]\n",
      "propagate in video: 100%|████████████████████████████████████████████████████████████████| 3/3 [00:00<00:00, 23.93it/s]\n",
      "propagate in video: 100%|████████████████████████████████████████████████████████████████| 3/3 [00:00<00:00, 39.97it/s]\n",
      "propagate in video: 100%|████████████████████████████████████████████████████████████████| 3/3 [00:00<00:00, 23.74it/s]\n"
     ]
    },
    {
     "name": "stdout",
     "output_type": "stream",
     "text": [
      "./MnM_output_middle/M6M9N1_ED\n"
     ]
    },
    {
     "name": "stderr",
     "output_type": "stream",
     "text": [
      "frame loading (JPEG): 100%|██████████████████████████████████████████████████████████████| 7/7 [00:00<00:00, 51.87it/s]\n",
      "propagate in video: 100%|████████████████████████████████████████████████████████████████| 4/4 [00:00<00:00, 33.85it/s]\n",
      "propagate in video: 100%|████████████████████████████████████████████████████████████████| 3/3 [00:00<00:00, 22.47it/s]\n",
      "propagate in video: 100%|████████████████████████████████████████████████████████████████| 4/4 [00:00<00:00, 34.34it/s]\n",
      "propagate in video: 100%|████████████████████████████████████████████████████████████████| 3/3 [00:00<00:00, 23.47it/s]\n",
      "propagate in video: 100%|████████████████████████████████████████████████████████████████| 4/4 [00:00<00:00, 34.56it/s]\n",
      "propagate in video: 100%|████████████████████████████████████████████████████████████████| 3/3 [00:00<00:00, 22.48it/s]\n"
     ]
    },
    {
     "name": "stdout",
     "output_type": "stream",
     "text": [
      "./MnM_output_middle/M6M9N1_ES\n"
     ]
    },
    {
     "name": "stderr",
     "output_type": "stream",
     "text": [
      "frame loading (JPEG): 100%|██████████████████████████████████████████████████████████████| 6/6 [00:00<00:00, 44.12it/s]\n",
      "propagate in video: 100%|████████████████████████████████████████████████████████████████| 3/3 [00:00<00:00, 41.86it/s]\n",
      "propagate in video: 100%|████████████████████████████████████████████████████████████████| 3/3 [00:00<00:00, 23.99it/s]\n",
      "propagate in video: 100%|████████████████████████████████████████████████████████████████| 3/3 [00:00<00:00, 40.94it/s]\n",
      "propagate in video: 100%|████████████████████████████████████████████████████████████████| 3/3 [00:00<00:00, 24.01it/s]\n",
      "propagate in video: 100%|████████████████████████████████████████████████████████████████| 3/3 [00:00<00:00, 40.03it/s]\n",
      "propagate in video: 100%|████████████████████████████████████████████████████████████████| 3/3 [00:00<00:00, 24.50it/s]\n"
     ]
    },
    {
     "name": "stdout",
     "output_type": "stream",
     "text": [
      "./MnM_output_middle/M6V2Y0_ED\n"
     ]
    },
    {
     "name": "stderr",
     "output_type": "stream",
     "text": [
      "frame loading (JPEG): 100%|████████████████████████████████████████████████████████████| 10/10 [00:00<00:00, 44.76it/s]\n",
      "propagate in video: 100%|████████████████████████████████████████████████████████████████| 5/5 [00:00<00:00, 29.98it/s]\n",
      "propagate in video: 100%|████████████████████████████████████████████████████████████████| 5/5 [00:00<00:00, 21.88it/s]\n",
      "propagate in video: 100%|████████████████████████████████████████████████████████████████| 5/5 [00:00<00:00, 31.53it/s]\n",
      "propagate in video: 100%|████████████████████████████████████████████████████████████████| 5/5 [00:00<00:00, 21.81it/s]\n",
      "propagate in video: 100%|████████████████████████████████████████████████████████████████| 5/5 [00:00<00:00, 30.29it/s]\n",
      "propagate in video: 100%|████████████████████████████████████████████████████████████████| 5/5 [00:00<00:00, 21.98it/s]\n"
     ]
    },
    {
     "name": "stdout",
     "output_type": "stream",
     "text": [
      "./MnM_output_middle/M6V2Y0_ES\n"
     ]
    },
    {
     "name": "stderr",
     "output_type": "stream",
     "text": [
      "frame loading (JPEG): 100%|██████████████████████████████████████████████████████████████| 8/8 [00:00<00:00, 45.90it/s]\n",
      "propagate in video: 100%|████████████████████████████████████████████████████████████████| 4/4 [00:00<00:00, 39.49it/s]\n",
      "propagate in video: 100%|████████████████████████████████████████████████████████████████| 4/4 [00:00<00:00, 22.42it/s]\n",
      "propagate in video: 100%|████████████████████████████████████████████████████████████████| 4/4 [00:00<00:00, 36.11it/s]\n",
      "propagate in video: 100%|████████████████████████████████████████████████████████████████| 4/4 [00:00<00:00, 23.02it/s]\n",
      "propagate in video: 100%|████████████████████████████████████████████████████████████████| 4/4 [00:00<00:00, 33.12it/s]\n",
      "propagate in video: 100%|████████████████████████████████████████████████████████████████| 4/4 [00:00<00:00, 21.62it/s]\n"
     ]
    },
    {
     "name": "stdout",
     "output_type": "stream",
     "text": [
      "./MnM_output_middle/N7P3T8_ED\n"
     ]
    },
    {
     "name": "stderr",
     "output_type": "stream",
     "text": [
      "frame loading (JPEG): 100%|████████████████████████████████████████████████████████████| 10/10 [00:00<00:00, 39.94it/s]\n",
      "propagate in video: 100%|████████████████████████████████████████████████████████████████| 5/5 [00:00<00:00, 31.64it/s]\n",
      "propagate in video: 100%|████████████████████████████████████████████████████████████████| 5/5 [00:00<00:00, 21.83it/s]\n",
      "propagate in video: 100%|████████████████████████████████████████████████████████████████| 5/5 [00:00<00:00, 30.56it/s]\n",
      "propagate in video: 100%|████████████████████████████████████████████████████████████████| 5/5 [00:00<00:00, 22.03it/s]\n",
      "propagate in video: 100%|████████████████████████████████████████████████████████████████| 5/5 [00:00<00:00, 33.22it/s]\n",
      "propagate in video: 100%|████████████████████████████████████████████████████████████████| 5/5 [00:00<00:00, 22.17it/s]\n"
     ]
    },
    {
     "name": "stdout",
     "output_type": "stream",
     "text": [
      "./MnM_output_middle/N7P3T8_ES\n"
     ]
    },
    {
     "name": "stderr",
     "output_type": "stream",
     "text": [
      "frame loading (JPEG): 100%|██████████████████████████████████████████████████████████████| 8/8 [00:00<00:00, 39.95it/s]\n",
      "propagate in video: 100%|████████████████████████████████████████████████████████████████| 4/4 [00:00<00:00, 33.40it/s]\n",
      "propagate in video: 100%|████████████████████████████████████████████████████████████████| 4/4 [00:00<00:00, 22.01it/s]\n",
      "propagate in video: 100%|████████████████████████████████████████████████████████████████| 4/4 [00:00<00:00, 35.52it/s]\n",
      "propagate in video: 100%|████████████████████████████████████████████████████████████████| 4/4 [00:00<00:00, 22.39it/s]\n",
      "propagate in video: 100%|████████████████████████████████████████████████████████████████| 4/4 [00:00<00:00, 34.80it/s]\n",
      "propagate in video: 100%|████████████████████████████████████████████████████████████████| 4/4 [00:00<00:00, 22.77it/s]\n"
     ]
    },
    {
     "name": "stdout",
     "output_type": "stream",
     "text": [
      "./MnM_output_middle/N7W6Z8_ED\n"
     ]
    },
    {
     "name": "stderr",
     "output_type": "stream",
     "text": [
      "frame loading (JPEG): 100%|██████████████████████████████████████████████████████████████| 7/7 [00:00<00:00, 41.75it/s]\n",
      "propagate in video: 100%|████████████████████████████████████████████████████████████████| 4/4 [00:00<00:00, 35.21it/s]\n",
      "propagate in video: 100%|████████████████████████████████████████████████████████████████| 3/3 [00:00<00:00, 23.30it/s]\n",
      "propagate in video: 100%|████████████████████████████████████████████████████████████████| 4/4 [00:00<00:00, 36.26it/s]\n",
      "propagate in video: 100%|████████████████████████████████████████████████████████████████| 3/3 [00:00<00:00, 22.38it/s]\n",
      "propagate in video: 100%|████████████████████████████████████████████████████████████████| 4/4 [00:00<00:00, 35.10it/s]\n",
      "propagate in video: 100%|████████████████████████████████████████████████████████████████| 3/3 [00:00<00:00, 22.59it/s]\n"
     ]
    },
    {
     "name": "stdout",
     "output_type": "stream",
     "text": [
      "./MnM_output_middle/N7W6Z8_ES\n"
     ]
    },
    {
     "name": "stderr",
     "output_type": "stream",
     "text": [
      "frame loading (JPEG): 100%|██████████████████████████████████████████████████████████████| 6/6 [00:00<00:00, 44.04it/s]\n",
      "propagate in video: 100%|████████████████████████████████████████████████████████████████| 3/3 [00:00<00:00, 38.96it/s]\n",
      "propagate in video: 100%|████████████████████████████████████████████████████████████████| 3/3 [00:00<00:00, 22.68it/s]\n",
      "propagate in video: 100%|████████████████████████████████████████████████████████████████| 3/3 [00:00<00:00, 43.29it/s]\n",
      "propagate in video: 100%|████████████████████████████████████████████████████████████████| 3/3 [00:00<00:00, 23.87it/s]\n",
      "propagate in video: 100%|████████████████████████████████████████████████████████████████| 3/3 [00:00<00:00, 43.42it/s]\n",
      "propagate in video: 100%|████████████████████████████████████████████████████████████████| 3/3 [00:00<00:00, 24.87it/s]\n"
     ]
    },
    {
     "name": "stdout",
     "output_type": "stream",
     "text": [
      "./MnM_output_middle/N9P5Z0_ED\n"
     ]
    },
    {
     "name": "stderr",
     "output_type": "stream",
     "text": [
      "frame loading (JPEG): 100%|████████████████████████████████████████████████████████████| 10/10 [00:00<00:00, 48.14it/s]\n",
      "propagate in video: 100%|████████████████████████████████████████████████████████████████| 5/5 [00:00<00:00, 31.50it/s]\n",
      "propagate in video: 100%|████████████████████████████████████████████████████████████████| 5/5 [00:00<00:00, 20.81it/s]\n",
      "propagate in video: 100%|████████████████████████████████████████████████████████████████| 5/5 [00:00<00:00, 31.54it/s]\n",
      "propagate in video: 100%|████████████████████████████████████████████████████████████████| 5/5 [00:00<00:00, 22.20it/s]\n",
      "propagate in video: 100%|████████████████████████████████████████████████████████████████| 5/5 [00:00<00:00, 33.47it/s]\n",
      "propagate in video: 100%|████████████████████████████████████████████████████████████████| 5/5 [00:00<00:00, 21.98it/s]\n"
     ]
    },
    {
     "name": "stdout",
     "output_type": "stream",
     "text": [
      "./MnM_output_middle/N9P5Z0_ES\n"
     ]
    },
    {
     "name": "stderr",
     "output_type": "stream",
     "text": [
      "frame loading (JPEG): 100%|██████████████████████████████████████████████████████████████| 9/9 [00:00<00:00, 45.97it/s]\n",
      "propagate in video: 100%|████████████████████████████████████████████████████████████████| 5/5 [00:00<00:00, 32.15it/s]\n",
      "propagate in video: 100%|████████████████████████████████████████████████████████████████| 4/4 [00:00<00:00, 21.96it/s]\n",
      "propagate in video: 100%|████████████████████████████████████████████████████████████████| 5/5 [00:00<00:00, 32.38it/s]\n",
      "propagate in video: 100%|████████████████████████████████████████████████████████████████| 4/4 [00:00<00:00, 21.00it/s]\n",
      "propagate in video: 100%|████████████████████████████████████████████████████████████████| 5/5 [00:00<00:00, 31.09it/s]\n",
      "propagate in video: 100%|████████████████████████████████████████████████████████████████| 4/4 [00:00<00:00, 21.11it/s]\n"
     ]
    },
    {
     "name": "stdout",
     "output_type": "stream",
     "text": [
      "./MnM_output_middle/N9Q4T8_ED\n"
     ]
    },
    {
     "name": "stderr",
     "output_type": "stream",
     "text": [
      "frame loading (JPEG): 100%|████████████████████████████████████████████████████████████| 10/10 [00:00<00:00, 38.74it/s]\n",
      "propagate in video: 100%|████████████████████████████████████████████████████████████████| 5/5 [00:00<00:00, 31.86it/s]\n",
      "propagate in video: 100%|████████████████████████████████████████████████████████████████| 5/5 [00:00<00:00, 21.64it/s]\n",
      "propagate in video: 100%|████████████████████████████████████████████████████████████████| 5/5 [00:00<00:00, 31.55it/s]\n",
      "propagate in video: 100%|████████████████████████████████████████████████████████████████| 5/5 [00:00<00:00, 21.77it/s]\n",
      "propagate in video: 100%|████████████████████████████████████████████████████████████████| 5/5 [00:00<00:00, 32.83it/s]\n",
      "propagate in video: 100%|████████████████████████████████████████████████████████████████| 5/5 [00:00<00:00, 21.21it/s]\n"
     ]
    },
    {
     "name": "stdout",
     "output_type": "stream",
     "text": [
      "./MnM_output_middle/N9Q4T8_ES\n"
     ]
    },
    {
     "name": "stderr",
     "output_type": "stream",
     "text": [
      "frame loading (JPEG): 100%|██████████████████████████████████████████████████████████████| 8/8 [00:00<00:00, 39.61it/s]\n",
      "propagate in video: 100%|████████████████████████████████████████████████████████████████| 4/4 [00:00<00:00, 36.10it/s]\n",
      "propagate in video: 100%|████████████████████████████████████████████████████████████████| 4/4 [00:00<00:00, 22.80it/s]\n",
      "propagate in video: 100%|████████████████████████████████████████████████████████████████| 4/4 [00:00<00:00, 34.66it/s]\n",
      "propagate in video: 100%|████████████████████████████████████████████████████████████████| 4/4 [00:00<00:00, 23.00it/s]\n",
      "propagate in video: 100%|████████████████████████████████████████████████████████████████| 4/4 [00:00<00:00, 37.61it/s]\n",
      "propagate in video: 100%|████████████████████████████████████████████████████████████████| 4/4 [00:00<00:00, 22.39it/s]\n"
     ]
    },
    {
     "name": "stdout",
     "output_type": "stream",
     "text": [
      "./MnM_output_middle/O4O6U5_ED\n"
     ]
    },
    {
     "name": "stderr",
     "output_type": "stream",
     "text": [
      "frame loading (JPEG): 100%|████████████████████████████████████████████████████████████| 10/10 [00:00<00:00, 45.49it/s]\n",
      "propagate in video: 100%|████████████████████████████████████████████████████████████████| 5/5 [00:00<00:00, 31.63it/s]\n",
      "propagate in video: 100%|████████████████████████████████████████████████████████████████| 5/5 [00:00<00:00, 22.03it/s]\n",
      "propagate in video: 100%|████████████████████████████████████████████████████████████████| 5/5 [00:00<00:00, 30.51it/s]\n",
      "propagate in video: 100%|████████████████████████████████████████████████████████████████| 5/5 [00:00<00:00, 21.00it/s]\n",
      "propagate in video: 100%|████████████████████████████████████████████████████████████████| 5/5 [00:00<00:00, 31.77it/s]\n",
      "propagate in video: 100%|████████████████████████████████████████████████████████████████| 5/5 [00:00<00:00, 21.87it/s]\n"
     ]
    },
    {
     "name": "stdout",
     "output_type": "stream",
     "text": [
      "./MnM_output_middle/O4O6U5_ES\n"
     ]
    },
    {
     "name": "stderr",
     "output_type": "stream",
     "text": [
      "frame loading (JPEG): 100%|██████████████████████████████████████████████████████████████| 7/7 [00:00<00:00, 45.87it/s]\n",
      "propagate in video: 100%|████████████████████████████████████████████████████████████████| 4/4 [00:00<00:00, 35.11it/s]\n",
      "propagate in video: 100%|████████████████████████████████████████████████████████████████| 3/3 [00:00<00:00, 22.89it/s]\n",
      "propagate in video: 100%|████████████████████████████████████████████████████████████████| 4/4 [00:00<00:00, 35.64it/s]\n",
      "propagate in video: 100%|████████████████████████████████████████████████████████████████| 3/3 [00:00<00:00, 23.34it/s]\n",
      "propagate in video: 100%|████████████████████████████████████████████████████████████████| 4/4 [00:00<00:00, 35.83it/s]\n",
      "propagate in video: 100%|████████████████████████████████████████████████████████████████| 3/3 [00:00<00:00, 22.11it/s]\n"
     ]
    },
    {
     "name": "stdout",
     "output_type": "stream",
     "text": [
      "./MnM_output_middle/O4T6Y7_ED\n"
     ]
    },
    {
     "name": "stderr",
     "output_type": "stream",
     "text": [
      "frame loading (JPEG): 100%|██████████████████████████████████████████████████████████████| 9/9 [00:00<00:00, 41.73it/s]\n",
      "propagate in video: 100%|████████████████████████████████████████████████████████████████| 5/5 [00:00<00:00, 31.69it/s]\n",
      "propagate in video: 100%|████████████████████████████████████████████████████████████████| 4/4 [00:00<00:00, 21.84it/s]\n",
      "propagate in video: 100%|████████████████████████████████████████████████████████████████| 5/5 [00:00<00:00, 31.62it/s]\n",
      "propagate in video: 100%|████████████████████████████████████████████████████████████████| 4/4 [00:00<00:00, 21.83it/s]\n",
      "propagate in video: 100%|████████████████████████████████████████████████████████████████| 5/5 [00:00<00:00, 30.05it/s]\n",
      "propagate in video: 100%|████████████████████████████████████████████████████████████████| 4/4 [00:00<00:00, 22.14it/s]\n"
     ]
    },
    {
     "name": "stdout",
     "output_type": "stream",
     "text": [
      "./MnM_output_middle/O4T6Y7_ES\n"
     ]
    },
    {
     "name": "stderr",
     "output_type": "stream",
     "text": [
      "frame loading (JPEG): 100%|██████████████████████████████████████████████████████████████| 8/8 [00:00<00:00, 42.45it/s]\n",
      "propagate in video: 100%|████████████████████████████████████████████████████████████████| 4/4 [00:00<00:00, 35.45it/s]\n",
      "propagate in video: 100%|████████████████████████████████████████████████████████████████| 4/4 [00:00<00:00, 22.06it/s]\n",
      "propagate in video: 100%|████████████████████████████████████████████████████████████████| 4/4 [00:00<00:00, 37.09it/s]\n",
      "propagate in video: 100%|████████████████████████████████████████████████████████████████| 4/4 [00:00<00:00, 21.57it/s]\n",
      "propagate in video: 100%|████████████████████████████████████████████████████████████████| 4/4 [00:00<00:00, 35.48it/s]\n",
      "propagate in video: 100%|████████████████████████████████████████████████████████████████| 4/4 [00:00<00:00, 22.80it/s]\n"
     ]
    },
    {
     "name": "stdout",
     "output_type": "stream",
     "text": [
      "./MnM_output_middle/O5U2U7_ED\n"
     ]
    },
    {
     "name": "stderr",
     "output_type": "stream",
     "text": [
      "frame loading (JPEG): 100%|██████████████████████████████████████████████████████████████| 8/8 [00:00<00:00, 40.80it/s]\n",
      "propagate in video: 100%|████████████████████████████████████████████████████████████████| 4/4 [00:00<00:00, 31.56it/s]\n",
      "propagate in video: 100%|████████████████████████████████████████████████████████████████| 4/4 [00:00<00:00, 22.59it/s]\n",
      "propagate in video: 100%|████████████████████████████████████████████████████████████████| 4/4 [00:00<00:00, 38.02it/s]\n",
      "propagate in video: 100%|████████████████████████████████████████████████████████████████| 4/4 [00:00<00:00, 22.25it/s]\n",
      "propagate in video: 100%|████████████████████████████████████████████████████████████████| 4/4 [00:00<00:00, 32.07it/s]\n",
      "propagate in video: 100%|████████████████████████████████████████████████████████████████| 4/4 [00:00<00:00, 22.35it/s]\n"
     ]
    },
    {
     "name": "stdout",
     "output_type": "stream",
     "text": [
      "./MnM_output_middle/O5U2U7_ES\n"
     ]
    },
    {
     "name": "stderr",
     "output_type": "stream",
     "text": [
      "frame loading (JPEG): 100%|██████████████████████████████████████████████████████████████| 7/7 [00:00<00:00, 39.86it/s]\n",
      "propagate in video: 100%|████████████████████████████████████████████████████████████████| 4/4 [00:00<00:00, 33.32it/s]\n",
      "propagate in video: 100%|████████████████████████████████████████████████████████████████| 3/3 [00:00<00:00, 22.83it/s]\n",
      "propagate in video: 100%|████████████████████████████████████████████████████████████████| 4/4 [00:00<00:00, 37.45it/s]\n",
      "propagate in video: 100%|████████████████████████████████████████████████████████████████| 3/3 [00:00<00:00, 22.75it/s]\n",
      "propagate in video: 100%|████████████████████████████████████████████████████████████████| 4/4 [00:00<00:00, 34.90it/s]\n",
      "propagate in video: 100%|████████████████████████████████████████████████████████████████| 3/3 [00:00<00:00, 22.89it/s]\n"
     ]
    },
    {
     "name": "stdout",
     "output_type": "stream",
     "text": [
      "./MnM_output_middle/O9V8W5_ED\n"
     ]
    },
    {
     "name": "stderr",
     "output_type": "stream",
     "text": [
      "frame loading (JPEG): 100%|██████████████████████████████████████████████████████████████| 8/8 [00:00<00:00, 41.42it/s]\n",
      "propagate in video: 100%|████████████████████████████████████████████████████████████████| 4/4 [00:00<00:00, 35.41it/s]\n",
      "propagate in video: 100%|████████████████████████████████████████████████████████████████| 4/4 [00:00<00:00, 21.94it/s]\n",
      "propagate in video: 100%|████████████████████████████████████████████████████████████████| 4/4 [00:00<00:00, 33.80it/s]\n",
      "propagate in video: 100%|████████████████████████████████████████████████████████████████| 4/4 [00:00<00:00, 21.46it/s]\n",
      "propagate in video: 100%|████████████████████████████████████████████████████████████████| 4/4 [00:00<00:00, 35.92it/s]\n",
      "propagate in video: 100%|████████████████████████████████████████████████████████████████| 4/4 [00:00<00:00, 22.01it/s]\n"
     ]
    },
    {
     "name": "stdout",
     "output_type": "stream",
     "text": [
      "./MnM_output_middle/O9V8W5_ES\n"
     ]
    },
    {
     "name": "stderr",
     "output_type": "stream",
     "text": [
      "frame loading (JPEG): 100%|██████████████████████████████████████████████████████████████| 6/6 [00:00<00:00, 46.69it/s]\n",
      "propagate in video: 100%|████████████████████████████████████████████████████████████████| 3/3 [00:00<00:00, 41.77it/s]\n",
      "propagate in video: 100%|████████████████████████████████████████████████████████████████| 3/3 [00:00<00:00, 23.87it/s]\n",
      "propagate in video: 100%|████████████████████████████████████████████████████████████████| 3/3 [00:00<00:00, 40.28it/s]\n",
      "propagate in video: 100%|████████████████████████████████████████████████████████████████| 3/3 [00:00<00:00, 19.54it/s]\n",
      "propagate in video: 100%|████████████████████████████████████████████████████████████████| 3/3 [00:00<00:00, 40.07it/s]\n",
      "propagate in video: 100%|████████████████████████████████████████████████████████████████| 3/3 [00:00<00:00, 24.63it/s]\n"
     ]
    },
    {
     "name": "stdout",
     "output_type": "stream",
     "text": [
      "./MnM_output_middle/P3P9S5_ED\n"
     ]
    },
    {
     "name": "stderr",
     "output_type": "stream",
     "text": [
      "frame loading (JPEG): 100%|██████████████████████████████████████████████████████████████| 8/8 [00:00<00:00, 49.15it/s]\n",
      "propagate in video: 100%|████████████████████████████████████████████████████████████████| 4/4 [00:00<00:00, 37.38it/s]\n",
      "propagate in video: 100%|████████████████████████████████████████████████████████████████| 4/4 [00:00<00:00, 22.12it/s]\n",
      "propagate in video: 100%|████████████████████████████████████████████████████████████████| 4/4 [00:00<00:00, 29.75it/s]\n",
      "propagate in video: 100%|████████████████████████████████████████████████████████████████| 4/4 [00:00<00:00, 21.49it/s]\n",
      "propagate in video: 100%|████████████████████████████████████████████████████████████████| 4/4 [00:00<00:00, 34.00it/s]\n",
      "propagate in video: 100%|████████████████████████████████████████████████████████████████| 4/4 [00:00<00:00, 23.05it/s]\n"
     ]
    },
    {
     "name": "stdout",
     "output_type": "stream",
     "text": [
      "./MnM_output_middle/P3P9S5_ES\n"
     ]
    },
    {
     "name": "stderr",
     "output_type": "stream",
     "text": [
      "frame loading (JPEG): 100%|██████████████████████████████████████████████████████████████| 7/7 [00:00<00:00, 45.94it/s]\n",
      "propagate in video: 100%|████████████████████████████████████████████████████████████████| 4/4 [00:00<00:00, 36.33it/s]\n",
      "propagate in video: 100%|████████████████████████████████████████████████████████████████| 3/3 [00:00<00:00, 23.72it/s]\n",
      "propagate in video: 100%|████████████████████████████████████████████████████████████████| 4/4 [00:00<00:00, 34.00it/s]\n",
      "propagate in video: 100%|████████████████████████████████████████████████████████████████| 3/3 [00:00<00:00, 22.68it/s]\n",
      "propagate in video: 100%|████████████████████████████████████████████████████████████████| 4/4 [00:00<00:00, 36.12it/s]\n",
      "propagate in video: 100%|████████████████████████████████████████████████████████████████| 3/3 [00:00<00:00, 22.07it/s]\n"
     ]
    },
    {
     "name": "stdout",
     "output_type": "stream",
     "text": [
      "./MnM_output_middle/P3R6Y5_ED\n"
     ]
    },
    {
     "name": "stderr",
     "output_type": "stream",
     "text": [
      "frame loading (JPEG): 100%|██████████████████████████████████████████████████████████████| 7/7 [00:00<00:00, 46.30it/s]\n",
      "propagate in video: 100%|████████████████████████████████████████████████████████████████| 4/4 [00:00<00:00, 37.43it/s]\n",
      "propagate in video: 100%|████████████████████████████████████████████████████████████████| 3/3 [00:00<00:00, 22.26it/s]\n",
      "propagate in video: 100%|████████████████████████████████████████████████████████████████| 4/4 [00:00<00:00, 36.78it/s]\n",
      "propagate in video: 100%|████████████████████████████████████████████████████████████████| 3/3 [00:00<00:00, 23.88it/s]\n",
      "propagate in video: 100%|████████████████████████████████████████████████████████████████| 4/4 [00:00<00:00, 34.95it/s]\n",
      "propagate in video: 100%|████████████████████████████████████████████████████████████████| 3/3 [00:00<00:00, 22.49it/s]\n"
     ]
    },
    {
     "name": "stdout",
     "output_type": "stream",
     "text": [
      "./MnM_output_middle/P3R6Y5_ES\n"
     ]
    },
    {
     "name": "stderr",
     "output_type": "stream",
     "text": [
      "frame loading (JPEG): 100%|██████████████████████████████████████████████████████████████| 6/6 [00:00<00:00, 46.07it/s]\n",
      "propagate in video: 100%|████████████████████████████████████████████████████████████████| 3/3 [00:00<00:00, 40.96it/s]\n",
      "propagate in video: 100%|████████████████████████████████████████████████████████████████| 3/3 [00:00<00:00, 23.62it/s]\n",
      "propagate in video: 100%|████████████████████████████████████████████████████████████████| 3/3 [00:00<00:00, 37.40it/s]\n",
      "propagate in video: 100%|████████████████████████████████████████████████████████████████| 3/3 [00:00<00:00, 23.34it/s]\n",
      "propagate in video: 100%|████████████████████████████████████████████████████████████████| 3/3 [00:00<00:00, 39.18it/s]\n",
      "propagate in video: 100%|████████████████████████████████████████████████████████████████| 3/3 [00:00<00:00, 24.68it/s]\n"
     ]
    },
    {
     "name": "stdout",
     "output_type": "stream",
     "text": [
      "./MnM_output_middle/P3T5U1_ED\n"
     ]
    },
    {
     "name": "stderr",
     "output_type": "stream",
     "text": [
      "frame loading (JPEG): 100%|████████████████████████████████████████████████████████████| 13/13 [00:00<00:00, 46.82it/s]\n",
      "propagate in video: 100%|████████████████████████████████████████████████████████████████| 7/7 [00:00<00:00, 28.90it/s]\n",
      "propagate in video: 100%|████████████████████████████████████████████████████████████████| 6/6 [00:00<00:00, 22.08it/s]\n",
      "propagate in video: 100%|████████████████████████████████████████████████████████████████| 7/7 [00:00<00:00, 28.92it/s]\n",
      "propagate in video: 100%|████████████████████████████████████████████████████████████████| 6/6 [00:00<00:00, 22.06it/s]\n",
      "propagate in video: 100%|████████████████████████████████████████████████████████████████| 7/7 [00:00<00:00, 28.15it/s]\n",
      "propagate in video: 100%|████████████████████████████████████████████████████████████████| 6/6 [00:00<00:00, 21.66it/s]\n"
     ]
    },
    {
     "name": "stdout",
     "output_type": "stream",
     "text": [
      "./MnM_output_middle/P3T5U1_ES\n"
     ]
    },
    {
     "name": "stderr",
     "output_type": "stream",
     "text": [
      "frame loading (JPEG): 100%|████████████████████████████████████████████████████████████| 11/11 [00:00<00:00, 48.34it/s]\n",
      "propagate in video: 100%|████████████████████████████████████████████████████████████████| 6/6 [00:00<00:00, 30.42it/s]\n",
      "propagate in video: 100%|████████████████████████████████████████████████████████████████| 5/5 [00:00<00:00, 21.73it/s]\n",
      "propagate in video: 100%|████████████████████████████████████████████████████████████████| 6/6 [00:00<00:00, 29.42it/s]\n",
      "propagate in video: 100%|████████████████████████████████████████████████████████████████| 5/5 [00:00<00:00, 21.64it/s]\n",
      "propagate in video: 100%|████████████████████████████████████████████████████████████████| 6/6 [00:00<00:00, 28.35it/s]\n",
      "propagate in video: 100%|████████████████████████████████████████████████████████████████| 5/5 [00:00<00:00, 21.60it/s]\n"
     ]
    },
    {
     "name": "stdout",
     "output_type": "stream",
     "text": [
      "./MnM_output_middle/P8W4Z0_ED\n"
     ]
    },
    {
     "name": "stderr",
     "output_type": "stream",
     "text": [
      "frame loading (JPEG): 100%|██████████████████████████████████████████████████████████████| 7/7 [00:00<00:00, 47.32it/s]\n",
      "propagate in video: 100%|████████████████████████████████████████████████████████████████| 4/4 [00:00<00:00, 34.24it/s]\n",
      "propagate in video: 100%|████████████████████████████████████████████████████████████████| 3/3 [00:00<00:00, 22.03it/s]\n",
      "propagate in video: 100%|████████████████████████████████████████████████████████████████| 4/4 [00:00<00:00, 34.79it/s]\n",
      "propagate in video: 100%|████████████████████████████████████████████████████████████████| 3/3 [00:00<00:00, 22.74it/s]\n",
      "propagate in video: 100%|████████████████████████████████████████████████████████████████| 4/4 [00:00<00:00, 34.17it/s]\n",
      "propagate in video: 100%|████████████████████████████████████████████████████████████████| 3/3 [00:00<00:00, 23.55it/s]\n"
     ]
    },
    {
     "name": "stdout",
     "output_type": "stream",
     "text": [
      "./MnM_output_middle/P8W4Z0_ES\n"
     ]
    },
    {
     "name": "stderr",
     "output_type": "stream",
     "text": [
      "frame loading (JPEG): 100%|██████████████████████████████████████████████████████████████| 6/6 [00:00<00:00, 48.07it/s]\n",
      "propagate in video: 100%|████████████████████████████████████████████████████████████████| 3/3 [00:00<00:00, 42.31it/s]\n",
      "propagate in video: 100%|████████████████████████████████████████████████████████████████| 3/3 [00:00<00:00, 23.78it/s]\n",
      "propagate in video: 100%|████████████████████████████████████████████████████████████████| 3/3 [00:00<00:00, 41.29it/s]\n",
      "propagate in video: 100%|████████████████████████████████████████████████████████████████| 3/3 [00:00<00:00, 24.43it/s]\n",
      "propagate in video: 100%|████████████████████████████████████████████████████████████████| 3/3 [00:00<00:00, 41.57it/s]\n",
      "propagate in video: 100%|████████████████████████████████████████████████████████████████| 3/3 [00:00<00:00, 21.98it/s]\n"
     ]
    },
    {
     "name": "stdout",
     "output_type": "stream",
     "text": [
      "./MnM_output_middle/Q1Q3T1_ED\n"
     ]
    },
    {
     "name": "stderr",
     "output_type": "stream",
     "text": [
      "frame loading (JPEG): 100%|██████████████████████████████████████████████████████████████| 8/8 [00:00<00:00, 42.99it/s]\n",
      "propagate in video: 100%|████████████████████████████████████████████████████████████████| 4/4 [00:00<00:00, 35.62it/s]\n",
      "propagate in video: 100%|████████████████████████████████████████████████████████████████| 4/4 [00:00<00:00, 23.09it/s]\n",
      "propagate in video: 100%|████████████████████████████████████████████████████████████████| 4/4 [00:00<00:00, 37.01it/s]\n",
      "propagate in video: 100%|████████████████████████████████████████████████████████████████| 4/4 [00:00<00:00, 22.81it/s]\n",
      "propagate in video: 100%|████████████████████████████████████████████████████████████████| 4/4 [00:00<00:00, 37.07it/s]\n",
      "propagate in video: 100%|████████████████████████████████████████████████████████████████| 4/4 [00:00<00:00, 22.08it/s]\n"
     ]
    },
    {
     "name": "stdout",
     "output_type": "stream",
     "text": [
      "./MnM_output_middle/Q1Q3T1_ES\n"
     ]
    },
    {
     "name": "stderr",
     "output_type": "stream",
     "text": [
      "frame loading (JPEG): 100%|██████████████████████████████████████████████████████████████| 7/7 [00:00<00:00, 42.26it/s]\n",
      "propagate in video: 100%|████████████████████████████████████████████████████████████████| 4/4 [00:00<00:00, 36.62it/s]\n",
      "propagate in video: 100%|████████████████████████████████████████████████████████████████| 3/3 [00:00<00:00, 22.57it/s]\n",
      "propagate in video: 100%|████████████████████████████████████████████████████████████████| 4/4 [00:00<00:00, 37.10it/s]\n",
      "propagate in video: 100%|████████████████████████████████████████████████████████████████| 3/3 [00:00<00:00, 21.33it/s]\n",
      "propagate in video: 100%|████████████████████████████████████████████████████████████████| 4/4 [00:00<00:00, 35.86it/s]\n",
      "propagate in video: 100%|████████████████████████████████████████████████████████████████| 3/3 [00:00<00:00, 22.23it/s]\n"
     ]
    },
    {
     "name": "stdout",
     "output_type": "stream",
     "text": [
      "./MnM_output_middle/Q3Q6R8_ED\n"
     ]
    },
    {
     "name": "stderr",
     "output_type": "stream",
     "text": [
      "frame loading (JPEG): 100%|██████████████████████████████████████████████████████████████| 9/9 [00:00<00:00, 42.10it/s]\n",
      "propagate in video: 100%|████████████████████████████████████████████████████████████████| 5/5 [00:00<00:00, 32.41it/s]\n",
      "propagate in video: 100%|████████████████████████████████████████████████████████████████| 4/4 [00:00<00:00, 20.84it/s]\n",
      "propagate in video: 100%|████████████████████████████████████████████████████████████████| 5/5 [00:00<00:00, 28.74it/s]\n",
      "propagate in video: 100%|████████████████████████████████████████████████████████████████| 4/4 [00:00<00:00, 22.06it/s]\n",
      "propagate in video: 100%|████████████████████████████████████████████████████████████████| 5/5 [00:00<00:00, 32.62it/s]\n",
      "propagate in video: 100%|████████████████████████████████████████████████████████████████| 4/4 [00:00<00:00, 21.88it/s]\n"
     ]
    },
    {
     "name": "stdout",
     "output_type": "stream",
     "text": [
      "./MnM_output_middle/Q3Q6R8_ES\n"
     ]
    },
    {
     "name": "stderr",
     "output_type": "stream",
     "text": [
      "frame loading (JPEG): 100%|██████████████████████████████████████████████████████████████| 8/8 [00:00<00:00, 45.26it/s]\n",
      "propagate in video: 100%|████████████████████████████████████████████████████████████████| 4/4 [00:00<00:00, 34.91it/s]\n",
      "propagate in video: 100%|████████████████████████████████████████████████████████████████| 4/4 [00:00<00:00, 22.45it/s]\n",
      "propagate in video: 100%|████████████████████████████████████████████████████████████████| 4/4 [00:00<00:00, 33.34it/s]\n",
      "propagate in video: 100%|████████████████████████████████████████████████████████████████| 4/4 [00:00<00:00, 22.27it/s]\n",
      "propagate in video: 100%|████████████████████████████████████████████████████████████████| 4/4 [00:00<00:00, 34.66it/s]\n",
      "propagate in video: 100%|████████████████████████████████████████████████████████████████| 4/4 [00:00<00:00, 22.34it/s]\n"
     ]
    },
    {
     "name": "stdout",
     "output_type": "stream",
     "text": [
      "./MnM_output_middle/Q4W5Z8_ED\n"
     ]
    },
    {
     "name": "stderr",
     "output_type": "stream",
     "text": [
      "frame loading (JPEG): 100%|████████████████████████████████████████████████████████████| 11/11 [00:00<00:00, 41.05it/s]\n",
      "propagate in video: 100%|████████████████████████████████████████████████████████████████| 6/6 [00:00<00:00, 32.61it/s]\n",
      "propagate in video: 100%|████████████████████████████████████████████████████████████████| 5/5 [00:00<00:00, 21.34it/s]\n",
      "propagate in video: 100%|████████████████████████████████████████████████████████████████| 6/6 [00:00<00:00, 29.13it/s]\n",
      "propagate in video: 100%|████████████████████████████████████████████████████████████████| 5/5 [00:00<00:00, 22.04it/s]\n",
      "propagate in video: 100%|████████████████████████████████████████████████████████████████| 6/6 [00:00<00:00, 29.69it/s]\n",
      "propagate in video: 100%|████████████████████████████████████████████████████████████████| 5/5 [00:00<00:00, 21.79it/s]\n"
     ]
    },
    {
     "name": "stdout",
     "output_type": "stream",
     "text": [
      "./MnM_output_middle/Q4W5Z8_ES\n"
     ]
    },
    {
     "name": "stderr",
     "output_type": "stream",
     "text": [
      "frame loading (JPEG): 100%|██████████████████████████████████████████████████████████████| 8/8 [00:00<00:00, 41.99it/s]\n",
      "propagate in video: 100%|████████████████████████████████████████████████████████████████| 4/4 [00:00<00:00, 33.50it/s]\n",
      "propagate in video: 100%|████████████████████████████████████████████████████████████████| 4/4 [00:00<00:00, 22.48it/s]\n",
      "propagate in video: 100%|████████████████████████████████████████████████████████████████| 4/4 [00:00<00:00, 35.13it/s]\n",
      "propagate in video: 100%|████████████████████████████████████████████████████████████████| 4/4 [00:00<00:00, 22.23it/s]\n",
      "propagate in video: 100%|████████████████████████████████████████████████████████████████| 4/4 [00:00<00:00, 32.58it/s]\n",
      "propagate in video: 100%|████████████████████████████████████████████████████████████████| 4/4 [00:00<00:00, 22.02it/s]\n"
     ]
    },
    {
     "name": "stdout",
     "output_type": "stream",
     "text": [
      "./MnM_output_middle/Q5V8W3_ED\n"
     ]
    },
    {
     "name": "stderr",
     "output_type": "stream",
     "text": [
      "frame loading (JPEG): 100%|██████████████████████████████████████████████████████████████| 8/8 [00:00<00:00, 44.49it/s]\n",
      "propagate in video: 100%|████████████████████████████████████████████████████████████████| 4/4 [00:00<00:00, 37.18it/s]\n",
      "propagate in video: 100%|████████████████████████████████████████████████████████████████| 4/4 [00:00<00:00, 22.21it/s]\n",
      "propagate in video: 100%|████████████████████████████████████████████████████████████████| 4/4 [00:00<00:00, 33.19it/s]\n",
      "propagate in video: 100%|████████████████████████████████████████████████████████████████| 4/4 [00:00<00:00, 22.04it/s]\n",
      "propagate in video: 100%|████████████████████████████████████████████████████████████████| 4/4 [00:00<00:00, 33.72it/s]\n",
      "propagate in video: 100%|████████████████████████████████████████████████████████████████| 4/4 [00:00<00:00, 22.69it/s]\n"
     ]
    },
    {
     "name": "stdout",
     "output_type": "stream",
     "text": [
      "./MnM_output_middle/Q5V8W3_ES\n"
     ]
    },
    {
     "name": "stderr",
     "output_type": "stream",
     "text": [
      "frame loading (JPEG): 100%|██████████████████████████████████████████████████████████████| 8/8 [00:00<00:00, 47.19it/s]\n",
      "propagate in video: 100%|████████████████████████████████████████████████████████████████| 4/4 [00:00<00:00, 25.97it/s]\n",
      "propagate in video: 100%|████████████████████████████████████████████████████████████████| 4/4 [00:00<00:00, 21.94it/s]\n",
      "propagate in video: 100%|████████████████████████████████████████████████████████████████| 4/4 [00:00<00:00, 35.46it/s]\n",
      "propagate in video: 100%|████████████████████████████████████████████████████████████████| 4/4 [00:00<00:00, 22.45it/s]\n",
      "propagate in video: 100%|████████████████████████████████████████████████████████████████| 4/4 [00:00<00:00, 37.52it/s]\n",
      "propagate in video: 100%|████████████████████████████████████████████████████████████████| 4/4 [00:00<00:00, 22.18it/s]\n"
     ]
    },
    {
     "name": "stdout",
     "output_type": "stream",
     "text": [
      "./MnM_output_middle/R1R6Y8_ED\n"
     ]
    },
    {
     "name": "stderr",
     "output_type": "stream",
     "text": [
      "frame loading (JPEG): 100%|████████████████████████████████████████████████████████████| 10/10 [00:00<00:00, 47.43it/s]\n",
      "propagate in video: 100%|████████████████████████████████████████████████████████████████| 5/5 [00:00<00:00, 32.23it/s]\n",
      "propagate in video: 100%|████████████████████████████████████████████████████████████████| 5/5 [00:00<00:00, 21.77it/s]\n",
      "propagate in video: 100%|████████████████████████████████████████████████████████████████| 5/5 [00:00<00:00, 31.65it/s]\n",
      "propagate in video: 100%|████████████████████████████████████████████████████████████████| 5/5 [00:00<00:00, 22.36it/s]\n",
      "propagate in video: 100%|████████████████████████████████████████████████████████████████| 5/5 [00:00<00:00, 31.10it/s]\n",
      "propagate in video: 100%|████████████████████████████████████████████████████████████████| 5/5 [00:00<00:00, 21.94it/s]\n"
     ]
    },
    {
     "name": "stdout",
     "output_type": "stream",
     "text": [
      "./MnM_output_middle/R1R6Y8_ES\n"
     ]
    },
    {
     "name": "stderr",
     "output_type": "stream",
     "text": [
      "frame loading (JPEG): 100%|████████████████████████████████████████████████████████████| 10/10 [00:00<00:00, 45.74it/s]\n",
      "propagate in video: 100%|████████████████████████████████████████████████████████████████| 5/5 [00:00<00:00, 29.39it/s]\n",
      "propagate in video: 100%|████████████████████████████████████████████████████████████████| 5/5 [00:00<00:00, 21.74it/s]\n",
      "propagate in video: 100%|████████████████████████████████████████████████████████████████| 5/5 [00:00<00:00, 33.12it/s]\n",
      "propagate in video: 100%|████████████████████████████████████████████████████████████████| 5/5 [00:00<00:00, 22.02it/s]\n",
      "propagate in video: 100%|████████████████████████████████████████████████████████████████| 5/5 [00:00<00:00, 31.45it/s]\n",
      "propagate in video: 100%|████████████████████████████████████████████████████████████████| 5/5 [00:00<00:00, 21.80it/s]\n"
     ]
    },
    {
     "name": "stdout",
     "output_type": "stream",
     "text": [
      "./MnM_output_middle/R2R7Z5_ED\n"
     ]
    },
    {
     "name": "stderr",
     "output_type": "stream",
     "text": [
      "frame loading (JPEG): 100%|████████████████████████████████████████████████████████████| 11/11 [00:00<00:00, 45.54it/s]\n",
      "propagate in video: 100%|████████████████████████████████████████████████████████████████| 6/6 [00:00<00:00, 29.95it/s]\n",
      "propagate in video: 100%|████████████████████████████████████████████████████████████████| 5/5 [00:00<00:00, 21.50it/s]\n",
      "propagate in video: 100%|████████████████████████████████████████████████████████████████| 6/6 [00:00<00:00, 29.01it/s]\n",
      "propagate in video: 100%|████████████████████████████████████████████████████████████████| 5/5 [00:00<00:00, 21.87it/s]\n",
      "propagate in video: 100%|████████████████████████████████████████████████████████████████| 6/6 [00:00<00:00, 28.88it/s]\n",
      "propagate in video: 100%|████████████████████████████████████████████████████████████████| 5/5 [00:00<00:00, 21.99it/s]\n"
     ]
    },
    {
     "name": "stdout",
     "output_type": "stream",
     "text": [
      "./MnM_output_middle/R2R7Z5_ES\n"
     ]
    },
    {
     "name": "stderr",
     "output_type": "stream",
     "text": [
      "frame loading (JPEG): 100%|████████████████████████████████████████████████████████████| 10/10 [00:00<00:00, 45.05it/s]\n",
      "propagate in video: 100%|████████████████████████████████████████████████████████████████| 5/5 [00:00<00:00, 33.47it/s]\n",
      "propagate in video: 100%|████████████████████████████████████████████████████████████████| 5/5 [00:00<00:00, 22.06it/s]\n",
      "propagate in video: 100%|████████████████████████████████████████████████████████████████| 5/5 [00:00<00:00, 30.06it/s]\n",
      "propagate in video: 100%|████████████████████████████████████████████████████████████████| 5/5 [00:00<00:00, 21.80it/s]\n",
      "propagate in video: 100%|████████████████████████████████████████████████████████████████| 5/5 [00:00<00:00, 30.08it/s]\n",
      "propagate in video: 100%|████████████████████████████████████████████████████████████████| 5/5 [00:00<00:00, 21.78it/s]\n"
     ]
    },
    {
     "name": "stdout",
     "output_type": "stream",
     "text": [
      "./MnM_output_middle/R3V5W7_ED\n"
     ]
    },
    {
     "name": "stderr",
     "output_type": "stream",
     "text": [
      "frame loading (JPEG): 100%|██████████████████████████████████████████████████████████████| 9/9 [00:00<00:00, 42.31it/s]\n",
      "propagate in video: 100%|████████████████████████████████████████████████████████████████| 5/5 [00:00<00:00, 31.53it/s]\n",
      "propagate in video: 100%|████████████████████████████████████████████████████████████████| 4/4 [00:00<00:00, 21.95it/s]\n",
      "propagate in video: 100%|████████████████████████████████████████████████████████████████| 5/5 [00:00<00:00, 30.43it/s]\n",
      "propagate in video: 100%|████████████████████████████████████████████████████████████████| 4/4 [00:00<00:00, 22.25it/s]\n",
      "propagate in video: 100%|████████████████████████████████████████████████████████████████| 5/5 [00:00<00:00, 29.95it/s]\n",
      "propagate in video: 100%|████████████████████████████████████████████████████████████████| 4/4 [00:00<00:00, 22.26it/s]\n"
     ]
    },
    {
     "name": "stdout",
     "output_type": "stream",
     "text": [
      "./MnM_output_middle/R3V5W7_ES\n"
     ]
    },
    {
     "name": "stderr",
     "output_type": "stream",
     "text": [
      "frame loading (JPEG): 100%|██████████████████████████████████████████████████████████████| 8/8 [00:00<00:00, 41.16it/s]\n",
      "propagate in video: 100%|████████████████████████████████████████████████████████████████| 4/4 [00:00<00:00, 27.76it/s]\n",
      "propagate in video: 100%|████████████████████████████████████████████████████████████████| 4/4 [00:00<00:00, 21.84it/s]\n",
      "propagate in video: 100%|████████████████████████████████████████████████████████████████| 4/4 [00:00<00:00, 36.17it/s]\n",
      "propagate in video: 100%|████████████████████████████████████████████████████████████████| 4/4 [00:00<00:00, 22.76it/s]\n",
      "propagate in video: 100%|████████████████████████████████████████████████████████████████| 4/4 [00:00<00:00, 37.00it/s]\n",
      "propagate in video: 100%|████████████████████████████████████████████████████████████████| 4/4 [00:00<00:00, 22.49it/s]\n"
     ]
    },
    {
     "name": "stdout",
     "output_type": "stream",
     "text": [
      "./MnM_output_middle/R6V5W3_ED\n"
     ]
    },
    {
     "name": "stderr",
     "output_type": "stream",
     "text": [
      "frame loading (JPEG): 100%|██████████████████████████████████████████████████████████████| 6/6 [00:00<00:00, 43.84it/s]\n",
      "propagate in video: 100%|████████████████████████████████████████████████████████████████| 3/3 [00:00<00:00, 38.24it/s]\n",
      "propagate in video: 100%|████████████████████████████████████████████████████████████████| 3/3 [00:00<00:00, 22.46it/s]\n",
      "propagate in video: 100%|████████████████████████████████████████████████████████████████| 3/3 [00:00<00:00, 38.24it/s]\n",
      "propagate in video: 100%|████████████████████████████████████████████████████████████████| 3/3 [00:00<00:00, 24.37it/s]\n",
      "propagate in video: 100%|████████████████████████████████████████████████████████████████| 3/3 [00:00<00:00, 43.65it/s]\n",
      "propagate in video: 100%|████████████████████████████████████████████████████████████████| 3/3 [00:00<00:00, 23.83it/s]\n"
     ]
    },
    {
     "name": "stdout",
     "output_type": "stream",
     "text": [
      "./MnM_output_middle/R6V5W3_ES\n"
     ]
    },
    {
     "name": "stderr",
     "output_type": "stream",
     "text": [
      "frame loading (JPEG): 100%|██████████████████████████████████████████████████████████████| 5/5 [00:00<00:00, 49.15it/s]\n",
      "propagate in video: 100%|████████████████████████████████████████████████████████████████| 3/3 [00:00<00:00, 40.48it/s]\n",
      "propagate in video: 100%|████████████████████████████████████████████████████████████████| 2/2 [00:00<00:00, 23.91it/s]\n",
      "propagate in video: 100%|████████████████████████████████████████████████████████████████| 3/3 [00:00<00:00, 42.85it/s]\n",
      "propagate in video: 100%|████████████████████████████████████████████████████████████████| 2/2 [00:00<00:00, 24.35it/s]\n",
      "propagate in video: 100%|████████████████████████████████████████████████████████████████| 3/3 [00:00<00:00, 36.28it/s]\n",
      "propagate in video: 100%|████████████████████████████████████████████████████████████████| 2/2 [00:00<00:00, 25.26it/s]\n"
     ]
    },
    {
     "name": "stdout",
     "output_type": "stream",
     "text": [
      "./MnM_output_middle/R8V0Y4_ED\n"
     ]
    },
    {
     "name": "stderr",
     "output_type": "stream",
     "text": [
      "frame loading (JPEG): 100%|██████████████████████████████████████████████████████████████| 8/8 [00:00<00:00, 44.05it/s]\n",
      "propagate in video: 100%|████████████████████████████████████████████████████████████████| 4/4 [00:00<00:00, 32.99it/s]\n",
      "propagate in video: 100%|████████████████████████████████████████████████████████████████| 4/4 [00:00<00:00, 21.99it/s]\n",
      "propagate in video: 100%|████████████████████████████████████████████████████████████████| 4/4 [00:00<00:00, 34.33it/s]\n",
      "propagate in video: 100%|████████████████████████████████████████████████████████████████| 4/4 [00:00<00:00, 21.76it/s]\n",
      "propagate in video: 100%|████████████████████████████████████████████████████████████████| 4/4 [00:00<00:00, 36.35it/s]\n",
      "propagate in video: 100%|████████████████████████████████████████████████████████████████| 4/4 [00:00<00:00, 22.10it/s]\n"
     ]
    },
    {
     "name": "stdout",
     "output_type": "stream",
     "text": [
      "./MnM_output_middle/R8V0Y4_ES\n"
     ]
    },
    {
     "name": "stderr",
     "output_type": "stream",
     "text": [
      "frame loading (JPEG): 100%|██████████████████████████████████████████████████████████████| 7/7 [00:00<00:00, 46.19it/s]\n",
      "propagate in video: 100%|████████████████████████████████████████████████████████████████| 4/4 [00:00<00:00, 34.81it/s]\n",
      "propagate in video: 100%|████████████████████████████████████████████████████████████████| 3/3 [00:00<00:00, 23.11it/s]\n",
      "propagate in video: 100%|████████████████████████████████████████████████████████████████| 4/4 [00:00<00:00, 34.76it/s]\n",
      "propagate in video: 100%|████████████████████████████████████████████████████████████████| 3/3 [00:00<00:00, 21.64it/s]\n",
      "propagate in video: 100%|████████████████████████████████████████████████████████████████| 4/4 [00:00<00:00, 37.19it/s]\n",
      "propagate in video: 100%|████████████████████████████████████████████████████████████████| 3/3 [00:00<00:00, 21.20it/s]\n"
     ]
    },
    {
     "name": "stdout",
     "output_type": "stream",
     "text": [
      "./MnM_output_middle/T2Z1Z9_ED\n"
     ]
    },
    {
     "name": "stderr",
     "output_type": "stream",
     "text": [
      "frame loading (JPEG): 100%|██████████████████████████████████████████████████████████████| 8/8 [00:00<00:00, 41.55it/s]\n",
      "propagate in video: 100%|████████████████████████████████████████████████████████████████| 4/4 [00:00<00:00, 37.02it/s]\n",
      "propagate in video: 100%|████████████████████████████████████████████████████████████████| 4/4 [00:00<00:00, 22.92it/s]\n",
      "propagate in video: 100%|████████████████████████████████████████████████████████████████| 4/4 [00:00<00:00, 33.99it/s]\n",
      "propagate in video: 100%|████████████████████████████████████████████████████████████████| 4/4 [00:00<00:00, 22.60it/s]\n",
      "propagate in video: 100%|████████████████████████████████████████████████████████████████| 4/4 [00:00<00:00, 32.51it/s]\n",
      "propagate in video: 100%|████████████████████████████████████████████████████████████████| 4/4 [00:00<00:00, 21.39it/s]\n"
     ]
    },
    {
     "name": "stdout",
     "output_type": "stream",
     "text": [
      "./MnM_output_middle/T2Z1Z9_ES\n"
     ]
    },
    {
     "name": "stderr",
     "output_type": "stream",
     "text": [
      "frame loading (JPEG): 100%|██████████████████████████████████████████████████████████████| 7/7 [00:00<00:00, 41.05it/s]\n",
      "propagate in video: 100%|████████████████████████████████████████████████████████████████| 4/4 [00:00<00:00, 34.44it/s]\n",
      "propagate in video: 100%|████████████████████████████████████████████████████████████████| 3/3 [00:00<00:00, 22.78it/s]\n",
      "propagate in video: 100%|████████████████████████████████████████████████████████████████| 4/4 [00:00<00:00, 33.56it/s]\n",
      "propagate in video: 100%|████████████████████████████████████████████████████████████████| 3/3 [00:00<00:00, 22.65it/s]\n",
      "propagate in video: 100%|████████████████████████████████████████████████████████████████| 4/4 [00:00<00:00, 32.82it/s]\n",
      "propagate in video: 100%|████████████████████████████████████████████████████████████████| 3/3 [00:00<00:00, 22.14it/s]\n"
     ]
    },
    {
     "name": "stdout",
     "output_type": "stream",
     "text": [
      "./MnM_output_middle/V4W8Z5_ED\n"
     ]
    },
    {
     "name": "stderr",
     "output_type": "stream",
     "text": [
      "frame loading (JPEG): 100%|██████████████████████████████████████████████████████████████| 8/8 [00:00<00:00, 41.74it/s]\n",
      "propagate in video: 100%|████████████████████████████████████████████████████████████████| 4/4 [00:00<00:00, 37.62it/s]\n",
      "propagate in video: 100%|████████████████████████████████████████████████████████████████| 4/4 [00:00<00:00, 21.66it/s]\n",
      "propagate in video: 100%|████████████████████████████████████████████████████████████████| 4/4 [00:00<00:00, 36.25it/s]\n",
      "propagate in video: 100%|████████████████████████████████████████████████████████████████| 4/4 [00:00<00:00, 22.97it/s]\n",
      "propagate in video: 100%|████████████████████████████████████████████████████████████████| 4/4 [00:00<00:00, 29.73it/s]\n",
      "propagate in video: 100%|████████████████████████████████████████████████████████████████| 4/4 [00:00<00:00, 21.69it/s]\n"
     ]
    },
    {
     "name": "stdout",
     "output_type": "stream",
     "text": [
      "./MnM_output_middle/V4W8Z5_ES\n"
     ]
    },
    {
     "name": "stderr",
     "output_type": "stream",
     "text": [
      "frame loading (JPEG): 100%|██████████████████████████████████████████████████████████████| 7/7 [00:00<00:00, 40.02it/s]\n",
      "propagate in video: 100%|████████████████████████████████████████████████████████████████| 4/4 [00:00<00:00, 33.74it/s]\n",
      "propagate in video: 100%|████████████████████████████████████████████████████████████████| 3/3 [00:00<00:00, 22.52it/s]\n",
      "propagate in video: 100%|████████████████████████████████████████████████████████████████| 4/4 [00:00<00:00, 33.48it/s]\n",
      "propagate in video: 100%|████████████████████████████████████████████████████████████████| 3/3 [00:00<00:00, 22.13it/s]\n",
      "propagate in video: 100%|████████████████████████████████████████████████████████████████| 4/4 [00:00<00:00, 33.32it/s]\n",
      "propagate in video: 100%|████████████████████████████████████████████████████████████████| 3/3 [00:00<00:00, 22.91it/s]\n"
     ]
    },
    {
     "name": "stdout",
     "output_type": "stream",
     "text": [
      "./MnM_output_middle/Y6Y9Z2_ED\n"
     ]
    },
    {
     "name": "stderr",
     "output_type": "stream",
     "text": [
      "frame loading (JPEG): 100%|████████████████████████████████████████████████████████████| 10/10 [00:00<00:00, 42.46it/s]\n",
      "propagate in video: 100%|████████████████████████████████████████████████████████████████| 5/5 [00:00<00:00, 31.51it/s]\n",
      "propagate in video: 100%|████████████████████████████████████████████████████████████████| 5/5 [00:00<00:00, 20.92it/s]\n",
      "propagate in video: 100%|████████████████████████████████████████████████████████████████| 5/5 [00:00<00:00, 31.47it/s]\n",
      "propagate in video: 100%|████████████████████████████████████████████████████████████████| 5/5 [00:00<00:00, 21.97it/s]\n",
      "propagate in video: 100%|████████████████████████████████████████████████████████████████| 5/5 [00:00<00:00, 31.65it/s]\n",
      "propagate in video: 100%|████████████████████████████████████████████████████████████████| 5/5 [00:00<00:00, 21.62it/s]\n"
     ]
    },
    {
     "name": "stdout",
     "output_type": "stream",
     "text": [
      "./MnM_output_middle/Y6Y9Z2_ES\n"
     ]
    },
    {
     "name": "stderr",
     "output_type": "stream",
     "text": [
      "frame loading (JPEG): 100%|████████████████████████████████████████████████████████████| 10/10 [00:00<00:00, 44.24it/s]\n",
      "propagate in video: 100%|████████████████████████████████████████████████████████████████| 5/5 [00:00<00:00, 31.37it/s]\n",
      "propagate in video: 100%|████████████████████████████████████████████████████████████████| 5/5 [00:00<00:00, 21.54it/s]\n",
      "propagate in video: 100%|████████████████████████████████████████████████████████████████| 5/5 [00:00<00:00, 32.54it/s]\n",
      "propagate in video: 100%|████████████████████████████████████████████████████████████████| 5/5 [00:00<00:00, 20.71it/s]\n",
      "propagate in video: 100%|████████████████████████████████████████████████████████████████| 5/5 [00:00<00:00, 31.12it/s]\n",
      "propagate in video: 100%|████████████████████████████████████████████████████████████████| 5/5 [00:00<00:00, 22.23it/s]\n"
     ]
    },
    {
     "name": "stdout",
     "output_type": "stream",
     "text": [
      "Dice scores saved to dice_sam_input_sam2_mnm_finetuned_small.csv\n"
     ]
    }
   ],
   "source": [
    "import csv\n",
    "import torch\n",
    "from monai.metrics import DiceHelper, compute_surface_dice\n",
    "\n",
    "# Define paths to image and mask directories\n",
    "#video_dir = \"./videos/Test/\"\n",
    "video_dir = \"./videos/MedicalSAM2_Test\"\n",
    "images_dir = os.path.join(video_dir, \"image\")\n",
    "masks_dir = os.path.join(video_dir, \"mask\")\n",
    "\n",
    "#middle_masks_dir = \"./sam_output_middle/\"\n",
    "middle_masks_dir = \"./MnM_output_middle/\"\n",
    "\n",
    "# Initialize an empty list to collect scores\n",
    "results = []\n",
    "\n",
    "# Iterate through each patient folder in the images directory\n",
    "for patient_folder in os.listdir(images_dir):\n",
    "    patient_images_path = os.path.join(images_dir, patient_folder)\n",
    "    patient_masks_path = os.path.join(masks_dir, patient_folder)\n",
    "    middle_patient_masks_path = os.path.join(middle_masks_dir, patient_folder)\n",
    "    \n",
    "    # Get all JPEG frame names in the patient's images folder\n",
    "    frame_names = [\n",
    "        p for p in os.listdir(patient_images_path)\n",
    "        if os.path.splitext(p)[-1] in [\".jpg\", \".jpeg\", \".JPG\", \".JPEG\"]\n",
    "    ]\n",
    "    frame_names.sort(key=lambda p: int(os.path.splitext(p)[0]))  # Sort by frame number\n",
    "    frame_idx = len(frame_names) // 2\n",
    "   \n",
    "    # Mask Ground truth - middle slice\n",
    "    print(middle_patient_masks_path)\n",
    "    out_mask_logits = np.load(os.path.join(middle_patient_masks_path, frame_names[frame_idx].replace(\".jpg\", \".npy\")))\n",
    "    \n",
    "    # run propagation to get the mask for the entire video\n",
    "    inference_state = predictor.init_state(video_path=patient_images_path)\n",
    "\n",
    "    ann_obj_id = 1\n",
    "    \n",
    "    # Initialize dictionaries to store video segments for each class\n",
    "    class_1_segments = {}\n",
    "    class_2_segments = {}\n",
    "    class_3_segments = {}\n",
    "    \n",
    "    for class_id in [1, 2, 3]:\n",
    "        \n",
    "        # Need to reset state for each class\n",
    "        predictor.reset_state(inference_state)\n",
    "        \n",
    "        # Add new mask for the current class\n",
    "        predictor.add_new_mask(inference_state=inference_state, frame_idx=frame_idx, obj_id=ann_obj_id, mask=out_mask_logits == class_id)\n",
    "        \n",
    "        # Initialize video_segments for this class\n",
    "        video_segments = {}  # video_segments contains the per-frame segmentation results\n",
    "    \n",
    "        # Direct propagation   \n",
    "        for out_frame_idx, out_obj_ids, class_mask in predictor.propagate_in_video(inference_state):\n",
    "            # Store results for the current class in the appropriate variable\n",
    "            for i, out_obj_id in enumerate(out_obj_ids):\n",
    "                class_mask_np = (class_mask[i] > 0.0).cpu().numpy()\n",
    "                if class_id == 1:\n",
    "                    class_1_segments[out_frame_idx] = {out_obj_id: class_mask_np}\n",
    "                elif class_id == 2:\n",
    "                    class_2_segments[out_frame_idx] = {out_obj_id: class_mask_np}\n",
    "                elif class_id == 3:\n",
    "                    class_3_segments[out_frame_idx] = {out_obj_id: class_mask_np}\n",
    "    \n",
    "        # Reverse propagation    \n",
    "        for out_frame_idx, out_obj_ids, class_mask in predictor.propagate_in_video(inference_state, start_frame_idx=frame_idx-1, reverse=True):\n",
    "            # Store results for the current class in the appropriate variable\n",
    "            for i, out_obj_id in enumerate(out_obj_ids):\n",
    "                class_mask_np = (class_mask[i] > 0.0).cpu().numpy()\n",
    "                if class_id == 1:\n",
    "                    class_1_segments[out_frame_idx] = {out_obj_id: class_mask_np}\n",
    "                elif class_id == 2:\n",
    "                    class_2_segments[out_frame_idx] = {out_obj_id: class_mask_np}\n",
    "                elif class_id == 3:\n",
    "                    class_3_segments[out_frame_idx] = {out_obj_id: class_mask_np}\n",
    "    \n",
    "    # Class LV\n",
    "    video_seg_3d_1 = np.stack([class_1_segments[k][1] for k in class_1_segments])\n",
    "    video_seg_3d_2 = np.stack([class_2_segments[k][1] for k in class_2_segments])\n",
    "    video_seg_3d_3 = np.stack([class_3_segments[k][1] for k in class_3_segments])\n",
    "    #gt_3d = np.stack([np.load(os.path.join(video_dir, frame_names[k].replace(\".jpg\", \".npy\")))[None] for k in class_1_segments])\n",
    "    \n",
    "    # Initialize empty lists to hold the 3D arrays for each class (0, 1, 2, 3)\n",
    "    gt_3d_class_0 = []\n",
    "    gt_3d_class_1 = []\n",
    "    gt_3d_class_2 = []\n",
    "    gt_3d_class_3 = []\n",
    "    \n",
    "    # Iterate through class_1_segments to load the .npy files and process them\n",
    "    for k in class_1_segments:\n",
    "        # Load the .npy file corresponding to frame_names[k]\n",
    "        frame_path = os.path.join(patient_masks_path, frame_names[k].replace(\".jpg\", \".npy\"))\n",
    "        mask = np.load(frame_path)\n",
    "        \n",
    "        # Create separate binary masks for each class (0, 1, 2, 3)\n",
    "        mask_class_0 = (mask == 0).astype(np.uint8)  # 1 for class 0, 0 otherwise\n",
    "        mask_class_1 = (mask == 1).astype(np.uint8)  # 1 for class 1, 0 otherwise\n",
    "        mask_class_2 = (mask == 2).astype(np.uint8)  # 1 for class 2, 0 otherwise\n",
    "        mask_class_3 = (mask == 3).astype(np.uint8)  # 1 for class 3, 0 otherwise\n",
    "        \n",
    "        # Append each binary mask (with new axis) to the corresponding list\n",
    "        gt_3d_class_0.append(mask_class_0[None])  # Shape will be (1, height, width)\n",
    "        gt_3d_class_1.append(mask_class_1[None])\n",
    "        gt_3d_class_2.append(mask_class_2[None])\n",
    "        gt_3d_class_3.append(mask_class_3[None])\n",
    "    \n",
    "    # Stack the lists into 3D arrays\n",
    "    gt_3d_class_0 = np.stack(gt_3d_class_0)  # Shape: (num_frames, 1, height, width)\n",
    "    gt_3d_class_1 = np.stack(gt_3d_class_1)\n",
    "    gt_3d_class_2 = np.stack(gt_3d_class_2)\n",
    "    gt_3d_class_3 = np.stack(gt_3d_class_3)\n",
    "    \n",
    "    # Class RV\n",
    "    n_classes, batch_size = 1, 1\n",
    "    \n",
    "    spatial_shape = (video_seg_3d_1.shape[0], video_seg_3d_1.shape[2], video_seg_3d_1.shape[3]) \n",
    "    y_pred = torch.tensor(video_seg_3d_1).float().reshape(batch_size, n_classes, *spatial_shape)  # prediction\n",
    "    y = torch.tensor(gt_3d_class_1).float().reshape(batch_size, n_classes, *spatial_shape)  # ground truth\n",
    "    \n",
    "    score, not_nans = DiceHelper(include_background=False, sigmoid=True, softmax=True)(y_pred, y)\n",
    "    #print(f\"Patient folder: {os.path.basename(patient_images_path)}, RV dice score: {score}\")\n",
    "    rv_score = score.item()  # Convert to Python float if it's a tensor\n",
    "    \n",
    "    # Class MYO\n",
    "    spatial_shape = (video_seg_3d_2.shape[0], video_seg_3d_2.shape[2], video_seg_3d_2.shape[3]) \n",
    "    y_pred = torch.tensor(video_seg_3d_2).float().reshape(batch_size, n_classes, *spatial_shape)  # prediction\n",
    "    y = torch.tensor(gt_3d_class_2).float().reshape(batch_size, n_classes, *spatial_shape)  # ground truth\n",
    "    \n",
    "    score, not_nans = DiceHelper(include_background=False, sigmoid=True, softmax=True)(y_pred, y)\n",
    "    #print('MYO dice score:', score)\n",
    "    myo_score = score.item()\n",
    "    \n",
    "    # Class LV\n",
    "    spatial_shape = (video_seg_3d_3.shape[0], video_seg_3d_3.shape[2], video_seg_3d_3.shape[3]) \n",
    "    y_pred = torch.tensor(video_seg_3d_3).float().reshape(batch_size, n_classes, *spatial_shape)  # prediction\n",
    "    y = torch.tensor(gt_3d_class_3).float().reshape(batch_size, n_classes, *spatial_shape)  # ground truth\n",
    "    \n",
    "    score, not_nans = DiceHelper(include_background=False, sigmoid=True, softmax=True)(y_pred, y)\n",
    "    #print('LV dice score:', score)\n",
    "    lv_score = score.item()\n",
    "\n",
    "    # Append results for this patient\n",
    "    results.append([os.path.basename(patient_images_path), rv_score, myo_score, lv_score])\n",
    "\n",
    "\n",
    "# Write all results to CSV\n",
    "csv_path = \"dice_sam_input_sam2_mnm_finetuned_small.csv\"\n",
    "with open(csv_path, mode=\"w\", newline=\"\") as file:\n",
    "    writer = csv.writer(file)\n",
    "    writer.writerow([\"Patient Folder\", \"RV Dice Score\", \"MYO Dice Score\", \"LV Dice Score\"])\n",
    "    writer.writerows(results)\n",
    "\n",
    "print(f\"Dice scores saved to {csv_path}\")\n"
   ]
  },
  {
   "cell_type": "code",
   "execution_count": null,
   "id": "377e8dee-7130-4b7a-b874-5ffc56dd0129",
   "metadata": {},
   "outputs": [],
   "source": []
  }
 ],
 "metadata": {
  "kernelspec": {
   "display_name": "Python 3 (ipykernel)",
   "language": "python",
   "name": "python3"
  },
  "language_info": {
   "codemirror_mode": {
    "name": "ipython",
    "version": 3
   },
   "file_extension": ".py",
   "mimetype": "text/x-python",
   "name": "python",
   "nbconvert_exporter": "python",
   "pygments_lexer": "ipython3",
   "version": "3.12.4"
  }
 },
 "nbformat": 4,
 "nbformat_minor": 5
}
